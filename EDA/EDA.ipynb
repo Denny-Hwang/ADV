{
 "cells": [
  {
   "cell_type": "code",
   "execution_count": 2,
   "metadata": {
    "ExecuteTime": {
     "end_time": "2019-10-16T12:09:44.236194Z",
     "start_time": "2019-10-16T12:09:44.230197Z"
    }
   },
   "outputs": [],
   "source": [
    "import pandas as pd\n",
    "import numpy as np\n",
    "import warnings"
   ]
  },
  {
   "cell_type": "code",
   "execution_count": 3,
   "metadata": {
    "ExecuteTime": {
     "end_time": "2019-10-16T12:10:08.661215Z",
     "start_time": "2019-10-16T12:10:08.657216Z"
    }
   },
   "outputs": [],
   "source": [
    "warnings.filterwarnings(action='ignore')"
   ]
  },
  {
   "cell_type": "code",
   "execution_count": 4,
   "metadata": {
    "ExecuteTime": {
     "end_time": "2019-10-16T12:10:47.472008Z",
     "start_time": "2019-10-16T12:10:09.733600Z"
    }
   },
   "outputs": [],
   "source": [
    "df = pd.read_hdf('../data/tokenized_10thousand.hdf')"
   ]
  },
  {
   "cell_type": "code",
   "execution_count": 5,
   "metadata": {
    "ExecuteTime": {
     "end_time": "2019-10-16T12:10:48.187615Z",
     "start_time": "2019-10-16T12:10:47.793826Z"
    }
   },
   "outputs": [
    {
     "data": {
      "text/html": [
       "<div>\n",
       "<style scoped>\n",
       "    .dataframe tbody tr th:only-of-type {\n",
       "        vertical-align: middle;\n",
       "    }\n",
       "\n",
       "    .dataframe tbody tr th {\n",
       "        vertical-align: top;\n",
       "    }\n",
       "\n",
       "    .dataframe thead th {\n",
       "        text-align: right;\n",
       "    }\n",
       "</style>\n",
       "<table border=\"1\" class=\"dataframe\">\n",
       "  <thead>\n",
       "    <tr style=\"text-align: right;\">\n",
       "      <th></th>\n",
       "      <th>original</th>\n",
       "      <th>translation</th>\n",
       "    </tr>\n",
       "  </thead>\n",
       "  <tbody>\n",
       "    <tr>\n",
       "      <th>0</th>\n",
       "      <td>[○, 丙, 申, /, 十, 七, 日, 丙, 申, ,, 太, 祖, 卽, 位, 于, ...</td>\n",
       "      <td>[태조/NNP, 가/JKS, 수창/NNP, 궁/NNG, 에서/JKB, 왕위/NNP,...</td>\n",
       "    </tr>\n",
       "    <tr>\n",
       "      <th>1</th>\n",
       "      <td>[○, 上, 在, 潛, 邸, ,, 夢, 有, 神, 人, 執, 金, 尺, 自, 天, ...</td>\n",
       "      <td>[임금/NNG, 이/JKS, 잠/NNG, 저/NNG, 에/JKB, 있/VV, 을/E...</td>\n",
       "    </tr>\n",
       "    <tr>\n",
       "      <th>2</th>\n",
       "      <td>[○, 丁, 酉, /, 雨, 。, 前, 此, 久, 旱, ,, 及, 上, 卽, 位, ...</td>\n",
       "      <td>[비/NNG, 가/JKS, 내리/VV, 었/EP, 다/EF, ./SF, 이/NP, ...</td>\n",
       "    </tr>\n",
       "    <tr>\n",
       "      <th>3</th>\n",
       "      <td>[竊, 謂, 小, 邦, ,, 至, 恭, 愍, 王, 薨, 無, 嗣, ,, 逆, 臣, ...</td>\n",
       "      <td>[도평의사사/NNP, 및/MAJ, 대소/NNG, 신료와/NA, 한량/NNP, ·/S...</td>\n",
       "    </tr>\n",
       "    <tr>\n",
       "      <th>4</th>\n",
       "      <td>[○, 立, 義, 興, 親, 軍, 衛, ,, 罷, 都, 摠, 中, 外, 諸, 軍, ...</td>\n",
       "      <td>[의/NNG, 흥/NNG, 친군위/NNG, 를/JKO, 설치/NNG, 하/XSV, ...</td>\n",
       "    </tr>\n",
       "  </tbody>\n",
       "</table>\n",
       "</div>"
      ],
      "text/plain": [
       "                                            original  \\\n",
       "0  [○, 丙, 申, /, 十, 七, 日, 丙, 申, ,, 太, 祖, 卽, 位, 于, ...   \n",
       "1  [○, 上, 在, 潛, 邸, ,, 夢, 有, 神, 人, 執, 金, 尺, 自, 天, ...   \n",
       "2  [○, 丁, 酉, /, 雨, 。, 前, 此, 久, 旱, ,, 及, 上, 卽, 位, ...   \n",
       "3  [竊, 謂, 小, 邦, ,, 至, 恭, 愍, 王, 薨, 無, 嗣, ,, 逆, 臣, ...   \n",
       "4  [○, 立, 義, 興, 親, 軍, 衛, ,, 罷, 都, 摠, 中, 外, 諸, 軍, ...   \n",
       "\n",
       "                                         translation  \n",
       "0  [태조/NNP, 가/JKS, 수창/NNP, 궁/NNG, 에서/JKB, 왕위/NNP,...  \n",
       "1  [임금/NNG, 이/JKS, 잠/NNG, 저/NNG, 에/JKB, 있/VV, 을/E...  \n",
       "2  [비/NNG, 가/JKS, 내리/VV, 었/EP, 다/EF, ./SF, 이/NP, ...  \n",
       "3  [도평의사사/NNP, 및/MAJ, 대소/NNG, 신료와/NA, 한량/NNP, ·/S...  \n",
       "4  [의/NNG, 흥/NNG, 친군위/NNG, 를/JKO, 설치/NNG, 하/XSV, ...  "
      ]
     },
     "execution_count": 5,
     "metadata": {},
     "output_type": "execute_result"
    }
   ],
   "source": [
    "df.head()"
   ]
  },
  {
   "cell_type": "code",
   "execution_count": 6,
   "metadata": {
    "ExecuteTime": {
     "end_time": "2019-10-16T12:10:48.286541Z",
     "start_time": "2019-10-16T12:10:48.195594Z"
    }
   },
   "outputs": [
    {
     "name": "stdout",
     "output_type": "stream",
     "text": [
      "<class 'pandas.core.frame.DataFrame'>\n",
      "Int64Index: 99996 entries, 0 to 99995\n",
      "Data columns (total 2 columns):\n",
      "original       99996 non-null object\n",
      "translation    99996 non-null object\n",
      "dtypes: object(2)\n",
      "memory usage: 2.3+ MB\n"
     ]
    }
   ],
   "source": [
    "df.info()"
   ]
  },
  {
   "cell_type": "code",
   "execution_count": 7,
   "metadata": {
    "ExecuteTime": {
     "end_time": "2019-10-16T12:10:48.319526Z",
     "start_time": "2019-10-16T12:10:48.301533Z"
    }
   },
   "outputs": [],
   "source": [
    "origin, translation = df.original, df.translation"
   ]
  },
  {
   "cell_type": "code",
   "execution_count": 8,
   "metadata": {
    "ExecuteTime": {
     "end_time": "2019-10-16T12:10:48.355502Z",
     "start_time": "2019-10-16T12:10:48.327519Z"
    }
   },
   "outputs": [],
   "source": [
    "from collections import Counter"
   ]
  },
  {
   "cell_type": "code",
   "execution_count": 9,
   "metadata": {
    "ExecuteTime": {
     "end_time": "2019-10-16T12:11:04.551253Z",
     "start_time": "2019-10-16T12:10:48.361501Z"
    }
   },
   "outputs": [
    {
     "data": {
      "text/plain": [
       "0        None\n",
       "1        None\n",
       "2        None\n",
       "3        None\n",
       "4        None\n",
       "5        None\n",
       "6        None\n",
       "7        None\n",
       "8        None\n",
       "9        None\n",
       "10       None\n",
       "11       None\n",
       "12       None\n",
       "13       None\n",
       "14       None\n",
       "15       None\n",
       "16       None\n",
       "17       None\n",
       "18       None\n",
       "19       None\n",
       "20       None\n",
       "21       None\n",
       "22       None\n",
       "23       None\n",
       "24       None\n",
       "25       None\n",
       "26       None\n",
       "27       None\n",
       "28       None\n",
       "29       None\n",
       "         ... \n",
       "99966    None\n",
       "99967    None\n",
       "99968    None\n",
       "99969    None\n",
       "99970    None\n",
       "99971    None\n",
       "99972    None\n",
       "99973    None\n",
       "99974    None\n",
       "99975    None\n",
       "99976    None\n",
       "99977    None\n",
       "99978    None\n",
       "99979    None\n",
       "99980    None\n",
       "99981    None\n",
       "99982    None\n",
       "99983    None\n",
       "99984    None\n",
       "99985    None\n",
       "99986    None\n",
       "99987    None\n",
       "99988    None\n",
       "99989    None\n",
       "99990    None\n",
       "99991    None\n",
       "99992    None\n",
       "99993    None\n",
       "99994    None\n",
       "99995    None\n",
       "Name: original, Length: 99996, dtype: object"
      ]
     },
     "execution_count": 9,
     "metadata": {},
     "output_type": "execute_result"
    }
   ],
   "source": [
    "merged = []\n",
    "origin.apply(lambda x:merged.extend(x))"
   ]
  },
  {
   "cell_type": "code",
   "execution_count": 10,
   "metadata": {
    "ExecuteTime": {
     "end_time": "2019-10-16T12:11:07.973295Z",
     "start_time": "2019-10-16T12:11:04.575224Z"
    }
   },
   "outputs": [],
   "source": [
    "origin_most = Counter(merged).most_common()[:100]"
   ]
  },
  {
   "cell_type": "code",
   "execution_count": 11,
   "metadata": {
    "ExecuteTime": {
     "end_time": "2019-10-16T12:11:12.587636Z",
     "start_time": "2019-10-16T12:11:07.988272Z"
    }
   },
   "outputs": [],
   "source": [
    "import seaborn as sns\n",
    "from matplotlib import pyplot as plt"
   ]
  },
  {
   "cell_type": "code",
   "execution_count": 12,
   "metadata": {
    "ExecuteTime": {
     "end_time": "2019-10-16T12:11:12.632627Z",
     "start_time": "2019-10-16T12:11:12.595634Z"
    }
   },
   "outputs": [],
   "source": [
    "origin_most = pd.DataFrame(origin_most)"
   ]
  },
  {
   "cell_type": "code",
   "execution_count": 13,
   "metadata": {
    "ExecuteTime": {
     "end_time": "2019-10-16T12:11:12.708568Z",
     "start_time": "2019-10-16T12:11:12.637609Z"
    }
   },
   "outputs": [
    {
     "name": "stdout",
     "output_type": "stream",
     "text": [
      "<class 'pandas.core.frame.DataFrame'>\n",
      "RangeIndex: 100 entries, 0 to 99\n",
      "Data columns (total 2 columns):\n",
      "0    100 non-null object\n",
      "1    100 non-null int64\n",
      "dtypes: int64(1), object(1)\n",
      "memory usage: 1.6+ KB\n"
     ]
    }
   ],
   "source": [
    "origin_most.info()"
   ]
  },
  {
   "cell_type": "code",
   "execution_count": 16,
   "metadata": {
    "ExecuteTime": {
     "end_time": "2019-10-16T12:13:00.306003Z",
     "start_time": "2019-10-16T12:12:46.883686Z"
    }
   },
   "outputs": [
    {
     "data": {
      "text/plain": [
       "0        None\n",
       "1        None\n",
       "2        None\n",
       "3        None\n",
       "4        None\n",
       "5        None\n",
       "6        None\n",
       "7        None\n",
       "8        None\n",
       "9        None\n",
       "10       None\n",
       "11       None\n",
       "12       None\n",
       "13       None\n",
       "14       None\n",
       "15       None\n",
       "16       None\n",
       "17       None\n",
       "18       None\n",
       "19       None\n",
       "20       None\n",
       "21       None\n",
       "22       None\n",
       "23       None\n",
       "24       None\n",
       "25       None\n",
       "26       None\n",
       "27       None\n",
       "28       None\n",
       "29       None\n",
       "         ... \n",
       "99966    None\n",
       "99967    None\n",
       "99968    None\n",
       "99969    None\n",
       "99970    None\n",
       "99971    None\n",
       "99972    None\n",
       "99973    None\n",
       "99974    None\n",
       "99975    None\n",
       "99976    None\n",
       "99977    None\n",
       "99978    None\n",
       "99979    None\n",
       "99980    None\n",
       "99981    None\n",
       "99982    None\n",
       "99983    None\n",
       "99984    None\n",
       "99985    None\n",
       "99986    None\n",
       "99987    None\n",
       "99988    None\n",
       "99989    None\n",
       "99990    None\n",
       "99991    None\n",
       "99992    None\n",
       "99993    None\n",
       "99994    None\n",
       "99995    None\n",
       "Name: translation, Length: 99996, dtype: object"
      ]
     },
     "execution_count": 16,
     "metadata": {},
     "output_type": "execute_result"
    }
   ],
   "source": [
    "merged = []\n",
    "translation.apply(lambda x:merged.extend(x))"
   ]
  },
  {
   "cell_type": "code",
   "execution_count": 20,
   "metadata": {
    "ExecuteTime": {
     "end_time": "2019-10-16T12:14:16.443490Z",
     "start_time": "2019-10-16T12:14:12.416748Z"
    }
   },
   "outputs": [],
   "source": [
    "trans_most = pd.DataFrame(Counter(merged).most_common()[:100])"
   ]
  },
  {
   "cell_type": "code",
   "execution_count": 22,
   "metadata": {
    "ExecuteTime": {
     "end_time": "2019-10-16T12:14:21.033822Z",
     "start_time": "2019-10-16T12:14:20.960856Z"
    }
   },
   "outputs": [
    {
     "name": "stdout",
     "output_type": "stream",
     "text": [
      "<class 'pandas.core.frame.DataFrame'>\n",
      "RangeIndex: 100 entries, 0 to 99\n",
      "Data columns (total 2 columns):\n",
      "0    100 non-null object\n",
      "1    100 non-null int64\n",
      "dtypes: int64(1), object(1)\n",
      "memory usage: 1.6+ KB\n"
     ]
    }
   ],
   "source": [
    "trans_most.info()"
   ]
  },
  {
   "cell_type": "code",
   "execution_count": 30,
   "metadata": {
    "ExecuteTime": {
     "end_time": "2019-10-16T12:20:15.530628Z",
     "start_time": "2019-10-16T12:20:15.419690Z"
    }
   },
   "outputs": [],
   "source": [
    "origin_most.reset_index(inplace=True)\n",
    "trans_most.reset_index(inplace=True)"
   ]
  },
  {
   "cell_type": "code",
   "execution_count": 53,
   "metadata": {
    "ExecuteTime": {
     "end_time": "2019-10-16T12:34:59.670199Z",
     "start_time": "2019-10-16T12:34:11.012042Z"
    }
   },
   "outputs": [
    {
     "data": {
      "image/png": "[encoded data removed]",
      "text/plain": [
       "<Figure size 1584x720 with 1 Axes>"
      ]
     },
     "metadata": {
      "needs_background": "light"
     },
     "output_type": "display_data"
    }
   ],
   "source": [
    "plt.figure(figsize=(22,10))\n",
    "plt.axes(title='Token Count', xlabel=False)\n",
    "sns.barplot(x ='index', y=1, data=origin_most, label='original')\n",
    "sns.lineplot(x='index',y=1, data=trans_most, label='translated')\n",
    "plt.savefig('./count')"
   ]
  },
  {
   "cell_type": "code",
   "execution_count": 61,
   "metadata": {
    "ExecuteTime": {
     "end_time": "2019-10-16T12:38:25.809402Z",
     "start_time": "2019-10-16T12:38:25.756434Z"
    }
   },
   "outputs": [],
   "source": [
    "origin_most.drop(columns='index', inplace=True)\n",
    "\n",
    "origin_most.rename({0:'character', 1:'count'}, axis=1, inplace=True)\n",
    "\n",
    "origin_most.to_json('./original_token_count.json')"
   ]
  },
  {
   "cell_type": "code",
   "execution_count": 69,
   "metadata": {
    "ExecuteTime": {
     "end_time": "2019-10-16T12:41:39.729449Z",
     "start_time": "2019-10-16T12:41:39.701471Z"
    }
   },
   "outputs": [],
   "source": [
    "trans_most.drop(columns='index', inplace=True)\n",
    "\n",
    "trans_most.rename({0:'character', 1:'count'}, axis=1, inplace=True)\n",
    "\n",
    "trans_most.to_json('./translated_token_count.json')"
   ]
  },
  {
   "cell_type": "code",
   "execution_count": 71,
   "metadata": {
    "ExecuteTime": {
     "end_time": "2019-10-16T12:43:29.365717Z",
     "start_time": "2019-10-16T12:43:29.357726Z"
    }
   },
   "outputs": [],
   "source": [
    "import json"
   ]
  },
  {
   "cell_type": "code",
   "execution_count": 84,
   "metadata": {
    "ExecuteTime": {
     "end_time": "2019-10-16T12:46:25.458964Z",
     "start_time": "2019-10-16T12:46:25.441979Z"
    }
   },
   "outputs": [
    {
     "name": "stdout",
     "output_type": "stream",
     "text": [
      "{'character': {'0': ',', '1': '。', '2': '\"', '3': '之', '4': '、', '5': ':', '6': '不', '7': '以', '8': '曰', '9': '○', '10': '人', '11': '其', '12': '上', '13': '事', '14': '爲', '15': '而', '16': '等', '17': '啓', '18': '者', '19': '一', '20': '可', '21': '有', '22': '也', '23': '則', '24': '於', '25': '臣', '26': '?', '27': '使', '28': '今', '29': '大', '30': '議', '31': '官', '32': '所', '33': '無', '34': '道', '35': '曹', '36': '此', '37': '府', '38': '言', '39': '司', '40': '十', '41': '子', '42': '令', '43': '李', '44': '日', '45': '請', '46': '/', '47': '如', '48': '從', '49': '政', '50': '命', '51': '下', '52': '行', '53': '知', '54': '三', '55': '未', '56': '于', '57': '何', '58': '金', '59': '亦', '60': '來', '61': '國', '62': '然', '63': '傳', '64': '禮', '65': '時', '66': '罪', '67': '二', '68': '自', '69': '安', '70': '中', '71': '及', '72': '軍', '73': '前', '74': '當', '75': '宗', '76': '書', '77': '至', '78': '非', '79': '後', '80': '文', '81': '年', '82': '若', '83': '皆', '84': '朝', '85': '承', '86': '又', '87': '是', '88': '已', '89': '殿', '90': '雖', '91': '得', '92': '本', '93': '矣', '94': '與', '95': '予', '96': '民', '97': '乎', '98': '‘', '99': '’'}, 'count': {'0': 866890, '1': 377838, '2': 232289, '3': 218761, '4': 140858, '5': 132916, '6': 132589, '7': 111593, '8': 99186, '9': 87661, '10': 73397, '11': 71737, '12': 68780, '13': 63329, '14': 62481, '15': 59911, '16': 58074, '17': 57887, '18': 57716, '19': 52807, '20': 52584, '21': 52245, '22': 52170, '23': 50740, '24': 50324, '25': 50237, '26': 47838, '27': 47520, '28': 44978, '29': 44203, '30': 40798, '31': 40605, '32': 39043, '33': 36705, '34': 35758, '35': 35064, '36': 35038, '37': 34993, '38': 33519, '39': 33023, '40': 32871, '41': 32411, '42': 31780, '43': 31480, '44': 31384, '45': 31344, '46': 31021, '47': 29188, '48': 28781, '49': 28577, '50': 28526, '51': 28348, '52': 28281, '53': 28062, '54': 27867, '55': 26200, '56': 25663, '57': 25483, '58': 25423, '59': 25342, '60': 25313, '61': 24994, '62': 24958, '63': 24934, '64': 24548, '65': 24336, '66': 24239, '67': 24126, '68': 23680, '69': 23648, '70': 23399, '71': 23227, '72': 23172, '73': 23125, '74': 22738, '75': 22608, '76': 22590, '77': 22532, '78': 22429, '79': 22299, '80': 22081, '81': 21956, '82': 21826, '83': 21122, '84': 20846, '85': 20716, '86': 20710, '87': 20401, '88': 20327, '89': 20247, '90': 19674, '91': 19547, '92': 19494, '93': 19319, '94': 19272, '95': 19227, '96': 19026, '97': 18962, '98': 18933, '99': 18719}}\n"
     ]
    }
   ],
   "source": [
    "with open('./original_token_count.json') as js:\n",
    "    print(json.load(js))"
   ]
  }
 ],
 "metadata": {
  "kernelspec": {
   "display_name": "Python 3",
   "language": "python",
   "name": "python3"
  },
  "language_info": {
   "codemirror_mode": {
    "name": "ipython",
    "version": 3
   },
   "file_extension": ".py",
   "mimetype": "text/x-python",
   "name": "python",
   "nbconvert_exporter": "python",
   "pygments_lexer": "ipython3",
   "version": "3.7.3"
  }
 },
 "nbformat": 4,
 "nbformat_minor": 2
}
