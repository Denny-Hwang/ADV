{
 "cells": [
  {
   "cell_type": "code",
   "execution_count": 1,
   "metadata": {
    "ExecuteTime": {
     "end_time": "2019-10-16T09:02:01.139830Z",
     "start_time": "2019-10-16T09:01:52.289889Z"
    }
   },
   "outputs": [],
   "source": [
    "import pandas as pd\n",
    "import numpy as np"
   ]
  },
  {
   "cell_type": "code",
   "execution_count": 2,
   "metadata": {
    "ExecuteTime": {
     "end_time": "2019-10-16T09:02:04.665821Z",
     "start_time": "2019-10-16T09:02:01.148821Z"
    }
   },
   "outputs": [],
   "source": [
    "raw = pd.read_csv('../data/10_thousand.csv')"
   ]
  },
  {
   "cell_type": "code",
   "execution_count": 3,
   "metadata": {
    "ExecuteTime": {
     "end_time": "2019-10-16T09:02:04.749761Z",
     "start_time": "2019-10-16T09:02:04.669803Z"
    }
   },
   "outputs": [
    {
     "name": "stdout",
     "output_type": "stream",
     "text": [
      "<class 'pandas.core.frame.DataFrame'>\n",
      "RangeIndex: 99999 entries, 0 to 99998\n",
      "Data columns (total 2 columns):\n",
      "original       99996 non-null object\n",
      "translation    99996 non-null object\n",
      "dtypes: object(2)\n",
      "memory usage: 1.5+ MB\n"
     ]
    }
   ],
   "source": [
    "raw.info()"
   ]
  },
  {
   "cell_type": "code",
   "execution_count": 4,
   "metadata": {
    "ExecuteTime": {
     "end_time": "2019-10-16T09:02:04.843706Z",
     "start_time": "2019-10-16T09:02:04.754758Z"
    }
   },
   "outputs": [],
   "source": [
    "raw.dropna(inplace=True)"
   ]
  },
  {
   "cell_type": "code",
   "execution_count": 5,
   "metadata": {
    "ExecuteTime": {
     "end_time": "2019-10-16T09:02:04.859696Z",
     "start_time": "2019-10-16T09:02:04.846704Z"
    }
   },
   "outputs": [],
   "source": [
    "origin = raw.original.copy()"
   ]
  },
  {
   "cell_type": "code",
   "execution_count": 6,
   "metadata": {
    "ExecuteTime": {
     "end_time": "2019-10-16T09:02:04.943663Z",
     "start_time": "2019-10-16T09:02:04.866720Z"
    }
   },
   "outputs": [],
   "source": [
    "origin  = origin.str.strip() # 앞뒤 공백 제거"
   ]
  },
  {
   "cell_type": "code",
   "execution_count": 7,
   "metadata": {
    "ExecuteTime": {
     "end_time": "2019-10-16T09:02:04.971631Z",
     "start_time": "2019-10-16T09:02:04.946649Z"
    }
   },
   "outputs": [
    {
     "data": {
      "text/plain": [
       "0    ○丙申/十七日丙申, 太祖卽位于壽昌宮。 先是, 是月十二日辛卯, 恭讓將幸太祖第, 置酒與...\n",
       "1    ○上在潛邸, 夢有神人執金尺自天而降, 授之曰: \"慶侍中 復興, 淸矣而已老; 崔都統 瑩...\n",
       "2                       ○丁酉/雨。 前此久旱, 及上卽位, 霈然下雨, 人心大悅。\n",
       "3    竊謂小邦, 至恭愍王薨無嗣, 逆臣辛旽子禑爲權臣李仁任等所立。 禑乃昏暴狂恣, 多殺無辜, ...\n",
       "4                                  ○立義興親軍衛, 罷都摠中外諸軍事府。\n",
       "Name: original, dtype: object"
      ]
     },
     "execution_count": 7,
     "metadata": {},
     "output_type": "execute_result"
    }
   ],
   "source": [
    "origin.head()"
   ]
  },
  {
   "cell_type": "markdown",
   "metadata": {},
   "source": [
    "## 한자 전처리\n",
    "1. 특수문자와 한자별로 토큰화한다.\n",
    "2. 특수문자도 의미가 있으니 없애지 않는다. \n",
    "3. 띄어쓰기 제거해준다."
   ]
  },
  {
   "cell_type": "code",
   "execution_count": 8,
   "metadata": {
    "ExecuteTime": {
     "end_time": "2019-10-16T09:02:04.999616Z",
     "start_time": "2019-10-16T09:02:04.992620Z"
    }
   },
   "outputs": [],
   "source": [
    "def origin_tokenize(string):\n",
    "    return np.array([ch for ch in string if ch !=' '])"
   ]
  },
  {
   "cell_type": "code",
   "execution_count": 9,
   "metadata": {
    "ExecuteTime": {
     "end_time": "2019-10-16T09:02:09.177242Z",
     "start_time": "2019-10-16T09:02:05.005612Z"
    }
   },
   "outputs": [],
   "source": [
    "origin_tokenized = origin.apply(origin_tokenize)"
   ]
  },
  {
   "cell_type": "code",
   "execution_count": 10,
   "metadata": {
    "ExecuteTime": {
     "end_time": "2019-10-16T09:02:09.240189Z",
     "start_time": "2019-10-16T09:02:09.180223Z"
    }
   },
   "outputs": [
    {
     "data": {
      "text/plain": [
       "0        [○, 丙, 申, /, 十, 七, 日, 丙, 申, ,, 太, 祖, 卽, 位, 于, ...\n",
       "1        [○, 上, 在, 潛, 邸, ,, 夢, 有, 神, 人, 執, 金, 尺, 自, 天, ...\n",
       "2        [○, 丁, 酉, /, 雨, 。, 前, 此, 久, 旱, ,, 及, 上, 卽, 位, ...\n",
       "3        [竊, 謂, 小, 邦, ,, 至, 恭, 愍, 王, 薨, 無, 嗣, ,, 逆, 臣, ...\n",
       "4        [○, 立, 義, 興, 親, 軍, 衛, ,, 罷, 都, 摠, 中, 外, 諸, 軍, ...\n",
       "5        [○, 敎, 百, 官, ,, 前, 朝, 政, 令, 法, 制, 得, 失, 、, 沿, ...\n",
       "6               [○, 命, 宗, 親, 及, 大, 臣, ,, 分, 領, 諸, 道, 兵, 。]\n",
       "7        [○, 己, 亥, /, 命, 前, 政, 堂, 文, 學, 鄭, 道, 傳, ,, 參, ...\n",
       "8        [○, 司, 憲, 府, 大, 司, 憲, 閔, 開, 等, 請, 置, 前, 朝, 王, ...\n",
       "9        [上, 曰, :, \", 宦, 官, 、, 僧, 尼, 斥, 汰, 之, 事, ,, 開, ...\n",
       "10                                      [上, 只, 令, 罷, 職, 。]\n",
       "11       [○, 司, 憲, 府, 劾, 王, 康, 嘗, 體, 察, 三, 道, ,, 擾, 民, ...\n",
       "12        [○, 丁, 未, /, 上, 移, 于, 門, 下, 贊, 成, 事, 尹, 虎, 第, 。]\n",
       "13       [○, 追, 上, 四, 代, 尊, 號, :, 高, 祖, 考, 曰, 穆, 王, ,, ...\n",
       "14       [敎, 書, ,, 鄭, 道, 傳, 所, 製, 。, 道, 傳, 與, 禹, 玄, 寶, ...\n",
       "15       [義, 興, 親, 軍, 左, 衛, ㆍ, 右, 衛, 、, 鷹, 揚, 衛, 、, 金, ...\n",
       "16       [以, 洪, 永, 通, 判, 門, 下, 府, 事, ,, 安, 宗, 源, 領, 三, ...\n",
       "17       [○, 己, 酉, /, 都, 評, 議, 使, 司, 請, 前, 日, 敎, 書, 所, ...\n",
       "18       [○, (, 中, 樞, 院, 事, ), 〔, 中, 樞, 院, 使, 〕, 金, 仁, ...\n",
       "19                    [○, 庚, 戌, 朔, /, 上, 立, 受, 群, 臣, 朝, 。]\n",
       "20                          [○, 辛, 亥, /, 置, 功, 臣, 都, 監, 。]\n",
       "21       [○, 命, 擧, 賢, 良, 。, 臺, 諫, 、, 六, 曹, 每, 一, 員, ,, ...\n",
       "22       [○, 定, 入, 官, 補, 吏, 法, 。, 凡, 初, 入, 流, 品, 作, 七, ...\n",
       "23       [○, 定, 守, 令, 殿, 最, 法, 。, 凡, 大, 小, 牧, 民, ,, 俱, ...\n",
       "24                          [○, 都, 堂, 請, 罷, 大, 藏, 都, 監, 。]\n",
       "25              [○, 甲, 寅, /, 都, 堂, 請, 罷, 八, 關, 、, 燃, 燈, 。]\n",
       "26                       [○, 丙, 辰, /, 立, 康, 氏, 爲, 顯, 妃, 。]\n",
       "27       [○, 封, 王, 子, 諸, 君, :, 芳, 雨, 曰, 鎭, 安, 君, ;, 【, ...\n",
       "28       [○, 封, 王, 瑤, 爲, 恭, 讓, 君, ,, 置, 杆, 城, 郡, ;, 瑤, ...\n",
       "29        [○, 陞, 全, 州, 爲, 完, 山, 府, ,, 以, 柳, 玽, 爲, 府, 尹, 。]\n",
       "                               ...                        \n",
       "99969    [○, 戊, 子, /, 傳, 旨, 戶, 曹, 曰, :, \", 咸, 鏡, 道, 回, ...\n",
       "99970    [○, 己, 丑, /, 受, 常, 參, ,, 御, 經, 筵, 。, 獻, 納, 李, ...\n",
       "99971    [○, 〔, 傳, 曰, 〕, :, \", 臺, 諫, 所, 啓, ,, 驛, 路, 蘇, ...\n",
       "99972    [○, 瓦, 署, 別, 提, 柳, 瓊, 盜, 官, 瓦, 事, 露, ,, 罪, 當, ...\n",
       "99973     [○, 庚, 寅, /, 受, 朝, 參, ,, 御, 經, 筵, ,, 受, 輪, 對, 。]\n",
       "99974    [○, 尹, 弼, 商, 議, :, \", 朝, 官, 除, 剌, 字, ,, 於, 情, ...\n",
       "99975    [○, 辛, 卯, /, 受, 常, 參, ,, 朝, 啓, 。, 承, 旨, 姜, 參, ...\n",
       "99976    [○, 傳, 曰, :, \", 都, 承, 旨, 所, 啓, 李, 玉, 山, 事, ,, ...\n",
       "99977    [○, 傳, 曰, :, \", 毛, 薄, 貂, 皮, 二, 十, 、, 熟, 絲, 二, ...\n",
       "99978    [○, 命, 議, 冨, 寧, 鎭, 移, 置, 政, 丞, 波, 吾, 達, 便, 否, ...\n",
       "99979    [○, 壬, 辰, /, 受, 常, 參, ,, 御, 經, 筵, 。, 掌, 令, 金, ...\n",
       "99980    [○, 傳, 于, 政, 院, 曰, :, \", 朝, 於, 經, 筵, ,, 金, 千, ...\n",
       "99981    [○, 傳, 曰, :, \", 笠, 飾, 靑, 金, 石, 、, 明, 珀, 、, 珊, ...\n",
       "99982                 [○, 癸, 巳, /, 受, 常, 參, ,, 御, 經, 筵, 。]\n",
       "99983    [○, 傳, 曰, :, \", 正, 言, 吳, 益, 念, 所, 啓, 鰥, 寡, 孤, ...\n",
       "99984    [○, 禮, 曹, 啓, :, \", 若, 父, 母, 牽, 於, 愛, 憎, ,, 廢, ...\n",
       "99985    [仍, 傳, 曰, :, \", 以, 此, 詩, 意, ,, 承, 政, 院, 、, 弘, ...\n",
       "99986                 [○, 甲, 午, /, 受, 常, 參, ,, 御, 經, 筵, 。]\n",
       "99987    [○, 以, 金, 孝, 孫, 爲, 司, 正, 。, 孝, 孫, 張, 綠, 水, 姊, ...\n",
       "99988    [○, 乙, 未, /, 受, 常, 參, ,, 朝, 啓, 。, 承, 旨, 姜, 參, ...\n",
       "99989                          [○, 御, 經, 筵, ,, 受, 輪, 對, 。]\n",
       "99990              [○, 傳, 曰, :, \", 紬, 二, 十, 匹, 入, 內, 。, \"]\n",
       "99991    [○, 丙, 申, /, 掌, 令, 金, 千, 齡, 啓, :, \", 愼, 守, 勤, ...\n",
       "99992    [○, 傳, 曰, :, \", 今, 年, 凶, 荒, ,, 中, 外, 如, 一, ,, ...\n",
       "99993    [【, 史, 臣, 曰, :, 麟, 仁, 性, 耿, 介, ,, 有, 操, 行, ,, ...\n",
       "99994                          [○, 朔, 己, 亥, /, 受, 朝, 賀, 。]\n",
       "99995    [○, 御, 書, 承, 旨, 金, 勘, 所, 製, 雪, 詩, ,, 粧, 簇, 賜, ...\n",
       "99996    [○, 掌, 令, 金, 千, 齡, 、, 正, 言, 金, 祉, 啓, :, \", 待, ...\n",
       "99997    [○, 庚, 子, /, 莫, 金, 入, 南, 賓, 廳, 擊, 錚, ,, 兵, 曹, ...\n",
       "99998    [○, 辛, 丑, /, 傳, 曰, :, \", 今, 後, 國, 忌, 日, ,, 世, ...\n",
       "Name: original, Length: 99996, dtype: object"
      ]
     },
     "execution_count": 10,
     "metadata": {},
     "output_type": "execute_result"
    }
   ],
   "source": [
    "origin_tokenized"
   ]
  },
  {
   "cell_type": "markdown",
   "metadata": {},
   "source": [
    "## 한글 전처리\n",
    "1. 괄호 속 한자, 형태소분석 불가능한 특수문자 삭제한다\n",
    "2. 한글 형태소 분석기로 형태소 토큰화한다."
   ]
  },
  {
   "cell_type": "code",
   "execution_count": 11,
   "metadata": {
    "ExecuteTime": {
     "end_time": "2019-10-16T09:02:09.257180Z",
     "start_time": "2019-10-16T09:02:09.244187Z"
    }
   },
   "outputs": [],
   "source": [
    "trans = raw.translation.copy()"
   ]
  },
  {
   "cell_type": "code",
   "execution_count": 12,
   "metadata": {
    "ExecuteTime": {
     "end_time": "2019-10-16T09:02:09.340130Z",
     "start_time": "2019-10-16T09:02:09.261182Z"
    }
   },
   "outputs": [],
   "source": [
    "trans = trans.str.strip()"
   ]
  },
  {
   "cell_type": "code",
   "execution_count": 13,
   "metadata": {
    "ExecuteTime": {
     "end_time": "2019-10-16T09:02:09.352124Z",
     "start_time": "2019-10-16T09:02:09.345129Z"
    }
   },
   "outputs": [],
   "source": [
    "import re\n",
    "import string"
   ]
  },
  {
   "cell_type": "code",
   "execution_count": 14,
   "metadata": {
    "ExecuteTime": {
     "end_time": "2019-10-16T09:02:09.368116Z",
     "start_time": "2019-10-16T09:02:09.356123Z"
    }
   },
   "outputs": [],
   "source": [
    "def remove_chn(trans_string):\n",
    "    return re.sub(r'[^ㄱ-ㅎ|ㅏ-ㅣ|가-힣|0-9|\\.\\,\\·\\\"\\'\\s\\!\\?]', '', trans_string)"
   ]
  },
  {
   "cell_type": "code",
   "execution_count": 15,
   "metadata": {
    "ExecuteTime": {
     "end_time": "2019-10-16T09:02:17.523467Z",
     "start_time": "2019-10-16T09:02:09.373113Z"
    }
   },
   "outputs": [],
   "source": [
    "trans = trans.apply(remove_chn)"
   ]
  },
  {
   "cell_type": "code",
   "execution_count": 16,
   "metadata": {
    "ExecuteTime": {
     "end_time": "2019-10-16T09:02:17.557430Z",
     "start_time": "2019-10-16T09:02:17.526448Z"
    }
   },
   "outputs": [
    {
     "data": {
      "text/plain": [
       "'태조가 수창궁에서 왕위에 올랐다. 이보다 먼저 이달 12일에 공양왕이 장차 태조의 사제로 거둥하여 술자리를 베풀고 태조와 더불어 동맹하려고 하여 의장이 이미 늘어섰는데, 시중        배극렴 등이 왕대비에게 아뢰었다.\"지금 왕이 혼암하여 임금의 도리를 이미 잃고 인심도 이미 떠나갔으므로, 사직과 백성의 주재자가 될 수 없으니 이를 폐하기를 청합니다.\"마침내 왕대비의 교지를 받들어 공양왕을 폐하기로 일이 이미 결정되었는데, 남은이 드디어 문하 평리 정희계와 함께 교지를 가지고 북천동의 시좌궁001                  에 이르러 교지를 선포하니, 공양왕이 부복하고 명령을 듣고 말하기를,\"내가 본디 임금이 되고 싶지 않았는데 여러 신하들이 나를 강제로 왕으로 세웠습니다. 내가 성품이 불민하여 사기를 알지 못하니 어찌 신하의 심정을 거스린 일이 없겠습니까?\"하면서, 이내 울어 눈물이 두서너 줄기 흘러내리었다. 마침내 왕위를 물려주고 원주로 가니, 백관이 국새를 받들어 왕대비전에 두고 모든 정무를 나아가 품명하여 재결하였다. 13일임진에 대비가 교지를 선포하여 태조를 감록국사로 삼았다. 16일을미에 배극렴과 조준이 정도전·김사형·이제·이화·정희계·이지란·남은·장사길·정총·김인찬·조인옥·남재·조박·오몽을·정탁·윤호·이민도·조견·박포·조영규·조반·조온·조기·홍길민·유경·정용수·장담·안경공·김균·유원정·이직·이근·오사충·이서·조영무·이백유·이부·김로·손흥종·심효생·고여·장지화·함부림·한상경·황거정·임언충·장사정·민여익 등 대소신료와 한량기로 등이 국새를 받들고 태조의 저택에 나아가니 사람들이 마을의 골목에 꽉 메어 있었다. 대사헌        민개가 홀로 기뻐하지 않으면서 얼굴빛에 나타내고, 머리를 기울이고 말하지 않으므로 남은이 이를 쳐서 죽이고자 하니, 전하가 말하기를,\"의리상 죽일 수 없다.\"하면서 힘써 이를 말리었다. 이날 마침 족친의 여러 부인들이 태조와 강비를 알현하고, 물에 만 밥을 먹는데, 여러 부인들이 모두 놀라 두려워하여 북문으로 흩어져 가버'"
      ]
     },
     "execution_count": 16,
     "metadata": {},
     "output_type": "execute_result"
    }
   ],
   "source": [
    "trans[0][:1000]"
   ]
  },
  {
   "cell_type": "code",
   "execution_count": 17,
   "metadata": {
    "ExecuteTime": {
     "end_time": "2019-10-16T09:02:17.765312Z",
     "start_time": "2019-10-16T09:02:17.561428Z"
    }
   },
   "outputs": [],
   "source": [
    "from konlpy.tag import Komoran "
   ]
  },
  {
   "cell_type": "code",
   "execution_count": 18,
   "metadata": {
    "ExecuteTime": {
     "end_time": "2019-10-16T09:02:32.502879Z",
     "start_time": "2019-10-16T09:02:17.770309Z"
    }
   },
   "outputs": [
    {
     "name": "stderr",
     "output_type": "stream",
     "text": [
      "C:\\Users\\skarn\\Anaconda3\\lib\\site-packages\\jpype\\_core.py:210: UserWarning: \n",
      "-------------------------------------------------------------------------------\n",
      "Deprecated: convertStrings was not specified when starting the JVM. The default\n",
      "behavior in JPype will be False starting in JPype 0.8. The recommended setting\n",
      "for new code is convertStrings=False.  The legacy value of True was assumed for\n",
      "this session. If you are a user of an application that reported this warning,\n",
      "please file a ticket with the developer.\n",
      "-------------------------------------------------------------------------------\n",
      "\n",
      "  \"\"\")\n"
     ]
    }
   ],
   "source": [
    "tagger = Komoran()"
   ]
  },
  {
   "cell_type": "code",
   "execution_count": 19,
   "metadata": {
    "ExecuteTime": {
     "end_time": "2019-10-16T09:02:32.528868Z",
     "start_time": "2019-10-16T09:02:32.513873Z"
    }
   },
   "outputs": [],
   "source": [
    "def trans_tokenize(string):\n",
    "    try:\n",
    "        return tagger.pos(string, join=True)\n",
    "    except Exception as e:\n",
    "        print(e)\n",
    "        print(string)"
   ]
  },
  {
   "cell_type": "code",
   "execution_count": 20,
   "metadata": {
    "ExecuteTime": {
     "end_time": "2019-10-16T09:36:21.916716Z",
     "start_time": "2019-10-16T09:02:32.553852Z"
    }
   },
   "outputs": [],
   "source": [
    "trans_tokenized = trans.apply(trans_tokenize)"
   ]
  },
  {
   "cell_type": "code",
   "execution_count": 21,
   "metadata": {
    "ExecuteTime": {
     "end_time": "2019-10-16T09:36:22.125598Z",
     "start_time": "2019-10-16T09:36:21.971685Z"
    }
   },
   "outputs": [
    {
     "data": {
      "text/plain": [
       "0        [태조/NNP, 가/JKS, 수창/NNP, 궁/NNG, 에서/JKB, 왕위/NNP,...\n",
       "1        [임금/NNG, 이/JKS, 잠/NNG, 저/NNG, 에/JKB, 있/VV, 을/E...\n",
       "2        [비/NNG, 가/JKS, 내리/VV, 었/EP, 다/EF, ./SF, 이/NP, ...\n",
       "3        [도평의사사/NNP, 및/MAJ, 대소/NNG, 신료와/NA, 한량/NNP, ·/S...\n",
       "4        [의/NNG, 흥/NNG, 친군위/NNG, 를/JKO, 설치/NNG, 하/XSV, ...\n",
       "5        [백관/NNG, 에게/JKB, 명/NNB, 하/XSA, 아/EC, 고려/NNP, 왕...\n",
       "6        [종친과/NNG, 대신/NNG, 에게/JKB, 명/NNB, 하/XSA, 아/EC, ...\n",
       "7        [전/MM, 정당/NNG, 문학/NNG, 정도전/NNP, 을/JKO, 명/NNB, ...\n",
       "8        [사헌부/NNP, 대사헌/NNP, 민개/NNP, 등/NNB, 이/JKS, 고려/NN...\n",
       "9        [사헌부/NNP, 에서/JKB, 또/MAJ, 상소/NNG, 하/XSV, 았/EP, ...\n",
       "10       [사헌부/NNP, 에서/JKB, 상소/NNG, 하/XSV, 았/EP, 다/EF, ....\n",
       "11       [사헌부/NNP, 에서/JKB, 왕강/NNP, 이/JKS, 일찍이/MAG, 삼도/N...\n",
       "12       [임금/NNG, 이/JKS, 문하/NNG, 차/VV, ㄴ/ETM, 성사/NNP, 윤...\n",
       "13       [사대/NNG, 의/JKG, 존호/NNP, 를/JKO, 사후/NNG, 에/JKB, ...\n",
       "14       [중외/NNG, 의/JKG, 대소/NNG, 신료와/NA, 한량/NNP, ·/SP, ...\n",
       "15       [문무/NNG, 백/NR, 관의/NNP, 관제/NNG, 를/JKO, 정하/VV, 았...\n",
       "16       [문/NNG, 하부/NNG, 에/JKB, 교지/NNP, 를/JKO, 내리/VV, 어...\n",
       "17       [도평의사사/NNP, 에서/JKB, 전/MM, 일/NNP, 의/JKG, 교서/NNP...\n",
       "18       [중추/NNG, 원사/NNP, 김인찬/NNP, 이/JKS, 졸/NNG, 하/XSV,...\n",
       "19       [임금/NNG, 이/JKS, 서서/NNP, 여러/MM, 신하/NNG, 들/XSN, ...\n",
       "20       [공신/NNP, 도감/NNG, 을/JKO, 설치/NNG, 하/XSV, 았/EP, 다...\n",
       "21       [명/NNB, 하/XSA, 아/EC, 현/MM, 량/NNB, 을/JKO, ,/SP,...\n",
       "22       [입관/NNG, 보리/NNP, 법/NNG, 을/JKO, 제정/NNG, 하/XSV, ...\n",
       "23       [수령/NNG, 의/JKG, 전/MM, 최/NNP, 법/NNG, 을/JKO, 제정/...\n",
       "24       [도당/NNG, 에서/JKB, 대장/NNP, 도감/NNG, 060/SN, 을/NNG...\n",
       "25       [도당/NNG, 에서/JKB, 팔관회/NNP, 와/JC, 연등회/NNP, 를/JKO...\n",
       "26       [강/NNP, 씨/NNB, 를/JKO, 세우/VV, 어/EC, 현/MM, 비/NNG...\n",
       "27       [왕자/NNG, 를/JKO, 여러/MM, 군/NNG, 으로/JKB, 봉하/VV, 아...\n",
       "28       [왕요/NNP, 를/JKO, 봉하/VV, 아/EC, 공/NNG, 양군/NNP, 으로...\n",
       "29       [전주/NNP, 를/JKO, 승격/NNG, 시키/XSV, 어/EC, 완산/NNP, ...\n",
       "                               ...                        \n",
       "99969    [호조/NNG, 에/JKB, 전지/NNG, 하/XSV, 기/ETN, 를/JKO, ,...\n",
       "99970    [상/NNG, 참/NNG, 을/JKO, 받/VV, 고/EC, 경연/NNP, 에/JK...\n",
       "99971    [대간/NNP, 이/JKS, 아뢰/VV, ㄴ/ETM, ,/SP, 역/NNG, 로/J...\n",
       "99972    [오/VV, 아서/EC, 별/NNG, 제/XSN, 유경/NNP, 이/JKS, 관청/...\n",
       "99973    [조참/NNP, 을/JKO, 받/VV, 고/EC, 경연/NNP, 에/JKB, 납/N...\n",
       "99974    [윤필상/NNP, 이/JKS, 의논/NNG, 드리/VV, 기/ETN, 를/JKO, ...\n",
       "99975    [상/NNG, 참/NNG, 과/JC, 조계/NNP, 를/JKO, 받/VV, 았/EP...\n",
       "99976    [전교/NNG, 하/XSV, 기/ETN, 를/JKO, ,/SP, \"/SS, 도승지/...\n",
       "99977    [전교/NNG, 하/XSV, 기/ETN, 를/JKO, ,/SP, \"/SS, 털이/N...\n",
       "99978    [부령진을/NA, 정승/NNP, 파/NNP, 오/NNP, 달/NNG, 로/JKB, ...\n",
       "99979    [상/NNG, 참/NNG, 을/JKO, 받/VV, 고/EC, 경연/NNP, 에/JK...\n",
       "99980    [승정원/NNP, 에/JKB, 전교/NNG, 하/XSV, 기/ETN, 를/JKO, ...\n",
       "99981    [전교/NNG, 하/XSV, 기/ETN, 를/JKO, ,/SP, \"/SS, 갓/NN...\n",
       "99982    [상/NNG, 참/NNG, 을/JKO, 받/VV, 고/EC, 경연/NNP, 에/JK...\n",
       "99983    [전교/NNG, 하/XSV, 기/ETN, 를/JKO, ,/SP, \"/SS, 정언/N...\n",
       "99984    [예조/NNP, 가/JKS, 아뢰/VV, 기/ETN, 를/JKO, ,/SP, \"/S...\n",
       "99985    [당나라/NNP, 고종/NNP, 이/JKS, 참어/NNP, ㄴ/JX, 과/JKB, ...\n",
       "99986    [상/NNG, 참/NNG, 을/JKO, 받/VV, 고/EC, 경연/NNP, 에/JK...\n",
       "99987    [김효/NNP, 손/NNG, 을/JKO, 사정/NNG, 으로/JKB, 삼/VV, 았...\n",
       "99988    [상/NNG, 참/NNG, 과/JC, 조계/NNP, 를/JKO, 받/VV, 았/EP...\n",
       "99989    [경연/NNP, 에/JKB, 납/NNG, 시어/NNG, 윤/NNP, 대/NNB, 를...\n",
       "99990    [전교/NNG, 하/XSV, 기/ETN, 를/JKO, ,/SP, \"/SS, 명주/N...\n",
       "99991    [장령/NNG, 김천령이/NA, 아뢰/VV, 기/ETN, 를/JKO, ,/SP, \"...\n",
       "99992    [전교/NNG, 하/XSV, 기/ETN, 를/JKO, ,/SP, \"/SS, 금년/N...\n",
       "99993    [이/NP, 보다/JKB, 앞서/VV, 어/EC, ,/SP, 어제/NNG, 를/JK...\n",
       "99994             [조하르/NNP, ㄹ/JKO, 받/VV, 았/EP, 다/EF, ./SF]\n",
       "99995    [승지/NNG, 김/NNP, 감/NNG, 이/JKS, 지/VX, 은/ETM, 눈/N...\n",
       "99996    [장령/NNG, 김천령과/NA, 정언/NNG, 김지/NNP, 가/JKS, 아뢰/VV...\n",
       "99997    [막/NNG, 금/NNG, 이/JKS, 남/NNG, 빈청/NNG, 에/JKB, 들어...\n",
       "99998    [전교/NNG, 하/XSV, 기/ETN, 를/JKO, ,/SP, \"/SS, 이제/N...\n",
       "Name: translation, Length: 99996, dtype: object"
      ]
     },
     "execution_count": 21,
     "metadata": {},
     "output_type": "execute_result"
    }
   ],
   "source": [
    "trans_tokenized"
   ]
  },
  {
   "cell_type": "markdown",
   "metadata": {},
   "source": [
    "## csv로 저장하기"
   ]
  },
  {
   "cell_type": "code",
   "execution_count": 46,
   "metadata": {
    "ExecuteTime": {
     "end_time": "2019-10-16T10:16:53.148745Z",
     "start_time": "2019-10-16T10:16:53.123756Z"
    }
   },
   "outputs": [],
   "source": [
    "result = origin_tokenized.to_frame().merge(trans_tokenized, left_index=True, right_index=True,how='outer')"
   ]
  },
  {
   "cell_type": "code",
   "execution_count": 47,
   "metadata": {
    "ExecuteTime": {
     "end_time": "2019-10-16T10:16:54.219132Z",
     "start_time": "2019-10-16T10:16:54.156170Z"
    }
   },
   "outputs": [
    {
     "name": "stdout",
     "output_type": "stream",
     "text": [
      "<class 'pandas.core.frame.DataFrame'>\n",
      "Int64Index: 99996 entries, 0 to 99998\n",
      "Data columns (total 2 columns):\n",
      "original       99996 non-null object\n",
      "translation    99996 non-null object\n",
      "dtypes: object(2)\n",
      "memory usage: 4.8+ MB\n"
     ]
    }
   ],
   "source": [
    "result.info()"
   ]
  },
  {
   "cell_type": "code",
   "execution_count": 54,
   "metadata": {
    "ExecuteTime": {
     "end_time": "2019-10-16T10:18:21.837999Z",
     "start_time": "2019-10-16T10:18:21.832999Z"
    }
   },
   "outputs": [],
   "source": [
    "result.reset_index(drop=True, inplace=True)"
   ]
  },
  {
   "cell_type": "code",
   "execution_count": 55,
   "metadata": {
    "ExecuteTime": {
     "end_time": "2019-10-16T10:18:23.804887Z",
     "start_time": "2019-10-16T10:18:23.620979Z"
    }
   },
   "outputs": [
    {
     "data": {
      "text/html": [
       "<div>\n",
       "<style scoped>\n",
       "    .dataframe tbody tr th:only-of-type {\n",
       "        vertical-align: middle;\n",
       "    }\n",
       "\n",
       "    .dataframe tbody tr th {\n",
       "        vertical-align: top;\n",
       "    }\n",
       "\n",
       "    .dataframe thead th {\n",
       "        text-align: right;\n",
       "    }\n",
       "</style>\n",
       "<table border=\"1\" class=\"dataframe\">\n",
       "  <thead>\n",
       "    <tr style=\"text-align: right;\">\n",
       "      <th></th>\n",
       "      <th>original</th>\n",
       "      <th>translation</th>\n",
       "    </tr>\n",
       "  </thead>\n",
       "  <tbody>\n",
       "    <tr>\n",
       "      <th>0</th>\n",
       "      <td>[○, 丙, 申, /, 十, 七, 日, 丙, 申, ,, 太, 祖, 卽, 位, 于, ...</td>\n",
       "      <td>[태조/NNP, 가/JKS, 수창/NNP, 궁/NNG, 에서/JKB, 왕위/NNP,...</td>\n",
       "    </tr>\n",
       "    <tr>\n",
       "      <th>1</th>\n",
       "      <td>[○, 上, 在, 潛, 邸, ,, 夢, 有, 神, 人, 執, 金, 尺, 自, 天, ...</td>\n",
       "      <td>[임금/NNG, 이/JKS, 잠/NNG, 저/NNG, 에/JKB, 있/VV, 을/E...</td>\n",
       "    </tr>\n",
       "    <tr>\n",
       "      <th>2</th>\n",
       "      <td>[○, 丁, 酉, /, 雨, 。, 前, 此, 久, 旱, ,, 及, 上, 卽, 位, ...</td>\n",
       "      <td>[비/NNG, 가/JKS, 내리/VV, 었/EP, 다/EF, ./SF, 이/NP, ...</td>\n",
       "    </tr>\n",
       "    <tr>\n",
       "      <th>3</th>\n",
       "      <td>[竊, 謂, 小, 邦, ,, 至, 恭, 愍, 王, 薨, 無, 嗣, ,, 逆, 臣, ...</td>\n",
       "      <td>[도평의사사/NNP, 및/MAJ, 대소/NNG, 신료와/NA, 한량/NNP, ·/S...</td>\n",
       "    </tr>\n",
       "    <tr>\n",
       "      <th>4</th>\n",
       "      <td>[○, 立, 義, 興, 親, 軍, 衛, ,, 罷, 都, 摠, 中, 外, 諸, 軍, ...</td>\n",
       "      <td>[의/NNG, 흥/NNG, 친군위/NNG, 를/JKO, 설치/NNG, 하/XSV, ...</td>\n",
       "    </tr>\n",
       "    <tr>\n",
       "      <th>5</th>\n",
       "      <td>[○, 敎, 百, 官, ,, 前, 朝, 政, 令, 法, 制, 得, 失, 、, 沿, ...</td>\n",
       "      <td>[백관/NNG, 에게/JKB, 명/NNB, 하/XSA, 아/EC, 고려/NNP, 왕...</td>\n",
       "    </tr>\n",
       "    <tr>\n",
       "      <th>6</th>\n",
       "      <td>[○, 命, 宗, 親, 及, 大, 臣, ,, 分, 領, 諸, 道, 兵, 。]</td>\n",
       "      <td>[종친과/NNG, 대신/NNG, 에게/JKB, 명/NNB, 하/XSA, 아/EC, ...</td>\n",
       "    </tr>\n",
       "    <tr>\n",
       "      <th>7</th>\n",
       "      <td>[○, 己, 亥, /, 命, 前, 政, 堂, 文, 學, 鄭, 道, 傳, ,, 參, ...</td>\n",
       "      <td>[전/MM, 정당/NNG, 문학/NNG, 정도전/NNP, 을/JKO, 명/NNB, ...</td>\n",
       "    </tr>\n",
       "    <tr>\n",
       "      <th>8</th>\n",
       "      <td>[○, 司, 憲, 府, 大, 司, 憲, 閔, 開, 等, 請, 置, 前, 朝, 王, ...</td>\n",
       "      <td>[사헌부/NNP, 대사헌/NNP, 민개/NNP, 등/NNB, 이/JKS, 고려/NN...</td>\n",
       "    </tr>\n",
       "    <tr>\n",
       "      <th>9</th>\n",
       "      <td>[上, 曰, :, \", 宦, 官, 、, 僧, 尼, 斥, 汰, 之, 事, ,, 開, ...</td>\n",
       "      <td>[사헌부/NNP, 에서/JKB, 또/MAJ, 상소/NNG, 하/XSV, 았/EP, ...</td>\n",
       "    </tr>\n",
       "    <tr>\n",
       "      <th>10</th>\n",
       "      <td>[上, 只, 令, 罷, 職, 。]</td>\n",
       "      <td>[사헌부/NNP, 에서/JKB, 상소/NNG, 하/XSV, 았/EP, 다/EF, ....</td>\n",
       "    </tr>\n",
       "    <tr>\n",
       "      <th>11</th>\n",
       "      <td>[○, 司, 憲, 府, 劾, 王, 康, 嘗, 體, 察, 三, 道, ,, 擾, 民, ...</td>\n",
       "      <td>[사헌부/NNP, 에서/JKB, 왕강/NNP, 이/JKS, 일찍이/MAG, 삼도/N...</td>\n",
       "    </tr>\n",
       "    <tr>\n",
       "      <th>12</th>\n",
       "      <td>[○, 丁, 未, /, 上, 移, 于, 門, 下, 贊, 成, 事, 尹, 虎, 第, 。]</td>\n",
       "      <td>[임금/NNG, 이/JKS, 문하/NNG, 차/VV, ㄴ/ETM, 성사/NNP, 윤...</td>\n",
       "    </tr>\n",
       "    <tr>\n",
       "      <th>13</th>\n",
       "      <td>[○, 追, 上, 四, 代, 尊, 號, :, 高, 祖, 考, 曰, 穆, 王, ,, ...</td>\n",
       "      <td>[사대/NNG, 의/JKG, 존호/NNP, 를/JKO, 사후/NNG, 에/JKB, ...</td>\n",
       "    </tr>\n",
       "    <tr>\n",
       "      <th>14</th>\n",
       "      <td>[敎, 書, ,, 鄭, 道, 傳, 所, 製, 。, 道, 傳, 與, 禹, 玄, 寶, ...</td>\n",
       "      <td>[중외/NNG, 의/JKG, 대소/NNG, 신료와/NA, 한량/NNP, ·/SP, ...</td>\n",
       "    </tr>\n",
       "    <tr>\n",
       "      <th>15</th>\n",
       "      <td>[義, 興, 親, 軍, 左, 衛, ㆍ, 右, 衛, 、, 鷹, 揚, 衛, 、, 金, ...</td>\n",
       "      <td>[문무/NNG, 백/NR, 관의/NNP, 관제/NNG, 를/JKO, 정하/VV, 았...</td>\n",
       "    </tr>\n",
       "    <tr>\n",
       "      <th>16</th>\n",
       "      <td>[以, 洪, 永, 通, 判, 門, 下, 府, 事, ,, 安, 宗, 源, 領, 三, ...</td>\n",
       "      <td>[문/NNG, 하부/NNG, 에/JKB, 교지/NNP, 를/JKO, 내리/VV, 어...</td>\n",
       "    </tr>\n",
       "    <tr>\n",
       "      <th>17</th>\n",
       "      <td>[○, 己, 酉, /, 都, 評, 議, 使, 司, 請, 前, 日, 敎, 書, 所, ...</td>\n",
       "      <td>[도평의사사/NNP, 에서/JKB, 전/MM, 일/NNP, 의/JKG, 교서/NNP...</td>\n",
       "    </tr>\n",
       "    <tr>\n",
       "      <th>18</th>\n",
       "      <td>[○, (, 中, 樞, 院, 事, ), 〔, 中, 樞, 院, 使, 〕, 金, 仁, ...</td>\n",
       "      <td>[중추/NNG, 원사/NNP, 김인찬/NNP, 이/JKS, 졸/NNG, 하/XSV,...</td>\n",
       "    </tr>\n",
       "    <tr>\n",
       "      <th>19</th>\n",
       "      <td>[○, 庚, 戌, 朔, /, 上, 立, 受, 群, 臣, 朝, 。]</td>\n",
       "      <td>[임금/NNG, 이/JKS, 서서/NNP, 여러/MM, 신하/NNG, 들/XSN, ...</td>\n",
       "    </tr>\n",
       "    <tr>\n",
       "      <th>20</th>\n",
       "      <td>[○, 辛, 亥, /, 置, 功, 臣, 都, 監, 。]</td>\n",
       "      <td>[공신/NNP, 도감/NNG, 을/JKO, 설치/NNG, 하/XSV, 았/EP, 다...</td>\n",
       "    </tr>\n",
       "    <tr>\n",
       "      <th>21</th>\n",
       "      <td>[○, 命, 擧, 賢, 良, 。, 臺, 諫, 、, 六, 曹, 每, 一, 員, ,, ...</td>\n",
       "      <td>[명/NNB, 하/XSA, 아/EC, 현/MM, 량/NNB, 을/JKO, ,/SP,...</td>\n",
       "    </tr>\n",
       "    <tr>\n",
       "      <th>22</th>\n",
       "      <td>[○, 定, 入, 官, 補, 吏, 法, 。, 凡, 初, 入, 流, 品, 作, 七, ...</td>\n",
       "      <td>[입관/NNG, 보리/NNP, 법/NNG, 을/JKO, 제정/NNG, 하/XSV, ...</td>\n",
       "    </tr>\n",
       "    <tr>\n",
       "      <th>23</th>\n",
       "      <td>[○, 定, 守, 令, 殿, 最, 法, 。, 凡, 大, 小, 牧, 民, ,, 俱, ...</td>\n",
       "      <td>[수령/NNG, 의/JKG, 전/MM, 최/NNP, 법/NNG, 을/JKO, 제정/...</td>\n",
       "    </tr>\n",
       "    <tr>\n",
       "      <th>24</th>\n",
       "      <td>[○, 都, 堂, 請, 罷, 大, 藏, 都, 監, 。]</td>\n",
       "      <td>[도당/NNG, 에서/JKB, 대장/NNP, 도감/NNG, 060/SN, 을/NNG...</td>\n",
       "    </tr>\n",
       "    <tr>\n",
       "      <th>25</th>\n",
       "      <td>[○, 甲, 寅, /, 都, 堂, 請, 罷, 八, 關, 、, 燃, 燈, 。]</td>\n",
       "      <td>[도당/NNG, 에서/JKB, 팔관회/NNP, 와/JC, 연등회/NNP, 를/JKO...</td>\n",
       "    </tr>\n",
       "    <tr>\n",
       "      <th>26</th>\n",
       "      <td>[○, 丙, 辰, /, 立, 康, 氏, 爲, 顯, 妃, 。]</td>\n",
       "      <td>[강/NNP, 씨/NNB, 를/JKO, 세우/VV, 어/EC, 현/MM, 비/NNG...</td>\n",
       "    </tr>\n",
       "    <tr>\n",
       "      <th>27</th>\n",
       "      <td>[○, 封, 王, 子, 諸, 君, :, 芳, 雨, 曰, 鎭, 安, 君, ;, 【, ...</td>\n",
       "      <td>[왕자/NNG, 를/JKO, 여러/MM, 군/NNG, 으로/JKB, 봉하/VV, 아...</td>\n",
       "    </tr>\n",
       "    <tr>\n",
       "      <th>28</th>\n",
       "      <td>[○, 封, 王, 瑤, 爲, 恭, 讓, 君, ,, 置, 杆, 城, 郡, ;, 瑤, ...</td>\n",
       "      <td>[왕요/NNP, 를/JKO, 봉하/VV, 아/EC, 공/NNG, 양군/NNP, 으로...</td>\n",
       "    </tr>\n",
       "    <tr>\n",
       "      <th>29</th>\n",
       "      <td>[○, 陞, 全, 州, 爲, 完, 山, 府, ,, 以, 柳, 玽, 爲, 府, 尹, 。]</td>\n",
       "      <td>[전주/NNP, 를/JKO, 승격/NNG, 시키/XSV, 어/EC, 완산/NNP, ...</td>\n",
       "    </tr>\n",
       "    <tr>\n",
       "      <th>...</th>\n",
       "      <td>...</td>\n",
       "      <td>...</td>\n",
       "    </tr>\n",
       "    <tr>\n",
       "      <th>99966</th>\n",
       "      <td>[○, 戊, 子, /, 傳, 旨, 戶, 曹, 曰, :, \", 咸, 鏡, 道, 回, ...</td>\n",
       "      <td>[호조/NNG, 에/JKB, 전지/NNG, 하/XSV, 기/ETN, 를/JKO, ,...</td>\n",
       "    </tr>\n",
       "    <tr>\n",
       "      <th>99967</th>\n",
       "      <td>[○, 己, 丑, /, 受, 常, 參, ,, 御, 經, 筵, 。, 獻, 納, 李, ...</td>\n",
       "      <td>[상/NNG, 참/NNG, 을/JKO, 받/VV, 고/EC, 경연/NNP, 에/JK...</td>\n",
       "    </tr>\n",
       "    <tr>\n",
       "      <th>99968</th>\n",
       "      <td>[○, 〔, 傳, 曰, 〕, :, \", 臺, 諫, 所, 啓, ,, 驛, 路, 蘇, ...</td>\n",
       "      <td>[대간/NNP, 이/JKS, 아뢰/VV, ㄴ/ETM, ,/SP, 역/NNG, 로/J...</td>\n",
       "    </tr>\n",
       "    <tr>\n",
       "      <th>99969</th>\n",
       "      <td>[○, 瓦, 署, 別, 提, 柳, 瓊, 盜, 官, 瓦, 事, 露, ,, 罪, 當, ...</td>\n",
       "      <td>[오/VV, 아서/EC, 별/NNG, 제/XSN, 유경/NNP, 이/JKS, 관청/...</td>\n",
       "    </tr>\n",
       "    <tr>\n",
       "      <th>99970</th>\n",
       "      <td>[○, 庚, 寅, /, 受, 朝, 參, ,, 御, 經, 筵, ,, 受, 輪, 對, 。]</td>\n",
       "      <td>[조참/NNP, 을/JKO, 받/VV, 고/EC, 경연/NNP, 에/JKB, 납/N...</td>\n",
       "    </tr>\n",
       "    <tr>\n",
       "      <th>99971</th>\n",
       "      <td>[○, 尹, 弼, 商, 議, :, \", 朝, 官, 除, 剌, 字, ,, 於, 情, ...</td>\n",
       "      <td>[윤필상/NNP, 이/JKS, 의논/NNG, 드리/VV, 기/ETN, 를/JKO, ...</td>\n",
       "    </tr>\n",
       "    <tr>\n",
       "      <th>99972</th>\n",
       "      <td>[○, 辛, 卯, /, 受, 常, 參, ,, 朝, 啓, 。, 承, 旨, 姜, 參, ...</td>\n",
       "      <td>[상/NNG, 참/NNG, 과/JC, 조계/NNP, 를/JKO, 받/VV, 았/EP...</td>\n",
       "    </tr>\n",
       "    <tr>\n",
       "      <th>99973</th>\n",
       "      <td>[○, 傳, 曰, :, \", 都, 承, 旨, 所, 啓, 李, 玉, 山, 事, ,, ...</td>\n",
       "      <td>[전교/NNG, 하/XSV, 기/ETN, 를/JKO, ,/SP, \"/SS, 도승지/...</td>\n",
       "    </tr>\n",
       "    <tr>\n",
       "      <th>99974</th>\n",
       "      <td>[○, 傳, 曰, :, \", 毛, 薄, 貂, 皮, 二, 十, 、, 熟, 絲, 二, ...</td>\n",
       "      <td>[전교/NNG, 하/XSV, 기/ETN, 를/JKO, ,/SP, \"/SS, 털이/N...</td>\n",
       "    </tr>\n",
       "    <tr>\n",
       "      <th>99975</th>\n",
       "      <td>[○, 命, 議, 冨, 寧, 鎭, 移, 置, 政, 丞, 波, 吾, 達, 便, 否, ...</td>\n",
       "      <td>[부령진을/NA, 정승/NNP, 파/NNP, 오/NNP, 달/NNG, 로/JKB, ...</td>\n",
       "    </tr>\n",
       "    <tr>\n",
       "      <th>99976</th>\n",
       "      <td>[○, 壬, 辰, /, 受, 常, 參, ,, 御, 經, 筵, 。, 掌, 令, 金, ...</td>\n",
       "      <td>[상/NNG, 참/NNG, 을/JKO, 받/VV, 고/EC, 경연/NNP, 에/JK...</td>\n",
       "    </tr>\n",
       "    <tr>\n",
       "      <th>99977</th>\n",
       "      <td>[○, 傳, 于, 政, 院, 曰, :, \", 朝, 於, 經, 筵, ,, 金, 千, ...</td>\n",
       "      <td>[승정원/NNP, 에/JKB, 전교/NNG, 하/XSV, 기/ETN, 를/JKO, ...</td>\n",
       "    </tr>\n",
       "    <tr>\n",
       "      <th>99978</th>\n",
       "      <td>[○, 傳, 曰, :, \", 笠, 飾, 靑, 金, 石, 、, 明, 珀, 、, 珊, ...</td>\n",
       "      <td>[전교/NNG, 하/XSV, 기/ETN, 를/JKO, ,/SP, \"/SS, 갓/NN...</td>\n",
       "    </tr>\n",
       "    <tr>\n",
       "      <th>99979</th>\n",
       "      <td>[○, 癸, 巳, /, 受, 常, 參, ,, 御, 經, 筵, 。]</td>\n",
       "      <td>[상/NNG, 참/NNG, 을/JKO, 받/VV, 고/EC, 경연/NNP, 에/JK...</td>\n",
       "    </tr>\n",
       "    <tr>\n",
       "      <th>99980</th>\n",
       "      <td>[○, 傳, 曰, :, \", 正, 言, 吳, 益, 念, 所, 啓, 鰥, 寡, 孤, ...</td>\n",
       "      <td>[전교/NNG, 하/XSV, 기/ETN, 를/JKO, ,/SP, \"/SS, 정언/N...</td>\n",
       "    </tr>\n",
       "    <tr>\n",
       "      <th>99981</th>\n",
       "      <td>[○, 禮, 曹, 啓, :, \", 若, 父, 母, 牽, 於, 愛, 憎, ,, 廢, ...</td>\n",
       "      <td>[예조/NNP, 가/JKS, 아뢰/VV, 기/ETN, 를/JKO, ,/SP, \"/S...</td>\n",
       "    </tr>\n",
       "    <tr>\n",
       "      <th>99982</th>\n",
       "      <td>[仍, 傳, 曰, :, \", 以, 此, 詩, 意, ,, 承, 政, 院, 、, 弘, ...</td>\n",
       "      <td>[당나라/NNP, 고종/NNP, 이/JKS, 참어/NNP, ㄴ/JX, 과/JKB, ...</td>\n",
       "    </tr>\n",
       "    <tr>\n",
       "      <th>99983</th>\n",
       "      <td>[○, 甲, 午, /, 受, 常, 參, ,, 御, 經, 筵, 。]</td>\n",
       "      <td>[상/NNG, 참/NNG, 을/JKO, 받/VV, 고/EC, 경연/NNP, 에/JK...</td>\n",
       "    </tr>\n",
       "    <tr>\n",
       "      <th>99984</th>\n",
       "      <td>[○, 以, 金, 孝, 孫, 爲, 司, 正, 。, 孝, 孫, 張, 綠, 水, 姊, ...</td>\n",
       "      <td>[김효/NNP, 손/NNG, 을/JKO, 사정/NNG, 으로/JKB, 삼/VV, 았...</td>\n",
       "    </tr>\n",
       "    <tr>\n",
       "      <th>99985</th>\n",
       "      <td>[○, 乙, 未, /, 受, 常, 參, ,, 朝, 啓, 。, 承, 旨, 姜, 參, ...</td>\n",
       "      <td>[상/NNG, 참/NNG, 과/JC, 조계/NNP, 를/JKO, 받/VV, 았/EP...</td>\n",
       "    </tr>\n",
       "    <tr>\n",
       "      <th>99986</th>\n",
       "      <td>[○, 御, 經, 筵, ,, 受, 輪, 對, 。]</td>\n",
       "      <td>[경연/NNP, 에/JKB, 납/NNG, 시어/NNG, 윤/NNP, 대/NNB, 를...</td>\n",
       "    </tr>\n",
       "    <tr>\n",
       "      <th>99987</th>\n",
       "      <td>[○, 傳, 曰, :, \", 紬, 二, 十, 匹, 入, 內, 。, \"]</td>\n",
       "      <td>[전교/NNG, 하/XSV, 기/ETN, 를/JKO, ,/SP, \"/SS, 명주/N...</td>\n",
       "    </tr>\n",
       "    <tr>\n",
       "      <th>99988</th>\n",
       "      <td>[○, 丙, 申, /, 掌, 令, 金, 千, 齡, 啓, :, \", 愼, 守, 勤, ...</td>\n",
       "      <td>[장령/NNG, 김천령이/NA, 아뢰/VV, 기/ETN, 를/JKO, ,/SP, \"...</td>\n",
       "    </tr>\n",
       "    <tr>\n",
       "      <th>99989</th>\n",
       "      <td>[○, 傳, 曰, :, \", 今, 年, 凶, 荒, ,, 中, 外, 如, 一, ,, ...</td>\n",
       "      <td>[전교/NNG, 하/XSV, 기/ETN, 를/JKO, ,/SP, \"/SS, 금년/N...</td>\n",
       "    </tr>\n",
       "    <tr>\n",
       "      <th>99990</th>\n",
       "      <td>[【, 史, 臣, 曰, :, 麟, 仁, 性, 耿, 介, ,, 有, 操, 行, ,, ...</td>\n",
       "      <td>[이/NP, 보다/JKB, 앞서/VV, 어/EC, ,/SP, 어제/NNG, 를/JK...</td>\n",
       "    </tr>\n",
       "    <tr>\n",
       "      <th>99991</th>\n",
       "      <td>[○, 朔, 己, 亥, /, 受, 朝, 賀, 。]</td>\n",
       "      <td>[조하르/NNP, ㄹ/JKO, 받/VV, 았/EP, 다/EF, ./SF]</td>\n",
       "    </tr>\n",
       "    <tr>\n",
       "      <th>99992</th>\n",
       "      <td>[○, 御, 書, 承, 旨, 金, 勘, 所, 製, 雪, 詩, ,, 粧, 簇, 賜, ...</td>\n",
       "      <td>[승지/NNG, 김/NNP, 감/NNG, 이/JKS, 지/VX, 은/ETM, 눈/N...</td>\n",
       "    </tr>\n",
       "    <tr>\n",
       "      <th>99993</th>\n",
       "      <td>[○, 掌, 令, 金, 千, 齡, 、, 正, 言, 金, 祉, 啓, :, \", 待, ...</td>\n",
       "      <td>[장령/NNG, 김천령과/NA, 정언/NNG, 김지/NNP, 가/JKS, 아뢰/VV...</td>\n",
       "    </tr>\n",
       "    <tr>\n",
       "      <th>99994</th>\n",
       "      <td>[○, 庚, 子, /, 莫, 金, 入, 南, 賓, 廳, 擊, 錚, ,, 兵, 曹, ...</td>\n",
       "      <td>[막/NNG, 금/NNG, 이/JKS, 남/NNG, 빈청/NNG, 에/JKB, 들어...</td>\n",
       "    </tr>\n",
       "    <tr>\n",
       "      <th>99995</th>\n",
       "      <td>[○, 辛, 丑, /, 傳, 曰, :, \", 今, 後, 國, 忌, 日, ,, 世, ...</td>\n",
       "      <td>[전교/NNG, 하/XSV, 기/ETN, 를/JKO, ,/SP, \"/SS, 이제/N...</td>\n",
       "    </tr>\n",
       "  </tbody>\n",
       "</table>\n",
       "<p>99996 rows × 2 columns</p>\n",
       "</div>"
      ],
      "text/plain": [
       "                                                original  \\\n",
       "0      [○, 丙, 申, /, 十, 七, 日, 丙, 申, ,, 太, 祖, 卽, 位, 于, ...   \n",
       "1      [○, 上, 在, 潛, 邸, ,, 夢, 有, 神, 人, 執, 金, 尺, 自, 天, ...   \n",
       "2      [○, 丁, 酉, /, 雨, 。, 前, 此, 久, 旱, ,, 及, 上, 卽, 位, ...   \n",
       "3      [竊, 謂, 小, 邦, ,, 至, 恭, 愍, 王, 薨, 無, 嗣, ,, 逆, 臣, ...   \n",
       "4      [○, 立, 義, 興, 親, 軍, 衛, ,, 罷, 都, 摠, 中, 外, 諸, 軍, ...   \n",
       "5      [○, 敎, 百, 官, ,, 前, 朝, 政, 令, 法, 制, 得, 失, 、, 沿, ...   \n",
       "6             [○, 命, 宗, 親, 及, 大, 臣, ,, 分, 領, 諸, 道, 兵, 。]   \n",
       "7      [○, 己, 亥, /, 命, 前, 政, 堂, 文, 學, 鄭, 道, 傳, ,, 參, ...   \n",
       "8      [○, 司, 憲, 府, 大, 司, 憲, 閔, 開, 等, 請, 置, 前, 朝, 王, ...   \n",
       "9      [上, 曰, :, \", 宦, 官, 、, 僧, 尼, 斥, 汰, 之, 事, ,, 開, ...   \n",
       "10                                    [上, 只, 令, 罷, 職, 。]   \n",
       "11     [○, 司, 憲, 府, 劾, 王, 康, 嘗, 體, 察, 三, 道, ,, 擾, 民, ...   \n",
       "12      [○, 丁, 未, /, 上, 移, 于, 門, 下, 贊, 成, 事, 尹, 虎, 第, 。]   \n",
       "13     [○, 追, 上, 四, 代, 尊, 號, :, 高, 祖, 考, 曰, 穆, 王, ,, ...   \n",
       "14     [敎, 書, ,, 鄭, 道, 傳, 所, 製, 。, 道, 傳, 與, 禹, 玄, 寶, ...   \n",
       "15     [義, 興, 親, 軍, 左, 衛, ㆍ, 右, 衛, 、, 鷹, 揚, 衛, 、, 金, ...   \n",
       "16     [以, 洪, 永, 通, 判, 門, 下, 府, 事, ,, 安, 宗, 源, 領, 三, ...   \n",
       "17     [○, 己, 酉, /, 都, 評, 議, 使, 司, 請, 前, 日, 敎, 書, 所, ...   \n",
       "18     [○, (, 中, 樞, 院, 事, ), 〔, 中, 樞, 院, 使, 〕, 金, 仁, ...   \n",
       "19                  [○, 庚, 戌, 朔, /, 上, 立, 受, 群, 臣, 朝, 。]   \n",
       "20                        [○, 辛, 亥, /, 置, 功, 臣, 都, 監, 。]   \n",
       "21     [○, 命, 擧, 賢, 良, 。, 臺, 諫, 、, 六, 曹, 每, 一, 員, ,, ...   \n",
       "22     [○, 定, 入, 官, 補, 吏, 法, 。, 凡, 初, 入, 流, 品, 作, 七, ...   \n",
       "23     [○, 定, 守, 令, 殿, 最, 法, 。, 凡, 大, 小, 牧, 民, ,, 俱, ...   \n",
       "24                        [○, 都, 堂, 請, 罷, 大, 藏, 都, 監, 。]   \n",
       "25            [○, 甲, 寅, /, 都, 堂, 請, 罷, 八, 關, 、, 燃, 燈, 。]   \n",
       "26                     [○, 丙, 辰, /, 立, 康, 氏, 爲, 顯, 妃, 。]   \n",
       "27     [○, 封, 王, 子, 諸, 君, :, 芳, 雨, 曰, 鎭, 安, 君, ;, 【, ...   \n",
       "28     [○, 封, 王, 瑤, 爲, 恭, 讓, 君, ,, 置, 杆, 城, 郡, ;, 瑤, ...   \n",
       "29      [○, 陞, 全, 州, 爲, 完, 山, 府, ,, 以, 柳, 玽, 爲, 府, 尹, 。]   \n",
       "...                                                  ...   \n",
       "99966  [○, 戊, 子, /, 傳, 旨, 戶, 曹, 曰, :, \", 咸, 鏡, 道, 回, ...   \n",
       "99967  [○, 己, 丑, /, 受, 常, 參, ,, 御, 經, 筵, 。, 獻, 納, 李, ...   \n",
       "99968  [○, 〔, 傳, 曰, 〕, :, \", 臺, 諫, 所, 啓, ,, 驛, 路, 蘇, ...   \n",
       "99969  [○, 瓦, 署, 別, 提, 柳, 瓊, 盜, 官, 瓦, 事, 露, ,, 罪, 當, ...   \n",
       "99970   [○, 庚, 寅, /, 受, 朝, 參, ,, 御, 經, 筵, ,, 受, 輪, 對, 。]   \n",
       "99971  [○, 尹, 弼, 商, 議, :, \", 朝, 官, 除, 剌, 字, ,, 於, 情, ...   \n",
       "99972  [○, 辛, 卯, /, 受, 常, 參, ,, 朝, 啓, 。, 承, 旨, 姜, 參, ...   \n",
       "99973  [○, 傳, 曰, :, \", 都, 承, 旨, 所, 啓, 李, 玉, 山, 事, ,, ...   \n",
       "99974  [○, 傳, 曰, :, \", 毛, 薄, 貂, 皮, 二, 十, 、, 熟, 絲, 二, ...   \n",
       "99975  [○, 命, 議, 冨, 寧, 鎭, 移, 置, 政, 丞, 波, 吾, 達, 便, 否, ...   \n",
       "99976  [○, 壬, 辰, /, 受, 常, 參, ,, 御, 經, 筵, 。, 掌, 令, 金, ...   \n",
       "99977  [○, 傳, 于, 政, 院, 曰, :, \", 朝, 於, 經, 筵, ,, 金, 千, ...   \n",
       "99978  [○, 傳, 曰, :, \", 笠, 飾, 靑, 金, 石, 、, 明, 珀, 、, 珊, ...   \n",
       "99979               [○, 癸, 巳, /, 受, 常, 參, ,, 御, 經, 筵, 。]   \n",
       "99980  [○, 傳, 曰, :, \", 正, 言, 吳, 益, 念, 所, 啓, 鰥, 寡, 孤, ...   \n",
       "99981  [○, 禮, 曹, 啓, :, \", 若, 父, 母, 牽, 於, 愛, 憎, ,, 廢, ...   \n",
       "99982  [仍, 傳, 曰, :, \", 以, 此, 詩, 意, ,, 承, 政, 院, 、, 弘, ...   \n",
       "99983               [○, 甲, 午, /, 受, 常, 參, ,, 御, 經, 筵, 。]   \n",
       "99984  [○, 以, 金, 孝, 孫, 爲, 司, 正, 。, 孝, 孫, 張, 綠, 水, 姊, ...   \n",
       "99985  [○, 乙, 未, /, 受, 常, 參, ,, 朝, 啓, 。, 承, 旨, 姜, 參, ...   \n",
       "99986                        [○, 御, 經, 筵, ,, 受, 輪, 對, 。]   \n",
       "99987            [○, 傳, 曰, :, \", 紬, 二, 十, 匹, 入, 內, 。, \"]   \n",
       "99988  [○, 丙, 申, /, 掌, 令, 金, 千, 齡, 啓, :, \", 愼, 守, 勤, ...   \n",
       "99989  [○, 傳, 曰, :, \", 今, 年, 凶, 荒, ,, 中, 外, 如, 一, ,, ...   \n",
       "99990  [【, 史, 臣, 曰, :, 麟, 仁, 性, 耿, 介, ,, 有, 操, 行, ,, ...   \n",
       "99991                        [○, 朔, 己, 亥, /, 受, 朝, 賀, 。]   \n",
       "99992  [○, 御, 書, 承, 旨, 金, 勘, 所, 製, 雪, 詩, ,, 粧, 簇, 賜, ...   \n",
       "99993  [○, 掌, 令, 金, 千, 齡, 、, 正, 言, 金, 祉, 啓, :, \", 待, ...   \n",
       "99994  [○, 庚, 子, /, 莫, 金, 入, 南, 賓, 廳, 擊, 錚, ,, 兵, 曹, ...   \n",
       "99995  [○, 辛, 丑, /, 傳, 曰, :, \", 今, 後, 國, 忌, 日, ,, 世, ...   \n",
       "\n",
       "                                             translation  \n",
       "0      [태조/NNP, 가/JKS, 수창/NNP, 궁/NNG, 에서/JKB, 왕위/NNP,...  \n",
       "1      [임금/NNG, 이/JKS, 잠/NNG, 저/NNG, 에/JKB, 있/VV, 을/E...  \n",
       "2      [비/NNG, 가/JKS, 내리/VV, 었/EP, 다/EF, ./SF, 이/NP, ...  \n",
       "3      [도평의사사/NNP, 및/MAJ, 대소/NNG, 신료와/NA, 한량/NNP, ·/S...  \n",
       "4      [의/NNG, 흥/NNG, 친군위/NNG, 를/JKO, 설치/NNG, 하/XSV, ...  \n",
       "5      [백관/NNG, 에게/JKB, 명/NNB, 하/XSA, 아/EC, 고려/NNP, 왕...  \n",
       "6      [종친과/NNG, 대신/NNG, 에게/JKB, 명/NNB, 하/XSA, 아/EC, ...  \n",
       "7      [전/MM, 정당/NNG, 문학/NNG, 정도전/NNP, 을/JKO, 명/NNB, ...  \n",
       "8      [사헌부/NNP, 대사헌/NNP, 민개/NNP, 등/NNB, 이/JKS, 고려/NN...  \n",
       "9      [사헌부/NNP, 에서/JKB, 또/MAJ, 상소/NNG, 하/XSV, 았/EP, ...  \n",
       "10     [사헌부/NNP, 에서/JKB, 상소/NNG, 하/XSV, 았/EP, 다/EF, ....  \n",
       "11     [사헌부/NNP, 에서/JKB, 왕강/NNP, 이/JKS, 일찍이/MAG, 삼도/N...  \n",
       "12     [임금/NNG, 이/JKS, 문하/NNG, 차/VV, ㄴ/ETM, 성사/NNP, 윤...  \n",
       "13     [사대/NNG, 의/JKG, 존호/NNP, 를/JKO, 사후/NNG, 에/JKB, ...  \n",
       "14     [중외/NNG, 의/JKG, 대소/NNG, 신료와/NA, 한량/NNP, ·/SP, ...  \n",
       "15     [문무/NNG, 백/NR, 관의/NNP, 관제/NNG, 를/JKO, 정하/VV, 았...  \n",
       "16     [문/NNG, 하부/NNG, 에/JKB, 교지/NNP, 를/JKO, 내리/VV, 어...  \n",
       "17     [도평의사사/NNP, 에서/JKB, 전/MM, 일/NNP, 의/JKG, 교서/NNP...  \n",
       "18     [중추/NNG, 원사/NNP, 김인찬/NNP, 이/JKS, 졸/NNG, 하/XSV,...  \n",
       "19     [임금/NNG, 이/JKS, 서서/NNP, 여러/MM, 신하/NNG, 들/XSN, ...  \n",
       "20     [공신/NNP, 도감/NNG, 을/JKO, 설치/NNG, 하/XSV, 았/EP, 다...  \n",
       "21     [명/NNB, 하/XSA, 아/EC, 현/MM, 량/NNB, 을/JKO, ,/SP,...  \n",
       "22     [입관/NNG, 보리/NNP, 법/NNG, 을/JKO, 제정/NNG, 하/XSV, ...  \n",
       "23     [수령/NNG, 의/JKG, 전/MM, 최/NNP, 법/NNG, 을/JKO, 제정/...  \n",
       "24     [도당/NNG, 에서/JKB, 대장/NNP, 도감/NNG, 060/SN, 을/NNG...  \n",
       "25     [도당/NNG, 에서/JKB, 팔관회/NNP, 와/JC, 연등회/NNP, 를/JKO...  \n",
       "26     [강/NNP, 씨/NNB, 를/JKO, 세우/VV, 어/EC, 현/MM, 비/NNG...  \n",
       "27     [왕자/NNG, 를/JKO, 여러/MM, 군/NNG, 으로/JKB, 봉하/VV, 아...  \n",
       "28     [왕요/NNP, 를/JKO, 봉하/VV, 아/EC, 공/NNG, 양군/NNP, 으로...  \n",
       "29     [전주/NNP, 를/JKO, 승격/NNG, 시키/XSV, 어/EC, 완산/NNP, ...  \n",
       "...                                                  ...  \n",
       "99966  [호조/NNG, 에/JKB, 전지/NNG, 하/XSV, 기/ETN, 를/JKO, ,...  \n",
       "99967  [상/NNG, 참/NNG, 을/JKO, 받/VV, 고/EC, 경연/NNP, 에/JK...  \n",
       "99968  [대간/NNP, 이/JKS, 아뢰/VV, ㄴ/ETM, ,/SP, 역/NNG, 로/J...  \n",
       "99969  [오/VV, 아서/EC, 별/NNG, 제/XSN, 유경/NNP, 이/JKS, 관청/...  \n",
       "99970  [조참/NNP, 을/JKO, 받/VV, 고/EC, 경연/NNP, 에/JKB, 납/N...  \n",
       "99971  [윤필상/NNP, 이/JKS, 의논/NNG, 드리/VV, 기/ETN, 를/JKO, ...  \n",
       "99972  [상/NNG, 참/NNG, 과/JC, 조계/NNP, 를/JKO, 받/VV, 았/EP...  \n",
       "99973  [전교/NNG, 하/XSV, 기/ETN, 를/JKO, ,/SP, \"/SS, 도승지/...  \n",
       "99974  [전교/NNG, 하/XSV, 기/ETN, 를/JKO, ,/SP, \"/SS, 털이/N...  \n",
       "99975  [부령진을/NA, 정승/NNP, 파/NNP, 오/NNP, 달/NNG, 로/JKB, ...  \n",
       "99976  [상/NNG, 참/NNG, 을/JKO, 받/VV, 고/EC, 경연/NNP, 에/JK...  \n",
       "99977  [승정원/NNP, 에/JKB, 전교/NNG, 하/XSV, 기/ETN, 를/JKO, ...  \n",
       "99978  [전교/NNG, 하/XSV, 기/ETN, 를/JKO, ,/SP, \"/SS, 갓/NN...  \n",
       "99979  [상/NNG, 참/NNG, 을/JKO, 받/VV, 고/EC, 경연/NNP, 에/JK...  \n",
       "99980  [전교/NNG, 하/XSV, 기/ETN, 를/JKO, ,/SP, \"/SS, 정언/N...  \n",
       "99981  [예조/NNP, 가/JKS, 아뢰/VV, 기/ETN, 를/JKO, ,/SP, \"/S...  \n",
       "99982  [당나라/NNP, 고종/NNP, 이/JKS, 참어/NNP, ㄴ/JX, 과/JKB, ...  \n",
       "99983  [상/NNG, 참/NNG, 을/JKO, 받/VV, 고/EC, 경연/NNP, 에/JK...  \n",
       "99984  [김효/NNP, 손/NNG, 을/JKO, 사정/NNG, 으로/JKB, 삼/VV, 았...  \n",
       "99985  [상/NNG, 참/NNG, 과/JC, 조계/NNP, 를/JKO, 받/VV, 았/EP...  \n",
       "99986  [경연/NNP, 에/JKB, 납/NNG, 시어/NNG, 윤/NNP, 대/NNB, 를...  \n",
       "99987  [전교/NNG, 하/XSV, 기/ETN, 를/JKO, ,/SP, \"/SS, 명주/N...  \n",
       "99988  [장령/NNG, 김천령이/NA, 아뢰/VV, 기/ETN, 를/JKO, ,/SP, \"...  \n",
       "99989  [전교/NNG, 하/XSV, 기/ETN, 를/JKO, ,/SP, \"/SS, 금년/N...  \n",
       "99990  [이/NP, 보다/JKB, 앞서/VV, 어/EC, ,/SP, 어제/NNG, 를/JK...  \n",
       "99991           [조하르/NNP, ㄹ/JKO, 받/VV, 았/EP, 다/EF, ./SF]  \n",
       "99992  [승지/NNG, 김/NNP, 감/NNG, 이/JKS, 지/VX, 은/ETM, 눈/N...  \n",
       "99993  [장령/NNG, 김천령과/NA, 정언/NNG, 김지/NNP, 가/JKS, 아뢰/VV...  \n",
       "99994  [막/NNG, 금/NNG, 이/JKS, 남/NNG, 빈청/NNG, 에/JKB, 들어...  \n",
       "99995  [전교/NNG, 하/XSV, 기/ETN, 를/JKO, ,/SP, \"/SS, 이제/N...  \n",
       "\n",
       "[99996 rows x 2 columns]"
      ]
     },
     "execution_count": 55,
     "metadata": {},
     "output_type": "execute_result"
    }
   ],
   "source": [
    "result"
   ]
  },
  {
   "cell_type": "code",
   "execution_count": 57,
   "metadata": {
    "ExecuteTime": {
     "end_time": "2019-10-16T10:20:43.187137Z",
     "start_time": "2019-10-16T10:20:04.343364Z"
    }
   },
   "outputs": [],
   "source": [
    "result.to_hdf('../data/tokenized_10thousand.hdf','df')"
   ]
  }
 ],
 "metadata": {
  "kernelspec": {
   "display_name": "Python 3",
   "language": "python",
   "name": "python3"
  },
  "language_info": {
   "codemirror_mode": {
    "name": "ipython",
    "version": 3
   },
   "file_extension": ".py",
   "mimetype": "text/x-python",
   "name": "python",
   "nbconvert_exporter": "python",
   "pygments_lexer": "ipython3",
   "version": "3.7.4"
  }
 },
 "nbformat": 4,
 "nbformat_minor": 2
}
