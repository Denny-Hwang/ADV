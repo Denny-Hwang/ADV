{
 "cells": [
  {
   "cell_type": "code",
   "execution_count": 1,
   "metadata": {
    "ExecuteTime": {
     "end_time": "2019-12-17T08:33:32.577189Z",
     "start_time": "2019-12-17T08:33:32.568197Z"
    }
   },
   "outputs": [],
   "source": [
    "import pandas as pd\n",
    "import numpy as np\n",
    "import warnings\n",
    "import tensorflow as tf\n",
    "from matplotlib import pyplot as plt\n",
    "import time"
   ]
  },
  {
   "cell_type": "code",
   "execution_count": 2,
   "metadata": {
    "ExecuteTime": {
     "end_time": "2019-12-17T06:19:30.332300Z",
     "start_time": "2019-12-17T06:18:54.521854Z"
    }
   },
   "outputs": [],
   "source": [
    "df = pd.read_hdf('/home/work/nlp/tokenized_10thousand.hdf', stop=10)"
   ]
  },
  {
   "cell_type": "code",
   "execution_count": 3,
   "metadata": {
    "ExecuteTime": {
     "end_time": "2019-12-17T06:19:32.128252Z",
     "start_time": "2019-12-17T06:19:30.598130Z"
    }
   },
   "outputs": [
    {
     "data": {
      "text/html": [
       "<div>\n",
       "<style scoped>\n",
       "    .dataframe tbody tr th:only-of-type {\n",
       "        vertical-align: middle;\n",
       "    }\n",
       "\n",
       "    .dataframe tbody tr th {\n",
       "        vertical-align: top;\n",
       "    }\n",
       "\n",
       "    .dataframe thead th {\n",
       "        text-align: right;\n",
       "    }\n",
       "</style>\n",
       "<table border=\"1\" class=\"dataframe\">\n",
       "  <thead>\n",
       "    <tr style=\"text-align: right;\">\n",
       "      <th></th>\n",
       "      <th>original</th>\n",
       "      <th>translation</th>\n",
       "    </tr>\n",
       "  </thead>\n",
       "  <tbody>\n",
       "    <tr>\n",
       "      <th>0</th>\n",
       "      <td>[○, 丙, 申, /, 十, 七, 日, 丙, 申, ,, 太, 祖, 卽, 位, 于, ...</td>\n",
       "      <td>[태조/NNP, 가/JKS, 수창/NNP, 궁/NNG, 에서/JKB, 왕위/NNP,...</td>\n",
       "    </tr>\n",
       "    <tr>\n",
       "      <th>1</th>\n",
       "      <td>[○, 上, 在, 潛, 邸, ,, 夢, 有, 神, 人, 執, 金, 尺, 自, 天, ...</td>\n",
       "      <td>[임금/NNG, 이/JKS, 잠/NNG, 저/NNG, 에/JKB, 있/VV, 을/E...</td>\n",
       "    </tr>\n",
       "    <tr>\n",
       "      <th>2</th>\n",
       "      <td>[○, 丁, 酉, /, 雨, 。, 前, 此, 久, 旱, ,, 及, 上, 卽, 位, ...</td>\n",
       "      <td>[비/NNG, 가/JKS, 내리/VV, 었/EP, 다/EF, ./SF, 이/NP, ...</td>\n",
       "    </tr>\n",
       "    <tr>\n",
       "      <th>3</th>\n",
       "      <td>[竊, 謂, 小, 邦, ,, 至, 恭, 愍, 王, 薨, 無, 嗣, ,, 逆, 臣, ...</td>\n",
       "      <td>[도평의사사/NNP, 및/MAJ, 대소/NNG, 신료와/NA, 한량/NNP, ·/S...</td>\n",
       "    </tr>\n",
       "    <tr>\n",
       "      <th>4</th>\n",
       "      <td>[○, 立, 義, 興, 親, 軍, 衛, ,, 罷, 都, 摠, 中, 外, 諸, 軍, ...</td>\n",
       "      <td>[의/NNG, 흥/NNG, 친군위/NNG, 를/JKO, 설치/NNG, 하/XSV, ...</td>\n",
       "    </tr>\n",
       "  </tbody>\n",
       "</table>\n",
       "</div>"
      ],
      "text/plain": [
       "                                            original  \\\n",
       "0  [○, 丙, 申, /, 十, 七, 日, 丙, 申, ,, 太, 祖, 卽, 位, 于, ...   \n",
       "1  [○, 上, 在, 潛, 邸, ,, 夢, 有, 神, 人, 執, 金, 尺, 自, 天, ...   \n",
       "2  [○, 丁, 酉, /, 雨, 。, 前, 此, 久, 旱, ,, 及, 上, 卽, 位, ...   \n",
       "3  [竊, 謂, 小, 邦, ,, 至, 恭, 愍, 王, 薨, 無, 嗣, ,, 逆, 臣, ...   \n",
       "4  [○, 立, 義, 興, 親, 軍, 衛, ,, 罷, 都, 摠, 中, 外, 諸, 軍, ...   \n",
       "\n",
       "                                         translation  \n",
       "0  [태조/NNP, 가/JKS, 수창/NNP, 궁/NNG, 에서/JKB, 왕위/NNP,...  \n",
       "1  [임금/NNG, 이/JKS, 잠/NNG, 저/NNG, 에/JKB, 있/VV, 을/E...  \n",
       "2  [비/NNG, 가/JKS, 내리/VV, 었/EP, 다/EF, ./SF, 이/NP, ...  \n",
       "3  [도평의사사/NNP, 및/MAJ, 대소/NNG, 신료와/NA, 한량/NNP, ·/S...  \n",
       "4  [의/NNG, 흥/NNG, 친군위/NNG, 를/JKO, 설치/NNG, 하/XSV, ...  "
      ]
     },
     "execution_count": 3,
     "metadata": {},
     "output_type": "execute_result"
    }
   ],
   "source": [
    "df.head()"
   ]
  },
  {
   "cell_type": "code",
   "execution_count": 5,
   "metadata": {},
   "outputs": [
    {
     "data": {
      "text/plain": [
       "array(['○', '立', '義', '興', '親', '軍', '衛', ',', '罷', '都', '摠', '中', '外',\n",
       "       '諸', '軍', '事', '府', '。'], dtype='<U1')"
      ]
     },
     "execution_count": 5,
     "metadata": {},
     "output_type": "execute_result"
    }
   ],
   "source": [
    "df.original[4]"
   ]
  },
  {
   "cell_type": "markdown",
   "metadata": {},
   "source": [
    "# 전처리"
   ]
  },
  {
   "cell_type": "markdown",
   "metadata": {},
   "source": [
    "## id부여\n",
    "- `START`: `vocab_size`\n",
    "- `END` : `vocab_size`+1\n",
    "- `OOV`: 1\n",
    "- `PAD`: 0"
   ]
  },
  {
   "cell_type": "code",
   "execution_count": 109,
   "metadata": {
    "ExecuteTime": {
     "end_time": "2019-12-17T06:19:32.333134Z",
     "start_time": "2019-12-17T06:19:32.131268Z"
    }
   },
   "outputs": [],
   "source": [
    "# json으로 저장한 단어 사전 불러오기\n",
    "import json\n",
    "\n",
    "with open('./id_dict/input_id.json', 'r') as fp:\n",
    "    input_id = json.load(fp)\n",
    "\n",
    "with open('./id_dict/target_id.json', 'r') as fp:\n",
    "    target_id = json.load(fp)\n"
   ]
  },
  {
   "cell_type": "code",
   "execution_count": 70,
   "metadata": {
    "ExecuteTime": {
     "end_time": "2019-12-17T06:19:32.604978Z",
     "start_time": "2019-12-17T06:19:32.585989Z"
    }
   },
   "outputs": [],
   "source": [
    "#  id->원래 단어 역변환\n",
    "reverse_input_id = {i:char for char, i in input_id.items()}\n",
    "reverse_input_id[1] = '_'\n",
    "reverse_target_id = {i:char for char, i in target_id.items()}\n",
    "reverse_target_id[1] = '_'"
   ]
  },
  {
   "cell_type": "code",
   "execution_count": 71,
   "metadata": {
    "ExecuteTime": {
     "end_time": "2019-12-17T07:07:17.397951Z",
     "start_time": "2019-12-17T07:07:17.390956Z"
    }
   },
   "outputs": [],
   "source": [
    "def encode_original(original):\n",
    "    original = np.array([len(input_id)] +\\\n",
    "                list(map(lambda x:input_id.setdefault(x,1), original))\\\n",
    "                + [len(input_id)+1], dtype=np.int)\n",
    "    \n",
    "    return original"
   ]
  },
  {
   "cell_type": "code",
   "execution_count": 72,
   "metadata": {
    "ExecuteTime": {
     "end_time": "2019-12-17T07:07:14.780456Z",
     "start_time": "2019-12-17T07:07:14.771478Z"
    }
   },
   "outputs": [],
   "source": [
    "def encode_translation(translation):\n",
    "    translation = np.array([len(target_id)] +\\\n",
    "                    list(map(lambda x:target_id.setdefault(x,1), translation))\\\n",
    "                    + [len(target_id)+1], dtype=np.int)\n",
    "    \n",
    "    return translation"
   ]
  },
  {
   "cell_type": "code",
   "execution_count": 73,
   "metadata": {
    "ExecuteTime": {
     "end_time": "2019-12-17T07:07:45.049071Z",
     "start_time": "2019-12-17T07:07:44.951127Z"
    }
   },
   "outputs": [],
   "source": [
    "origin, trans = df.original.apply(encode_original), df.translation.apply(encode_translation)"
   ]
  },
  {
   "cell_type": "markdown",
   "metadata": {
    "ExecuteTime": {
     "end_time": "2019-11-05T05:39:27.216555Z",
     "start_time": "2019-11-05T05:39:27.205567Z"
    }
   },
   "source": [
    "# Padding\n",
    "최대 문장의 길이(== 모델 인풋)를 `200`으로 설정해서 문장 길이가 `200`이 되지 않으면 padding 한다\n",
    "\n",
    "`200`넘으면 잘라버린다.\n",
    "\n",
    "`<PAD>`의 id는 `0`으로 부여한다.\n"
   ]
  },
  {
   "cell_type": "code",
   "execution_count": 74,
   "metadata": {
    "ExecuteTime": {
     "end_time": "2019-12-17T07:04:25.739570Z",
     "start_time": "2019-12-17T07:04:25.704572Z"
    }
   },
   "outputs": [],
   "source": [
    "from tensorflow.keras.preprocessing.sequence import pad_sequences"
   ]
  },
  {
   "cell_type": "code",
   "execution_count": 75,
   "metadata": {
    "ExecuteTime": {
     "end_time": "2019-12-17T10:20:57.029272Z",
     "start_time": "2019-12-17T10:20:57.001286Z"
    }
   },
   "outputs": [],
   "source": [
    "encoder_input_data = tf.convert_to_tensor(pad_sequences(origin, maxlen=200, padding='post', truncating='post'),dtype=tf.int64)\n",
    "decoder_target_data = tf.convert_to_tensor(pad_sequences(trans, maxlen=200, padding='post', truncating='post'),dtype=tf.int64)"
   ]
  },
  {
   "cell_type": "code",
   "execution_count": 76,
   "metadata": {
    "ExecuteTime": {
     "end_time": "2019-12-17T10:26:36.490823Z",
     "start_time": "2019-12-17T10:26:36.409886Z"
    }
   },
   "outputs": [],
   "source": [
    "train_dataset = tf.data.Dataset.from_tensor_slices((encoder_input_data, decoder_target_data))"
   ]
  },
  {
   "cell_type": "code",
   "execution_count": 77,
   "metadata": {
    "ExecuteTime": {
     "end_time": "2019-12-17T10:27:25.057056Z",
     "start_time": "2019-12-17T10:27:25.050062Z"
    }
   },
   "outputs": [],
   "source": [
    "BUFFER_SIZE = 20000\n",
    "BATCH_SIZE = 32"
   ]
  },
  {
   "cell_type": "code",
   "execution_count": 78,
   "metadata": {
    "ExecuteTime": {
     "end_time": "2019-12-17T10:28:21.601427Z",
     "start_time": "2019-12-17T10:28:21.496487Z"
    }
   },
   "outputs": [],
   "source": [
    "# train_dataset = train_dataset.cache()\n",
    "train_dataset = train_dataset.shuffle(BUFFER_SIZE).batch(BATCH_SIZE)\n",
    "train_dataset = train_dataset.prefetch(tf.data.experimental.AUTOTUNE)"
   ]
  },
  {
   "cell_type": "markdown",
   "metadata": {},
   "source": [
    "# Positional Encoding\n",
    "토큰의 위치정보를 담는 positional encoding"
   ]
  },
  {
   "cell_type": "code",
   "execution_count": 79,
   "metadata": {
    "ExecuteTime": {
     "end_time": "2019-12-17T07:22:05.267045Z",
     "start_time": "2019-12-17T07:22:05.257053Z"
    }
   },
   "outputs": [],
   "source": [
    "def get_angles(pos, i, d_model):\n",
    "    angle_rates = 1 / np.power(10000, (2 * (i//2)) / np.float32(d_model))\n",
    "    return pos * angle_rates"
   ]
  },
  {
   "cell_type": "code",
   "execution_count": 80,
   "metadata": {
    "ExecuteTime": {
     "end_time": "2019-12-17T07:22:05.394971Z",
     "start_time": "2019-12-17T07:22:05.377996Z"
    }
   },
   "outputs": [],
   "source": [
    "def positional_encoding(position, d_model):\n",
    "    angle_rads = get_angles(np.arange(position)[:, np.newaxis],\n",
    "                            np.arange(d_model)[np.newaxis, :],\n",
    "                            d_model)\n",
    "  \n",
    "    # apply sin to even indices in the array; 2i\n",
    "    angle_rads[:, 0::2] = np.sin(angle_rads[:, 0::2])\n",
    "\n",
    "    # apply cos to odd indices in the array; 2i+1\n",
    "    angle_rads[:, 1::2] = np.cos(angle_rads[:, 1::2])\n",
    "\n",
    "    pos_encoding = angle_rads[np.newaxis, ...]\n",
    "\n",
    "    return tf.cast(pos_encoding, dtype=tf.float32)"
   ]
  },
  {
   "cell_type": "markdown",
   "metadata": {},
   "source": [
    "# Masking\n",
    "`PAD` 토큰을 입력으로 다루지 않도록 마스킹합니다.\n",
    "\n",
    "mask가 1이면 해당 토큰이 `PAD`라는 뜻."
   ]
  },
  {
   "cell_type": "code",
   "execution_count": 81,
   "metadata": {
    "ExecuteTime": {
     "end_time": "2019-12-17T07:27:28.020651Z",
     "start_time": "2019-12-17T07:27:28.012656Z"
    }
   },
   "outputs": [],
   "source": [
    "def create_padding_mask(seq):\n",
    "    seq = tf.cast(tf.math.equal(seq, 0), tf.float32)\n",
    "\n",
    "    # add extra dimensions to add the padding\n",
    "    # to the attention logits.\n",
    "    return seq[:, tf.newaxis, tf.newaxis, :]  # (batch_size, 1, 1, seq_len)"
   ]
  },
  {
   "cell_type": "markdown",
   "metadata": {},
   "source": [
    "look-ahead mask는 이후 토큰을 mask합니다. mask된 토큰은 쓰이지 않는 토큰을 가리킵니다.\n",
    "\n",
    "세번째 단어를 예측하는데, 첫번째와 두번째 단어만 사용하기 위해서 처리하는 것!"
   ]
  },
  {
   "cell_type": "code",
   "execution_count": 82,
   "metadata": {
    "ExecuteTime": {
     "end_time": "2019-12-17T07:33:01.889877Z",
     "start_time": "2019-12-17T07:33:01.882878Z"
    }
   },
   "outputs": [],
   "source": [
    "def create_look_ahead_mask(size):\n",
    "    mask = 1 - tf.linalg.band_part(tf.ones((size, size)), -1, 0)\n",
    "    return mask  # (seq_len, seq_len)"
   ]
  },
  {
   "cell_type": "markdown",
   "metadata": {},
   "source": [
    "# Scaled Dot-product Attention\n",
    "![image.png](https://www.tensorflow.org/images/tutorials/transformer/scaled_attention.png)"
   ]
  },
  {
   "cell_type": "code",
   "execution_count": 83,
   "metadata": {
    "ExecuteTime": {
     "end_time": "2019-12-17T07:38:01.833792Z",
     "start_time": "2019-12-17T07:38:01.813808Z"
    }
   },
   "outputs": [],
   "source": [
    "def scaled_dot_product_attention(q, k, v, mask):\n",
    "    \"\"\"Calculate the attention weights.\n",
    "    q, k, v must have matching leading dimensions.\n",
    "    k, v must have matching penultimate dimension, i.e.: seq_len_k = seq_len_v.\n",
    "    The mask has different shapes depending on its type(padding or look ahead) \n",
    "    but it must be broadcastable for addition.\n",
    "\n",
    "    Args:\n",
    "    q: query shape == (..., seq_len_q, depth)\n",
    "    k: key shape == (..., seq_len_k, depth)\n",
    "    v: value shape == (..., seq_len_v, depth_v)\n",
    "    mask: Float tensor with shape broadcastable \n",
    "          to (..., seq_len_q, seq_len_k). Defaults to None.\n",
    "\n",
    "    Returns:\n",
    "    output, attention_weights\n",
    "    \"\"\"\n",
    "\n",
    "    matmul_qk = tf.matmul(q, k, transpose_b=True)  # (..., seq_len_q, seq_len_k)\n",
    "\n",
    "    # scale matmul_qk\n",
    "    dk = tf.cast(tf.shape(k)[-1], tf.float32)\n",
    "    scaled_attention_logits = matmul_qk / tf.math.sqrt(dk)\n",
    "\n",
    "    # add the mask to the scaled tensor.\n",
    "    if mask is not None:\n",
    "        scaled_attention_logits += (mask * -1e9)  \n",
    "\n",
    "    # softmax is normalized on the last axis (seq_len_k) so that the scores\n",
    "    # add up to 1.\n",
    "    attention_weights = tf.nn.softmax(scaled_attention_logits, axis=-1)  # (..., seq_len_q, seq_len_k)\n",
    "\n",
    "    output = tf.matmul(attention_weights, v)  # (..., seq_len_q, depth_v)\n",
    "\n",
    "    return output, attention_weights"
   ]
  },
  {
   "cell_type": "code",
   "execution_count": 84,
   "metadata": {
    "ExecuteTime": {
     "end_time": "2019-12-17T07:42:59.767660Z",
     "start_time": "2019-12-17T07:42:59.758667Z"
    }
   },
   "outputs": [],
   "source": [
    "def print_out(q, k, v):\n",
    "    temp_out, temp_attn = scaled_dot_product_attention(\n",
    "      q, k, v, None)\n",
    "    print ('Attention weights are:')\n",
    "    print (temp_attn)\n",
    "    print ('Output is:')\n",
    "    print (temp_out)"
   ]
  },
  {
   "cell_type": "markdown",
   "metadata": {},
   "source": [
    "# Multi-head Attention"
   ]
  },
  {
   "cell_type": "markdown",
   "metadata": {},
   "source": [
    "![image.png](https://www.tensorflow.org/images/tutorials/transformer/multi_head_attention.png)"
   ]
  },
  {
   "cell_type": "code",
   "execution_count": 85,
   "metadata": {
    "ExecuteTime": {
     "end_time": "2019-12-17T07:49:30.842022Z",
     "start_time": "2019-12-17T07:49:30.813041Z"
    }
   },
   "outputs": [],
   "source": [
    "class MultiHeadAttention(tf.keras.layers.Layer):\n",
    "    def __init__(self, d_model, num_heads):\n",
    "        super(MultiHeadAttention, self).__init__()\n",
    "        self.num_heads = num_heads\n",
    "        self.d_model = d_model\n",
    "\n",
    "        assert d_model % self.num_heads == 0\n",
    "\n",
    "        self.depth = d_model // self.num_heads\n",
    "\n",
    "        self.wq = tf.keras.layers.Dense(d_model)\n",
    "        self.wk = tf.keras.layers.Dense(d_model)\n",
    "        self.wv = tf.keras.layers.Dense(d_model)\n",
    "\n",
    "        self.dense = tf.keras.layers.Dense(d_model)\n",
    "\n",
    "    def split_heads(self, x, batch_size):\n",
    "        \"\"\"Split the last dimension into (num_heads, depth).\n",
    "        Transpose the result such that the shape is (batch_size, num_heads, seq_len, depth)\n",
    "        \"\"\"\n",
    "        x = tf.reshape(x, (batch_size, -1, self.num_heads, self.depth))\n",
    "        return tf.transpose(x, perm=[0, 2, 1, 3])\n",
    "\n",
    "    def call(self, v, k, q, mask):\n",
    "        batch_size = tf.shape(q)[0]\n",
    "\n",
    "        q = self.wq(q)  # (batch_size, seq_len, d_model)\n",
    "        k = self.wk(k)  # (batch_size, seq_len, d_model)\n",
    "        v = self.wv(v)  # (batch_size, seq_len, d_model)\n",
    "\n",
    "        q = self.split_heads(q, batch_size)  # (batch_size, num_heads, seq_len_q, depth)\n",
    "        k = self.split_heads(k, batch_size)  # (batch_size, num_heads, seq_len_k, depth)\n",
    "        v = self.split_heads(v, batch_size)  # (batch_size, num_heads, seq_len_v, depth)\n",
    "\n",
    "        # scaled_attention.shape == (batch_size, num_heads, seq_len_q, depth)\n",
    "        # attention_weights.shape == (batch_size, num_heads, seq_len_q, seq_len_k)\n",
    "        scaled_attention, attention_weights = scaled_dot_product_attention(\n",
    "            q, k, v, mask)\n",
    "\n",
    "        scaled_attention = tf.transpose(scaled_attention, perm=[0, 2, 1, 3])  # (batch_size, seq_len_q, num_heads, depth)\n",
    "\n",
    "        concat_attention = tf.reshape(scaled_attention, \n",
    "                                      (batch_size, -1, self.d_model))  # (batch_size, seq_len_q, d_model)\n",
    "\n",
    "        output = self.dense(concat_attention)  # (batch_size, seq_len_q, d_model)\n",
    "\n",
    "        return output, attention_weights"
   ]
  },
  {
   "cell_type": "markdown",
   "metadata": {},
   "source": [
    "## Position wise FF network "
   ]
  },
  {
   "cell_type": "code",
   "execution_count": 86,
   "metadata": {
    "ExecuteTime": {
     "end_time": "2019-12-17T08:02:58.943357Z",
     "start_time": "2019-12-17T08:02:58.936360Z"
    }
   },
   "outputs": [],
   "source": [
    "def point_wise_feed_forward_network(d_model, dff):\n",
    "    return tf.keras.Sequential([\n",
    "      tf.keras.layers.Dense(dff, activation='relu'),  # (batch_size, seq_len, dff)\n",
    "      tf.keras.layers.Dense(d_model)  # (batch_size, seq_len, d_model)\n",
    "    ])"
   ]
  },
  {
   "cell_type": "markdown",
   "metadata": {},
   "source": [
    "# Encoder And Decoder"
   ]
  },
  {
   "cell_type": "markdown",
   "metadata": {
    "ExecuteTime": {
     "end_time": "2019-12-17T08:03:34.856746Z",
     "start_time": "2019-12-17T08:03:34.732799Z"
    }
   },
   "source": [
    "![](https://www.tensorflow.org/images/tutorials/transformer/transformer.png)"
   ]
  },
  {
   "cell_type": "code",
   "execution_count": 87,
   "metadata": {
    "ExecuteTime": {
     "end_time": "2019-12-17T08:04:44.439758Z",
     "start_time": "2019-12-17T08:04:44.420768Z"
    }
   },
   "outputs": [],
   "source": [
    "class EncoderLayer(tf.keras.layers.Layer):\n",
    "    def __init__(self, d_model, num_heads, dff, rate=0.1):\n",
    "        super(EncoderLayer, self).__init__()\n",
    "\n",
    "        self.mha = MultiHeadAttention(d_model, num_heads)\n",
    "        self.ffn = point_wise_feed_forward_network(d_model, dff)\n",
    "\n",
    "        self.layernorm1 = tf.keras.layers.LayerNormalization(epsilon=1e-6)\n",
    "        self.layernorm2 = tf.keras.layers.LayerNormalization(epsilon=1e-6)\n",
    "\n",
    "        self.dropout1 = tf.keras.layers.Dropout(rate)\n",
    "        self.dropout2 = tf.keras.layers.Dropout(rate)\n",
    "\n",
    "    def call(self, x, training, mask):\n",
    "\n",
    "        attn_output, _ = self.mha(x, x, x, mask)  # (batch_size, input_seq_len, d_model)\n",
    "        attn_output = self.dropout1(attn_output, training=training)\n",
    "        out1 = self.layernorm1(x + attn_output)  # (batch_size, input_seq_len, d_model)\n",
    "\n",
    "        ffn_output = self.ffn(out1)  # (batch_size, input_seq_len, d_model)\n",
    "        ffn_output = self.dropout2(ffn_output, training=training)\n",
    "        out2 = self.layernorm2(out1 + ffn_output)  # (batch_size, input_seq_len, d_model)\n",
    "\n",
    "        return out2"
   ]
  },
  {
   "cell_type": "code",
   "execution_count": 88,
   "metadata": {
    "ExecuteTime": {
     "end_time": "2019-12-17T08:08:09.472494Z",
     "start_time": "2019-12-17T08:08:09.441513Z"
    }
   },
   "outputs": [],
   "source": [
    "class DecoderLayer(tf.keras.layers.Layer):\n",
    "    def __init__(self, d_model, num_heads, dff, rate=0.1):\n",
    "        super(DecoderLayer, self).__init__()\n",
    "\n",
    "        self.mha1 = MultiHeadAttention(d_model, num_heads)\n",
    "        self.mha2 = MultiHeadAttention(d_model, num_heads)\n",
    "\n",
    "        self.ffn = point_wise_feed_forward_network(d_model, dff)\n",
    "\n",
    "        self.layernorm1 = tf.keras.layers.LayerNormalization(epsilon=1e-6)\n",
    "        self.layernorm2 = tf.keras.layers.LayerNormalization(epsilon=1e-6)\n",
    "        self.layernorm3 = tf.keras.layers.LayerNormalization(epsilon=1e-6)\n",
    "\n",
    "        self.dropout1 = tf.keras.layers.Dropout(rate)\n",
    "        self.dropout2 = tf.keras.layers.Dropout(rate)\n",
    "        self.dropout3 = tf.keras.layers.Dropout(rate)\n",
    "\n",
    "\n",
    "    def call(self, x, enc_output, training, look_ahead_mask, padding_mask):\n",
    "        # enc_output.shape == (batch_size, input_seq_len, d_model)\n",
    "\n",
    "        attn1, attn_weights_block1 = self.mha1(x, x, x, look_ahead_mask)  # (batch_size, target_seq_len, d_model)\n",
    "        attn1 = self.dropout1(attn1, training=training)\n",
    "        out1 = self.layernorm1(attn1 + x)\n",
    "\n",
    "        attn2, attn_weights_block2 = self.mha2(\n",
    "            enc_output, enc_output, out1, padding_mask)  # (batch_size, target_seq_len, d_model)\n",
    "        attn2 = self.dropout2(attn2, training=training)\n",
    "        out2 = self.layernorm2(attn2 + out1)  # (batch_size, target_seq_len, d_model)\n",
    "\n",
    "        ffn_output = self.ffn(out2)  # (batch_size, target_seq_len, d_model)\n",
    "        ffn_output = self.dropout3(ffn_output, training=training)\n",
    "        out3 = self.layernorm3(ffn_output + out2)  # (batch_size, target_seq_len, d_model)\n",
    "\n",
    "        return out3, attn_weights_block1, attn_weights_block2"
   ]
  },
  {
   "cell_type": "markdown",
   "metadata": {},
   "source": [
    "# Encoder"
   ]
  },
  {
   "cell_type": "code",
   "execution_count": 89,
   "metadata": {
    "ExecuteTime": {
     "end_time": "2019-12-17T08:10:46.241448Z",
     "start_time": "2019-12-17T08:10:46.223461Z"
    }
   },
   "outputs": [],
   "source": [
    "class Encoder(tf.keras.layers.Layer):\n",
    "    def __init__(self, num_layers, d_model, num_heads, dff, input_vocab_size,\n",
    "               maximum_position_encoding, rate=0.1):\n",
    "        super(Encoder, self).__init__()\n",
    "\n",
    "        self.d_model = d_model\n",
    "        self.num_layers = num_layers\n",
    "\n",
    "        self.embedding = tf.keras.layers.Embedding(input_vocab_size, d_model)\n",
    "        self.pos_encoding = positional_encoding(maximum_position_encoding, \n",
    "                                                self.d_model)\n",
    "\n",
    "\n",
    "        self.enc_layers = [EncoderLayer(d_model, num_heads, dff, rate) \n",
    "                           for _ in range(num_layers)]\n",
    "\n",
    "        self.dropout = tf.keras.layers.Dropout(rate)\n",
    "\n",
    "    def call(self, x, training, mask):\n",
    "\n",
    "        seq_len = tf.shape(x)[1]\n",
    "\n",
    "        # adding embedding and position encoding.\n",
    "        x = self.embedding(x)  # (batch_size, input_seq_len, d_model)\n",
    "        x *= tf.math.sqrt(tf.cast(self.d_model, tf.float32))\n",
    "        x += self.pos_encoding[:, :seq_len, :]\n",
    "\n",
    "        x = self.dropout(x, training=training)\n",
    "\n",
    "        for i in range(self.num_layers):\n",
    "            x = self.enc_layers[i](x, training, mask)\n",
    "\n",
    "        return x  # (batch_size, input_seq_len, d_model)"
   ]
  },
  {
   "cell_type": "markdown",
   "metadata": {},
   "source": [
    "# Decoder"
   ]
  },
  {
   "cell_type": "code",
   "execution_count": 90,
   "metadata": {
    "ExecuteTime": {
     "end_time": "2019-12-17T08:12:45.166137Z",
     "start_time": "2019-12-17T08:12:45.139150Z"
    }
   },
   "outputs": [],
   "source": [
    "class Decoder(tf.keras.layers.Layer):\n",
    "    def __init__(self, num_layers, d_model, num_heads, dff, target_vocab_size,\n",
    "               maximum_position_encoding, rate=0.1):\n",
    "        super(Decoder, self).__init__()\n",
    "\n",
    "        self.d_model = d_model\n",
    "        self.num_layers = num_layers\n",
    "\n",
    "        self.embedding = tf.keras.layers.Embedding(target_vocab_size, d_model)\n",
    "        self.pos_encoding = positional_encoding(maximum_position_encoding, d_model)\n",
    "\n",
    "        self.dec_layers = [DecoderLayer(d_model, num_heads, dff, rate) \n",
    "                           for _ in range(num_layers)]\n",
    "        self.dropout = tf.keras.layers.Dropout(rate)\n",
    "\n",
    "    def call(self, x, enc_output, training, \n",
    "           look_ahead_mask, padding_mask):\n",
    "\n",
    "        seq_len = tf.shape(x)[1]\n",
    "        attention_weights = {}\n",
    "\n",
    "        x = self.embedding(x)  # (batch_size, target_seq_len, d_model)\n",
    "        x *= tf.math.sqrt(tf.cast(self.d_model, tf.float32))\n",
    "        x += self.pos_encoding[:, :seq_len, :]\n",
    "\n",
    "        x = self.dropout(x, training=training)\n",
    "\n",
    "        for i in range(self.num_layers):\n",
    "            x, block1, block2 = self.dec_layers[i](x, enc_output, training,\n",
    "                                                 look_ahead_mask, padding_mask)\n",
    "\n",
    "            attention_weights['decoder_layer{}_block1'.format(i+1)] = block1\n",
    "            attention_weights['decoder_layer{}_block2'.format(i+1)] = block2\n",
    "\n",
    "        # x.shape == (batch_size, target_seq_len, d_model)\n",
    "        return x, attention_weights"
   ]
  },
  {
   "cell_type": "markdown",
   "metadata": {},
   "source": [
    "# Create Transformer"
   ]
  },
  {
   "cell_type": "code",
   "execution_count": 91,
   "metadata": {
    "ExecuteTime": {
     "end_time": "2019-12-17T08:14:09.012806Z",
     "start_time": "2019-12-17T08:14:08.959838Z"
    }
   },
   "outputs": [],
   "source": [
    "class Transformer(tf.keras.Model):\n",
    "    def __init__(self, num_layers, d_model, num_heads, dff, input_vocab_size, \n",
    "               target_vocab_size, pe_input, pe_target, rate=0.1):\n",
    "        super(Transformer, self).__init__()\n",
    "\n",
    "        self.encoder = Encoder(num_layers, d_model, num_heads, dff, \n",
    "                               input_vocab_size, pe_input, rate)\n",
    "\n",
    "        self.decoder = Decoder(num_layers, d_model, num_heads, dff, \n",
    "                               target_vocab_size, pe_target, rate)\n",
    "\n",
    "        self.final_layer = tf.keras.layers.Dense(target_vocab_size)\n",
    "\n",
    "    def call(self, inp, tar, training, enc_padding_mask, \n",
    "               look_ahead_mask, dec_padding_mask):\n",
    "\n",
    "        enc_output = self.encoder(inp, training, enc_padding_mask)  # (batch_size, inp_seq_len, d_model)\n",
    "\n",
    "        # dec_output.shape == (batch_size, tar_seq_len, d_model)\n",
    "        dec_output, attention_weights = self.decoder(\n",
    "            tar, enc_output, training, look_ahead_mask, dec_padding_mask)\n",
    "\n",
    "        final_output = self.final_layer(dec_output)  # (batch_size, tar_seq_len, target_vocab_size)\n",
    "\n",
    "        return final_output, attention_weights"
   ]
  },
  {
   "cell_type": "markdown",
   "metadata": {},
   "source": [
    "## Hyperparameters"
   ]
  },
  {
   "cell_type": "code",
   "execution_count": 92,
   "metadata": {
    "ExecuteTime": {
     "end_time": "2019-12-17T08:16:44.259636Z",
     "start_time": "2019-12-17T08:16:44.252642Z"
    }
   },
   "outputs": [],
   "source": [
    "num_layers = 4\n",
    "d_model = 128\n",
    "dff = 512\n",
    "num_heads = 8\n",
    "\n",
    "input_vocab_size = len(input_id) + 2\n",
    "target_vocab_size = len(target_id) + 2\n",
    "dropout_rate = 0.1"
   ]
  },
  {
   "cell_type": "code",
   "execution_count": 93,
   "metadata": {},
   "outputs": [
    {
     "data": {
      "text/plain": [
       "(7051, 10364)"
      ]
     },
     "execution_count": 93,
     "metadata": {},
     "output_type": "execute_result"
    }
   ],
   "source": [
    "input_vocab_size, target_vocab_size"
   ]
  },
  {
   "cell_type": "code",
   "execution_count": 111,
   "metadata": {},
   "outputs": [
    {
     "data": {
      "text/plain": [
       "(7049, 10003)"
      ]
     },
     "execution_count": 111,
     "metadata": {},
     "output_type": "execute_result"
    }
   ],
   "source": [
    "len(input_id), len(target_id)"
   ]
  },
  {
   "cell_type": "markdown",
   "metadata": {},
   "source": [
    "## Optimizer\n",
    "커스텀 learning rate scheduler를 더한 Adam Optimizer를 사용"
   ]
  },
  {
   "cell_type": "code",
   "execution_count": 95,
   "metadata": {
    "ExecuteTime": {
     "end_time": "2019-12-17T08:18:07.024874Z",
     "start_time": "2019-12-17T08:18:06.998891Z"
    }
   },
   "outputs": [],
   "source": [
    "class CustomSchedule(tf.keras.optimizers.schedules.LearningRateSchedule):\n",
    "    def __init__(self, d_model, warmup_steps=4000):\n",
    "        super(CustomSchedule, self).__init__()\n",
    "\n",
    "        self.d_model = d_model\n",
    "        self.d_model = tf.cast(self.d_model, tf.float32)\n",
    "\n",
    "        self.warmup_steps = warmup_steps\n",
    "\n",
    "    def __call__(self, step):\n",
    "        arg1 = tf.math.rsqrt(step)\n",
    "        arg2 = step * (self.warmup_steps ** -1.5)\n",
    "\n",
    "        return tf.math.rsqrt(self.d_model) * tf.math.minimum(arg1, arg2)"
   ]
  },
  {
   "cell_type": "code",
   "execution_count": 96,
   "metadata": {
    "ExecuteTime": {
     "end_time": "2019-12-17T08:20:05.782656Z",
     "start_time": "2019-12-17T08:20:05.762666Z"
    }
   },
   "outputs": [],
   "source": [
    "learning_rate = CustomSchedule(d_model)\n",
    "\n",
    "optimizer = tf.keras.optimizers.Adam(learning_rate, beta_1=0.9, beta_2=0.98, \n",
    "                                     epsilon=1e-9)"
   ]
  },
  {
   "cell_type": "code",
   "execution_count": 97,
   "metadata": {
    "ExecuteTime": {
     "end_time": "2019-12-17T08:20:10.669897Z",
     "start_time": "2019-12-17T08:20:09.928274Z"
    }
   },
   "outputs": [],
   "source": [
    "# temp_learning_rate_schedule = CustomSchedule(d_model)\n",
    "\n",
    "# plt.plot(temp_learning_rate_schedule(tf.range(40000, dtype=tf.float32)))\n",
    "# plt.ylabel(\"Learning Rate\")\n",
    "# plt.xlabel(\"Train Step\")"
   ]
  },
  {
   "cell_type": "markdown",
   "metadata": {},
   "source": [
    "## Loss and Metrics\n",
    "target sequence가 padded 되었기 때문에, loss 계산 시에 padding mask를 적용해야 한다."
   ]
  },
  {
   "cell_type": "code",
   "execution_count": 98,
   "metadata": {
    "ExecuteTime": {
     "end_time": "2019-12-17T08:23:40.953062Z",
     "start_time": "2019-12-17T08:23:40.945065Z"
    }
   },
   "outputs": [],
   "source": [
    "loss_object = tf.keras.losses.SparseCategoricalCrossentropy(\n",
    "    from_logits=True, reduction='none')"
   ]
  },
  {
   "cell_type": "code",
   "execution_count": 99,
   "metadata": {
    "ExecuteTime": {
     "end_time": "2019-12-17T08:23:58.954722Z",
     "start_time": "2019-12-17T08:23:58.943725Z"
    }
   },
   "outputs": [],
   "source": [
    "def loss_function(real, pred):\n",
    "    mask = tf.math.logical_not(tf.math.equal(real, 0))\n",
    "    loss_ = loss_object(real, pred)\n",
    "\n",
    "    mask = tf.cast(mask, dtype=loss_.dtype)\n",
    "    loss_ *= mask\n",
    "\n",
    "    return tf.reduce_mean(loss_)"
   ]
  },
  {
   "cell_type": "code",
   "execution_count": 100,
   "metadata": {
    "ExecuteTime": {
     "end_time": "2019-12-17T08:24:31.194202Z",
     "start_time": "2019-12-17T08:24:31.137234Z"
    }
   },
   "outputs": [],
   "source": [
    "train_loss = tf.keras.metrics.Mean(name='train_loss')\n",
    "train_accuracy = tf.keras.metrics.SparseCategoricalAccuracy(\n",
    "    name='train_accuracy')"
   ]
  },
  {
   "cell_type": "markdown",
   "metadata": {},
   "source": [
    "# Training and Checkpointing"
   ]
  },
  {
   "cell_type": "code",
   "execution_count": 101,
   "metadata": {
    "ExecuteTime": {
     "end_time": "2019-12-17T08:29:03.759655Z",
     "start_time": "2019-12-17T08:29:03.490795Z"
    }
   },
   "outputs": [],
   "source": [
    "transformer = Transformer(num_layers, d_model, num_heads, dff,\n",
    "                          input_vocab_size, target_vocab_size, \n",
    "                          pe_input=input_vocab_size, \n",
    "                          pe_target=target_vocab_size,\n",
    "                          rate=dropout_rate)"
   ]
  },
  {
   "cell_type": "code",
   "execution_count": 102,
   "metadata": {
    "ExecuteTime": {
     "end_time": "2019-12-17T08:29:32.629055Z",
     "start_time": "2019-12-17T08:29:32.618063Z"
    }
   },
   "outputs": [],
   "source": [
    "def create_masks(inp, tar):\n",
    "    # Encoder padding mask\n",
    "    enc_padding_mask = create_padding_mask(inp)\n",
    "\n",
    "    # Used in the 2nd attention block in the decoder.\n",
    "    # This padding mask is used to mask the encoder outputs.\n",
    "    dec_padding_mask = create_padding_mask(inp)\n",
    "\n",
    "    # Used in the 1st attention block in the decoder.\n",
    "    # It is used to pad and mask future tokens in the input received by \n",
    "    # the decoder.\n",
    "    look_ahead_mask = create_look_ahead_mask(tf.shape(tar)[1])\n",
    "    dec_target_padding_mask = create_padding_mask(tar)\n",
    "    combined_mask = tf.maximum(dec_target_padding_mask, look_ahead_mask)\n",
    "\n",
    "    return enc_padding_mask, combined_mask, dec_padding_mask"
   ]
  },
  {
   "cell_type": "code",
   "execution_count": 103,
   "metadata": {
    "ExecuteTime": {
     "end_time": "2019-12-17T08:30:07.937774Z",
     "start_time": "2019-12-17T08:30:07.916785Z"
    }
   },
   "outputs": [
    {
     "name": "stdout",
     "output_type": "stream",
     "text": [
      "Latest checkpoint restored!!\n"
     ]
    }
   ],
   "source": [
    "checkpoint_path = \"/home/work/nlp/checkpoints/train\"\n",
    "\n",
    "ckpt = tf.train.Checkpoint(transformer=transformer,\n",
    "                           optimizer=optimizer)\n",
    "\n",
    "ckpt_manager = tf.train.CheckpointManager(ckpt, checkpoint_path, max_to_keep=5)\n",
    "\n",
    "# if a checkpoint exists, restore the latest checkpoint.\n",
    "if ckpt_manager.latest_checkpoint:\n",
    "    ckpt.restore(ckpt_manager.latest_checkpoint)\n",
    "    print ('Latest checkpoint restored!!')"
   ]
  },
  {
   "cell_type": "code",
   "execution_count": 52,
   "metadata": {
    "ExecuteTime": {
     "end_time": "2019-12-17T08:30:54.343118Z",
     "start_time": "2019-12-17T08:30:54.337124Z"
    }
   },
   "outputs": [],
   "source": [
    "# EPOCHS = 20"
   ]
  },
  {
   "cell_type": "code",
   "execution_count": 53,
   "metadata": {
    "ExecuteTime": {
     "end_time": "2019-12-17T10:28:32.391226Z",
     "start_time": "2019-12-17T10:28:32.358244Z"
    }
   },
   "outputs": [],
   "source": [
    "# # The @tf.function trace-compiles train_step into a TF graph for faster\n",
    "# # execution. The function specializes to the precise shape of the argument\n",
    "# # tensors. To avoid re-tracing due to the variable sequence lengths or variable\n",
    "# # batch sizes (the last batch is smaller), use input_signature to specify\n",
    "# # more generic shapes.\n",
    "\n",
    "# train_step_signature = [\n",
    "#     tf.TensorSpec(shape=(None, None), dtype=tf.int64),\n",
    "#     tf.TensorSpec(shape=(None, None), dtype=tf.int64),\n",
    "# ]\n",
    "\n",
    "# @tf.function(input_signature=train_step_signature)\n",
    "# def train_step(inp, tar):\n",
    "#     tar_inp = tar[:, :-1]\n",
    "#     tar_real = tar[:, 1:]\n",
    "\n",
    "#     enc_padding_mask, combined_mask, dec_padding_mask = create_masks(inp, tar_inp)\n",
    "\n",
    "#     with tf.GradientTape() as tape:\n",
    "#         predictions, _ = transformer(inp, tar_inp, \n",
    "#                                      True, \n",
    "#                                      enc_padding_mask, \n",
    "#                                      combined_mask, \n",
    "#                                      dec_padding_mask)\n",
    "#         loss = loss_function(tar_real, predictions)\n",
    "\n",
    "#     gradients = tape.gradient(loss, transformer.trainable_variables)    \n",
    "#     optimizer.apply_gradients(zip(gradients, transformer.trainable_variables))\n",
    "\n",
    "#     train_loss(loss)\n",
    "#     train_accuracy(tar_real, predictions)"
   ]
  },
  {
   "cell_type": "markdown",
   "metadata": {},
   "source": [
    "# Evaluate"
   ]
  },
  {
   "cell_type": "code",
   "execution_count": 164,
   "metadata": {},
   "outputs": [],
   "source": [
    "def evaluate(inp_sentence):\n",
    "\n",
    "    # inp sentence is portuguese, hence adding the start and end token\n",
    "#     inp_sentence = tf.convert_to_tensor(inp_sentence.apply(encode_original))\n",
    "    encoder_input = inp_sentence\n",
    "\n",
    "    # as the target is english, the first word to the transformer should be the\n",
    "    # english start token.\n",
    "    decoder_input = [[len(target_id)]*32]\n",
    "    output = tf.convert_to_tensor(pad_sequences(decoder_input, maxlen=200, padding='post', truncating='post'),dtype=tf.int64)\n",
    "\n",
    "    for i in range(200):\n",
    "        print(encoder_input)\n",
    "        print(output)\n",
    "        enc_padding_mask, combined_mask, dec_padding_mask = create_masks(\n",
    "        encoder_input, output)\n",
    "        \n",
    "        # predictions.shape == (batch_size, seq_len, vocab_size)\n",
    "        predictions, attention_weights = transformer(encoder_input, \n",
    "                                                 output,\n",
    "                                                 False,\n",
    "                                                 enc_padding_mask,\n",
    "                                                 combined_mask,\n",
    "                                                 dec_padding_mask)\n",
    "\n",
    "        # select the last word from the seq_len dimension\n",
    "        predictions = predictions[: ,-1:, :]  # (batch_size, 1, vocab_size)\n",
    "\n",
    "        predicted_id = tf.cast(tf.argmax(predictions, axis=-1), tf.int32)\n",
    "\n",
    "        # return the result if the predicted_id is equal to the end token\n",
    "        if predicted_id == len(target_id)+1:\n",
    "            return tf.squeeze(output, axis=0), attention_weights\n",
    "\n",
    "        # concatentate the predicted_id to the output which is given to the decoder\n",
    "        # as its input.\n",
    "        output = tf.concat([output, predicted_id], axis=-1)\n",
    "\n",
    "    return tf.squeeze(output, axis=0), attention_weights"
   ]
  },
  {
   "cell_type": "code",
   "execution_count": 165,
   "metadata": {},
   "outputs": [],
   "source": [
    "origin, trans = df.original.apply(encode_original), df.translation.apply(encode_translation)\n",
    "encoder_input_data = tf.convert_to_tensor(pad_sequences(origin, maxlen=200, padding='post', truncating='post'),dtype=tf.int64)\n"
   ]
  },
  {
   "cell_type": "code",
   "execution_count": 166,
   "metadata": {},
   "outputs": [
    {
     "name": "stdout",
     "output_type": "stream",
     "text": [
      "tf.Tensor(\n",
      "[[7049   11  516 ...    2  713  604]\n",
      " [7049   11   14 ...    5  178   24]\n",
      " [7049   11  345 ...    0    0    0]\n",
      " ...\n",
      " [7049   11  610 ...    0    0    0]\n",
      " [7049   11  324 ...    0    0    0]\n",
      " [7049   11  345 ...    0    0    0]], shape=(32, 200), dtype=int64)\n",
      "tf.Tensor(\n",
      "[[10362 10362 10362 10362 10362 10362 10362 10362 10362 10362 10362 10362\n",
      "  10362 10362 10362 10362 10362 10362 10362 10362 10362 10362 10362 10362\n",
      "  10362 10362 10362 10362 10362 10362 10362 10362     0     0     0     0\n",
      "      0     0     0     0     0     0     0     0     0     0     0     0\n",
      "      0     0     0     0     0     0     0     0     0     0     0     0\n",
      "      0     0     0     0     0     0     0     0     0     0     0     0\n",
      "      0     0     0     0     0     0     0     0     0     0     0     0\n",
      "      0     0     0     0     0     0     0     0     0     0     0     0\n",
      "      0     0     0     0     0     0     0     0     0     0     0     0\n",
      "      0     0     0     0     0     0     0     0     0     0     0     0\n",
      "      0     0     0     0     0     0     0     0     0     0     0     0\n",
      "      0     0     0     0     0     0     0     0     0     0     0     0\n",
      "      0     0     0     0     0     0     0     0     0     0     0     0\n",
      "      0     0     0     0     0     0     0     0     0     0     0     0\n",
      "      0     0     0     0     0     0     0     0     0     0     0     0\n",
      "      0     0     0     0     0     0     0     0     0     0     0     0\n",
      "      0     0     0     0     0     0     0     0]], shape=(1, 200), dtype=int64)\n"
     ]
    },
    {
     "ename": "ValueError",
     "evalue": "Tensor's shape (51112, 128) is not compatible with supplied shape (10364, 128)",
     "output_type": "error",
     "traceback": [
      "\u001b[0;31m\u001b[0m",
      "\u001b[0;31mValueError\u001b[0mTraceback (most recent call last)",
      "\u001b[0;32m<ipython-input-166-f9aca9a78a3e>\u001b[0m in \u001b[0;36m<module>\u001b[0;34m\u001b[0m\n\u001b[0;32m----> 1\u001b[0;31m \u001b[0mevaluate\u001b[0m\u001b[0;34m(\u001b[0m\u001b[0mencoder_input_data\u001b[0m\u001b[0;34m)\u001b[0m\u001b[0;34m\u001b[0m\u001b[0;34m\u001b[0m\u001b[0m\n\u001b[0m",
      "\u001b[0;32m<ipython-input-164-6b5024832ba5>\u001b[0m in \u001b[0;36mevaluate\u001b[0;34m(inp_sentence)\u001b[0m\n\u001b[1;32m     22\u001b[0m                                                  \u001b[0menc_padding_mask\u001b[0m\u001b[0;34m,\u001b[0m\u001b[0;34m\u001b[0m\u001b[0;34m\u001b[0m\u001b[0m\n\u001b[1;32m     23\u001b[0m                                                  \u001b[0mcombined_mask\u001b[0m\u001b[0;34m,\u001b[0m\u001b[0;34m\u001b[0m\u001b[0;34m\u001b[0m\u001b[0m\n\u001b[0;32m---> 24\u001b[0;31m                                                  dec_padding_mask)\n\u001b[0m\u001b[1;32m     25\u001b[0m \u001b[0;34m\u001b[0m\u001b[0m\n\u001b[1;32m     26\u001b[0m         \u001b[0;31m# select the last word from the seq_len dimension\u001b[0m\u001b[0;34m\u001b[0m\u001b[0;34m\u001b[0m\u001b[0;34m\u001b[0m\u001b[0m\n",
      "\u001b[0;32m/usr/local/lib/python3.6/site-packages/tensorflow_core/python/keras/engine/base_layer.py\u001b[0m in \u001b[0;36m__call__\u001b[0;34m(self, inputs, *args, **kwargs)\u001b[0m\n\u001b[1;32m    889\u001b[0m           with base_layer_utils.autocast_context_manager(\n\u001b[1;32m    890\u001b[0m               self._compute_dtype):\n\u001b[0;32m--> 891\u001b[0;31m             \u001b[0moutputs\u001b[0m \u001b[0;34m=\u001b[0m \u001b[0mself\u001b[0m\u001b[0;34m.\u001b[0m\u001b[0mcall\u001b[0m\u001b[0;34m(\u001b[0m\u001b[0mcast_inputs\u001b[0m\u001b[0;34m,\u001b[0m \u001b[0;34m*\u001b[0m\u001b[0margs\u001b[0m\u001b[0;34m,\u001b[0m \u001b[0;34m**\u001b[0m\u001b[0mkwargs\u001b[0m\u001b[0;34m)\u001b[0m\u001b[0;34m\u001b[0m\u001b[0;34m\u001b[0m\u001b[0m\n\u001b[0m\u001b[1;32m    892\u001b[0m           \u001b[0mself\u001b[0m\u001b[0;34m.\u001b[0m\u001b[0m_handle_activity_regularization\u001b[0m\u001b[0;34m(\u001b[0m\u001b[0minputs\u001b[0m\u001b[0;34m,\u001b[0m \u001b[0moutputs\u001b[0m\u001b[0;34m)\u001b[0m\u001b[0;34m\u001b[0m\u001b[0;34m\u001b[0m\u001b[0m\n\u001b[1;32m    893\u001b[0m           \u001b[0mself\u001b[0m\u001b[0;34m.\u001b[0m\u001b[0m_set_mask_metadata\u001b[0m\u001b[0;34m(\u001b[0m\u001b[0minputs\u001b[0m\u001b[0;34m,\u001b[0m \u001b[0moutputs\u001b[0m\u001b[0;34m,\u001b[0m \u001b[0minput_masks\u001b[0m\u001b[0;34m)\u001b[0m\u001b[0;34m\u001b[0m\u001b[0;34m\u001b[0m\u001b[0m\n",
      "\u001b[0;32m<ipython-input-91-cf3f36bb1f8e>\u001b[0m in \u001b[0;36mcall\u001b[0;34m(self, inp, tar, training, enc_padding_mask, look_ahead_mask, dec_padding_mask)\u001b[0m\n\u001b[1;32m     19\u001b[0m         \u001b[0;31m# dec_output.shape == (batch_size, tar_seq_len, d_model)\u001b[0m\u001b[0;34m\u001b[0m\u001b[0;34m\u001b[0m\u001b[0;34m\u001b[0m\u001b[0m\n\u001b[1;32m     20\u001b[0m         dec_output, attention_weights = self.decoder(\n\u001b[0;32m---> 21\u001b[0;31m             tar, enc_output, training, look_ahead_mask, dec_padding_mask)\n\u001b[0m\u001b[1;32m     22\u001b[0m \u001b[0;34m\u001b[0m\u001b[0m\n\u001b[1;32m     23\u001b[0m         \u001b[0mfinal_output\u001b[0m \u001b[0;34m=\u001b[0m \u001b[0mself\u001b[0m\u001b[0;34m.\u001b[0m\u001b[0mfinal_layer\u001b[0m\u001b[0;34m(\u001b[0m\u001b[0mdec_output\u001b[0m\u001b[0;34m)\u001b[0m  \u001b[0;31m# (batch_size, tar_seq_len, target_vocab_size)\u001b[0m\u001b[0;34m\u001b[0m\u001b[0;34m\u001b[0m\u001b[0m\n",
      "\u001b[0;32m/usr/local/lib/python3.6/site-packages/tensorflow_core/python/keras/engine/base_layer.py\u001b[0m in \u001b[0;36m__call__\u001b[0;34m(self, inputs, *args, **kwargs)\u001b[0m\n\u001b[1;32m    889\u001b[0m           with base_layer_utils.autocast_context_manager(\n\u001b[1;32m    890\u001b[0m               self._compute_dtype):\n\u001b[0;32m--> 891\u001b[0;31m             \u001b[0moutputs\u001b[0m \u001b[0;34m=\u001b[0m \u001b[0mself\u001b[0m\u001b[0;34m.\u001b[0m\u001b[0mcall\u001b[0m\u001b[0;34m(\u001b[0m\u001b[0mcast_inputs\u001b[0m\u001b[0;34m,\u001b[0m \u001b[0;34m*\u001b[0m\u001b[0margs\u001b[0m\u001b[0;34m,\u001b[0m \u001b[0;34m**\u001b[0m\u001b[0mkwargs\u001b[0m\u001b[0;34m)\u001b[0m\u001b[0;34m\u001b[0m\u001b[0;34m\u001b[0m\u001b[0m\n\u001b[0m\u001b[1;32m    892\u001b[0m           \u001b[0mself\u001b[0m\u001b[0;34m.\u001b[0m\u001b[0m_handle_activity_regularization\u001b[0m\u001b[0;34m(\u001b[0m\u001b[0minputs\u001b[0m\u001b[0;34m,\u001b[0m \u001b[0moutputs\u001b[0m\u001b[0;34m)\u001b[0m\u001b[0;34m\u001b[0m\u001b[0;34m\u001b[0m\u001b[0m\n\u001b[1;32m    893\u001b[0m           \u001b[0mself\u001b[0m\u001b[0;34m.\u001b[0m\u001b[0m_set_mask_metadata\u001b[0m\u001b[0;34m(\u001b[0m\u001b[0minputs\u001b[0m\u001b[0;34m,\u001b[0m \u001b[0moutputs\u001b[0m\u001b[0;34m,\u001b[0m \u001b[0minput_masks\u001b[0m\u001b[0;34m)\u001b[0m\u001b[0;34m\u001b[0m\u001b[0;34m\u001b[0m\u001b[0m\n",
      "\u001b[0;32m<ipython-input-90-17b27392aaba>\u001b[0m in \u001b[0;36mcall\u001b[0;34m(self, x, enc_output, training, look_ahead_mask, padding_mask)\u001b[0m\n\u001b[1;32m     20\u001b[0m         \u001b[0mattention_weights\u001b[0m \u001b[0;34m=\u001b[0m \u001b[0;34m{\u001b[0m\u001b[0;34m}\u001b[0m\u001b[0;34m\u001b[0m\u001b[0;34m\u001b[0m\u001b[0m\n\u001b[1;32m     21\u001b[0m \u001b[0;34m\u001b[0m\u001b[0m\n\u001b[0;32m---> 22\u001b[0;31m         \u001b[0mx\u001b[0m \u001b[0;34m=\u001b[0m \u001b[0mself\u001b[0m\u001b[0;34m.\u001b[0m\u001b[0membedding\u001b[0m\u001b[0;34m(\u001b[0m\u001b[0mx\u001b[0m\u001b[0;34m)\u001b[0m  \u001b[0;31m# (batch_size, target_seq_len, d_model)\u001b[0m\u001b[0;34m\u001b[0m\u001b[0;34m\u001b[0m\u001b[0m\n\u001b[0m\u001b[1;32m     23\u001b[0m         \u001b[0mx\u001b[0m \u001b[0;34m*=\u001b[0m \u001b[0mtf\u001b[0m\u001b[0;34m.\u001b[0m\u001b[0mmath\u001b[0m\u001b[0;34m.\u001b[0m\u001b[0msqrt\u001b[0m\u001b[0;34m(\u001b[0m\u001b[0mtf\u001b[0m\u001b[0;34m.\u001b[0m\u001b[0mcast\u001b[0m\u001b[0;34m(\u001b[0m\u001b[0mself\u001b[0m\u001b[0;34m.\u001b[0m\u001b[0md_model\u001b[0m\u001b[0;34m,\u001b[0m \u001b[0mtf\u001b[0m\u001b[0;34m.\u001b[0m\u001b[0mfloat32\u001b[0m\u001b[0;34m)\u001b[0m\u001b[0;34m)\u001b[0m\u001b[0;34m\u001b[0m\u001b[0;34m\u001b[0m\u001b[0m\n\u001b[1;32m     24\u001b[0m         \u001b[0mx\u001b[0m \u001b[0;34m+=\u001b[0m \u001b[0mself\u001b[0m\u001b[0;34m.\u001b[0m\u001b[0mpos_encoding\u001b[0m\u001b[0;34m[\u001b[0m\u001b[0;34m:\u001b[0m\u001b[0;34m,\u001b[0m \u001b[0;34m:\u001b[0m\u001b[0mseq_len\u001b[0m\u001b[0;34m,\u001b[0m \u001b[0;34m:\u001b[0m\u001b[0;34m]\u001b[0m\u001b[0;34m\u001b[0m\u001b[0;34m\u001b[0m\u001b[0m\n",
      "\u001b[0;32m/usr/local/lib/python3.6/site-packages/tensorflow_core/python/keras/engine/base_layer.py\u001b[0m in \u001b[0;36m__call__\u001b[0;34m(self, inputs, *args, **kwargs)\u001b[0m\n\u001b[1;32m    885\u001b[0m         \u001b[0;31m# Eager execution on data tensors.\u001b[0m\u001b[0;34m\u001b[0m\u001b[0;34m\u001b[0m\u001b[0;34m\u001b[0m\u001b[0m\n\u001b[1;32m    886\u001b[0m         \u001b[0;32mwith\u001b[0m \u001b[0mbackend\u001b[0m\u001b[0;34m.\u001b[0m\u001b[0mname_scope\u001b[0m\u001b[0;34m(\u001b[0m\u001b[0mself\u001b[0m\u001b[0;34m.\u001b[0m\u001b[0m_name_scope\u001b[0m\u001b[0;34m(\u001b[0m\u001b[0;34m)\u001b[0m\u001b[0;34m)\u001b[0m\u001b[0;34m:\u001b[0m\u001b[0;34m\u001b[0m\u001b[0;34m\u001b[0m\u001b[0m\n\u001b[0;32m--> 887\u001b[0;31m           \u001b[0mself\u001b[0m\u001b[0;34m.\u001b[0m\u001b[0m_maybe_build\u001b[0m\u001b[0;34m(\u001b[0m\u001b[0minputs\u001b[0m\u001b[0;34m)\u001b[0m\u001b[0;34m\u001b[0m\u001b[0;34m\u001b[0m\u001b[0m\n\u001b[0m\u001b[1;32m    888\u001b[0m           \u001b[0mcast_inputs\u001b[0m \u001b[0;34m=\u001b[0m \u001b[0mself\u001b[0m\u001b[0;34m.\u001b[0m\u001b[0m_maybe_cast_inputs\u001b[0m\u001b[0;34m(\u001b[0m\u001b[0minputs\u001b[0m\u001b[0;34m)\u001b[0m\u001b[0;34m\u001b[0m\u001b[0;34m\u001b[0m\u001b[0m\n\u001b[1;32m    889\u001b[0m           with base_layer_utils.autocast_context_manager(\n",
      "\u001b[0;32m/usr/local/lib/python3.6/site-packages/tensorflow_core/python/keras/engine/base_layer.py\u001b[0m in \u001b[0;36m_maybe_build\u001b[0;34m(self, inputs)\u001b[0m\n\u001b[1;32m   2139\u001b[0m         \u001b[0;31m# operations.\u001b[0m\u001b[0;34m\u001b[0m\u001b[0;34m\u001b[0m\u001b[0;34m\u001b[0m\u001b[0m\n\u001b[1;32m   2140\u001b[0m         \u001b[0;32mwith\u001b[0m \u001b[0mtf_utils\u001b[0m\u001b[0;34m.\u001b[0m\u001b[0mmaybe_init_scope\u001b[0m\u001b[0;34m(\u001b[0m\u001b[0mself\u001b[0m\u001b[0;34m)\u001b[0m\u001b[0;34m:\u001b[0m\u001b[0;34m\u001b[0m\u001b[0;34m\u001b[0m\u001b[0m\n\u001b[0;32m-> 2141\u001b[0;31m           \u001b[0mself\u001b[0m\u001b[0;34m.\u001b[0m\u001b[0mbuild\u001b[0m\u001b[0;34m(\u001b[0m\u001b[0minput_shapes\u001b[0m\u001b[0;34m)\u001b[0m\u001b[0;34m\u001b[0m\u001b[0;34m\u001b[0m\u001b[0m\n\u001b[0m\u001b[1;32m   2142\u001b[0m       \u001b[0;31m# We must set self.built since user defined build functions are not\u001b[0m\u001b[0;34m\u001b[0m\u001b[0;34m\u001b[0m\u001b[0;34m\u001b[0m\u001b[0m\n\u001b[1;32m   2143\u001b[0m       \u001b[0;31m# constrained to set self.built.\u001b[0m\u001b[0;34m\u001b[0m\u001b[0;34m\u001b[0m\u001b[0;34m\u001b[0m\u001b[0m\n",
      "\u001b[0;32m/usr/local/lib/python3.6/site-packages/tensorflow_core/python/keras/utils/tf_utils.py\u001b[0m in \u001b[0;36mwrapper\u001b[0;34m(instance, input_shape)\u001b[0m\n\u001b[1;32m    304\u001b[0m     \u001b[0;32mif\u001b[0m \u001b[0minput_shape\u001b[0m \u001b[0;32mis\u001b[0m \u001b[0;32mnot\u001b[0m \u001b[0;32mNone\u001b[0m\u001b[0;34m:\u001b[0m\u001b[0;34m\u001b[0m\u001b[0;34m\u001b[0m\u001b[0m\n\u001b[1;32m    305\u001b[0m       \u001b[0minput_shape\u001b[0m \u001b[0;34m=\u001b[0m \u001b[0mconvert_shapes\u001b[0m\u001b[0;34m(\u001b[0m\u001b[0minput_shape\u001b[0m\u001b[0;34m,\u001b[0m \u001b[0mto_tuples\u001b[0m\u001b[0;34m=\u001b[0m\u001b[0;32mTrue\u001b[0m\u001b[0;34m)\u001b[0m\u001b[0;34m\u001b[0m\u001b[0;34m\u001b[0m\u001b[0m\n\u001b[0;32m--> 306\u001b[0;31m     \u001b[0moutput_shape\u001b[0m \u001b[0;34m=\u001b[0m \u001b[0mfn\u001b[0m\u001b[0;34m(\u001b[0m\u001b[0minstance\u001b[0m\u001b[0;34m,\u001b[0m \u001b[0minput_shape\u001b[0m\u001b[0;34m)\u001b[0m\u001b[0;34m\u001b[0m\u001b[0;34m\u001b[0m\u001b[0m\n\u001b[0m\u001b[1;32m    307\u001b[0m     \u001b[0;31m# Return shapes from `fn` as TensorShapes.\u001b[0m\u001b[0;34m\u001b[0m\u001b[0;34m\u001b[0m\u001b[0;34m\u001b[0m\u001b[0m\n\u001b[1;32m    308\u001b[0m     \u001b[0;32mif\u001b[0m \u001b[0moutput_shape\u001b[0m \u001b[0;32mis\u001b[0m \u001b[0;32mnot\u001b[0m \u001b[0;32mNone\u001b[0m\u001b[0;34m:\u001b[0m\u001b[0;34m\u001b[0m\u001b[0;34m\u001b[0m\u001b[0m\n",
      "\u001b[0;32m/usr/local/lib/python3.6/site-packages/tensorflow_core/python/keras/layers/embeddings.py\u001b[0m in \u001b[0;36mbuild\u001b[0;34m(self, input_shape)\u001b[0m\n\u001b[1;32m    144\u001b[0m           \u001b[0mname\u001b[0m\u001b[0;34m=\u001b[0m\u001b[0;34m'embeddings'\u001b[0m\u001b[0;34m,\u001b[0m\u001b[0;34m\u001b[0m\u001b[0;34m\u001b[0m\u001b[0m\n\u001b[1;32m    145\u001b[0m           \u001b[0mregularizer\u001b[0m\u001b[0;34m=\u001b[0m\u001b[0mself\u001b[0m\u001b[0;34m.\u001b[0m\u001b[0membeddings_regularizer\u001b[0m\u001b[0;34m,\u001b[0m\u001b[0;34m\u001b[0m\u001b[0;34m\u001b[0m\u001b[0m\n\u001b[0;32m--> 146\u001b[0;31m           constraint=self.embeddings_constraint)\n\u001b[0m\u001b[1;32m    147\u001b[0m     \u001b[0mself\u001b[0m\u001b[0;34m.\u001b[0m\u001b[0mbuilt\u001b[0m \u001b[0;34m=\u001b[0m \u001b[0;32mTrue\u001b[0m\u001b[0;34m\u001b[0m\u001b[0;34m\u001b[0m\u001b[0m\n\u001b[1;32m    148\u001b[0m \u001b[0;34m\u001b[0m\u001b[0m\n",
      "\u001b[0;32m/usr/local/lib/python3.6/site-packages/tensorflow_core/python/keras/engine/base_layer.py\u001b[0m in \u001b[0;36madd_weight\u001b[0;34m(self, name, shape, dtype, initializer, regularizer, trainable, constraint, partitioner, use_resource, synchronization, aggregation, **kwargs)\u001b[0m\n\u001b[1;32m    520\u001b[0m         \u001b[0mcollections\u001b[0m\u001b[0;34m=\u001b[0m\u001b[0mcollections_arg\u001b[0m\u001b[0;34m,\u001b[0m\u001b[0;34m\u001b[0m\u001b[0;34m\u001b[0m\u001b[0m\n\u001b[1;32m    521\u001b[0m         \u001b[0msynchronization\u001b[0m\u001b[0;34m=\u001b[0m\u001b[0msynchronization\u001b[0m\u001b[0;34m,\u001b[0m\u001b[0;34m\u001b[0m\u001b[0;34m\u001b[0m\u001b[0m\n\u001b[0;32m--> 522\u001b[0;31m         aggregation=aggregation)\n\u001b[0m\u001b[1;32m    523\u001b[0m     \u001b[0mbackend\u001b[0m\u001b[0;34m.\u001b[0m\u001b[0mtrack_variable\u001b[0m\u001b[0;34m(\u001b[0m\u001b[0mvariable\u001b[0m\u001b[0;34m)\u001b[0m\u001b[0;34m\u001b[0m\u001b[0;34m\u001b[0m\u001b[0m\n\u001b[1;32m    524\u001b[0m \u001b[0;34m\u001b[0m\u001b[0m\n",
      "\u001b[0;32m/usr/local/lib/python3.6/site-packages/tensorflow_core/python/training/tracking/base.py\u001b[0m in \u001b[0;36m_add_variable_with_custom_getter\u001b[0;34m(self, name, shape, dtype, initializer, getter, overwrite, **kwargs_for_getter)\u001b[0m\n\u001b[1;32m    723\u001b[0m         \u001b[0;31m# there is nothing to restore.\u001b[0m\u001b[0;34m\u001b[0m\u001b[0;34m\u001b[0m\u001b[0;34m\u001b[0m\u001b[0m\n\u001b[1;32m    724\u001b[0m         checkpoint_initializer = self._preload_simple_restoration(\n\u001b[0;32m--> 725\u001b[0;31m             name=name, shape=shape)\n\u001b[0m\u001b[1;32m    726\u001b[0m       \u001b[0;32melse\u001b[0m\u001b[0;34m:\u001b[0m\u001b[0;34m\u001b[0m\u001b[0;34m\u001b[0m\u001b[0m\n\u001b[1;32m    727\u001b[0m         \u001b[0mcheckpoint_initializer\u001b[0m \u001b[0;34m=\u001b[0m \u001b[0;32mNone\u001b[0m\u001b[0;34m\u001b[0m\u001b[0;34m\u001b[0m\u001b[0m\n",
      "\u001b[0;32m/usr/local/lib/python3.6/site-packages/tensorflow_core/python/training/tracking/base.py\u001b[0m in \u001b[0;36m_preload_simple_restoration\u001b[0;34m(self, name, shape)\u001b[0m\n\u001b[1;32m    790\u001b[0m         key=lambda restore: restore.checkpoint.restore_uid)\n\u001b[1;32m    791\u001b[0m     return CheckpointInitialValue(\n\u001b[0;32m--> 792\u001b[0;31m         checkpoint_position=checkpoint_position, shape=shape)\n\u001b[0m\u001b[1;32m    793\u001b[0m \u001b[0;34m\u001b[0m\u001b[0m\n\u001b[1;32m    794\u001b[0m   \u001b[0;32mdef\u001b[0m \u001b[0m_track_trackable\u001b[0m\u001b[0;34m(\u001b[0m\u001b[0mself\u001b[0m\u001b[0;34m,\u001b[0m \u001b[0mtrackable\u001b[0m\u001b[0;34m,\u001b[0m \u001b[0mname\u001b[0m\u001b[0;34m,\u001b[0m \u001b[0moverwrite\u001b[0m\u001b[0;34m=\u001b[0m\u001b[0;32mFalse\u001b[0m\u001b[0;34m)\u001b[0m\u001b[0;34m:\u001b[0m\u001b[0;34m\u001b[0m\u001b[0;34m\u001b[0m\u001b[0m\n",
      "\u001b[0;32m/usr/local/lib/python3.6/site-packages/tensorflow_core/python/training/tracking/base.py\u001b[0m in \u001b[0;36m__init__\u001b[0;34m(self, checkpoint_position, shape)\u001b[0m\n\u001b[1;32m     73\u001b[0m       \u001b[0;31m# We need to set the static shape information on the initializer if\u001b[0m\u001b[0;34m\u001b[0m\u001b[0;34m\u001b[0m\u001b[0;34m\u001b[0m\u001b[0m\n\u001b[1;32m     74\u001b[0m       \u001b[0;31m# possible so we don't get a variable with an unknown shape.\u001b[0m\u001b[0;34m\u001b[0m\u001b[0;34m\u001b[0m\u001b[0;34m\u001b[0m\u001b[0m\n\u001b[0;32m---> 75\u001b[0;31m       \u001b[0mself\u001b[0m\u001b[0;34m.\u001b[0m\u001b[0mwrapped_value\u001b[0m\u001b[0;34m.\u001b[0m\u001b[0mset_shape\u001b[0m\u001b[0;34m(\u001b[0m\u001b[0mshape\u001b[0m\u001b[0;34m)\u001b[0m\u001b[0;34m\u001b[0m\u001b[0;34m\u001b[0m\u001b[0m\n\u001b[0m\u001b[1;32m     76\u001b[0m     \u001b[0mself\u001b[0m\u001b[0;34m.\u001b[0m\u001b[0m_checkpoint_position\u001b[0m \u001b[0;34m=\u001b[0m \u001b[0mcheckpoint_position\u001b[0m\u001b[0;34m\u001b[0m\u001b[0;34m\u001b[0m\u001b[0m\n\u001b[1;32m     77\u001b[0m \u001b[0;34m\u001b[0m\u001b[0m\n",
      "\u001b[0;32m/usr/local/lib/python3.6/site-packages/tensorflow_core/python/framework/ops.py\u001b[0m in \u001b[0;36mset_shape\u001b[0;34m(self, shape)\u001b[0m\n\u001b[1;32m   1072\u001b[0m       raise ValueError(\n\u001b[1;32m   1073\u001b[0m           \u001b[0;34m\"Tensor's shape %s is not compatible with supplied shape %s\"\u001b[0m \u001b[0;34m%\u001b[0m\u001b[0;34m\u001b[0m\u001b[0;34m\u001b[0m\u001b[0m\n\u001b[0;32m-> 1074\u001b[0;31m           (self.shape, shape))\n\u001b[0m\u001b[1;32m   1075\u001b[0m \u001b[0;34m\u001b[0m\u001b[0m\n\u001b[1;32m   1076\u001b[0m   \u001b[0;31m# Methods not supported / implemented for Eager Tensors.\u001b[0m\u001b[0;34m\u001b[0m\u001b[0;34m\u001b[0m\u001b[0;34m\u001b[0m\u001b[0m\n",
      "\u001b[0;31mValueError\u001b[0m: Tensor's shape (51112, 128) is not compatible with supplied shape (10364, 128)"
     ]
    }
   ],
   "source": [
    "evaluate(encoder_input_data)"
   ]
  },
  {
   "cell_type": "code",
   "execution_count": 106,
   "metadata": {},
   "outputs": [
    {
     "data": {
      "text/plain": [
       "(7049, 10362)"
      ]
     },
     "execution_count": 106,
     "metadata": {},
     "output_type": "execute_result"
    }
   ],
   "source": [
    "len(input_id), len(target_id)"
   ]
  },
  {
   "cell_type": "code",
   "execution_count": 167,
   "metadata": {},
   "outputs": [
    {
     "data": {
      "text/plain": [
       "[('_CHECKPOINTABLE_OBJECT_GRAPH', []),\n",
       " ('optimizer/beta_1/.ATTRIBUTES/VARIABLE_VALUE', []),\n",
       " ('optimizer/beta_2/.ATTRIBUTES/VARIABLE_VALUE', []),\n",
       " ('optimizer/decay/.ATTRIBUTES/VARIABLE_VALUE', []),\n",
       " ('optimizer/iter/.ATTRIBUTES/VARIABLE_VALUE', []),\n",
       " ('save_counter/.ATTRIBUTES/VARIABLE_VALUE', []),\n",
       " ('transformer/decoder/dec_layers/0/ffn/layer-0/bias/.ATTRIBUTES/VARIABLE_VALUE',\n",
       "  [512]),\n",
       " ('transformer/decoder/dec_layers/0/ffn/layer-0/bias/.OPTIMIZER_SLOT/optimizer/m/.ATTRIBUTES/VARIABLE_VALUE',\n",
       "  [512]),\n",
       " ('transformer/decoder/dec_layers/0/ffn/layer-0/bias/.OPTIMIZER_SLOT/optimizer/v/.ATTRIBUTES/VARIABLE_VALUE',\n",
       "  [512]),\n",
       " ('transformer/decoder/dec_layers/0/ffn/layer-0/kernel/.ATTRIBUTES/VARIABLE_VALUE',\n",
       "  [128, 512]),\n",
       " ('transformer/decoder/dec_layers/0/ffn/layer-0/kernel/.OPTIMIZER_SLOT/optimizer/m/.ATTRIBUTES/VARIABLE_VALUE',\n",
       "  [128, 512]),\n",
       " ('transformer/decoder/dec_layers/0/ffn/layer-0/kernel/.OPTIMIZER_SLOT/optimizer/v/.ATTRIBUTES/VARIABLE_VALUE',\n",
       "  [128, 512]),\n",
       " ('transformer/decoder/dec_layers/0/ffn/layer-1/bias/.ATTRIBUTES/VARIABLE_VALUE',\n",
       "  [128]),\n",
       " ('transformer/decoder/dec_layers/0/ffn/layer-1/bias/.OPTIMIZER_SLOT/optimizer/m/.ATTRIBUTES/VARIABLE_VALUE',\n",
       "  [128]),\n",
       " ('transformer/decoder/dec_layers/0/ffn/layer-1/bias/.OPTIMIZER_SLOT/optimizer/v/.ATTRIBUTES/VARIABLE_VALUE',\n",
       "  [128]),\n",
       " ('transformer/decoder/dec_layers/0/ffn/layer-1/kernel/.ATTRIBUTES/VARIABLE_VALUE',\n",
       "  [512, 128]),\n",
       " ('transformer/decoder/dec_layers/0/ffn/layer-1/kernel/.OPTIMIZER_SLOT/optimizer/m/.ATTRIBUTES/VARIABLE_VALUE',\n",
       "  [512, 128]),\n",
       " ('transformer/decoder/dec_layers/0/ffn/layer-1/kernel/.OPTIMIZER_SLOT/optimizer/v/.ATTRIBUTES/VARIABLE_VALUE',\n",
       "  [512, 128]),\n",
       " ('transformer/decoder/dec_layers/0/layernorm1/beta/.ATTRIBUTES/VARIABLE_VALUE',\n",
       "  [128]),\n",
       " ('transformer/decoder/dec_layers/0/layernorm1/beta/.OPTIMIZER_SLOT/optimizer/m/.ATTRIBUTES/VARIABLE_VALUE',\n",
       "  [128]),\n",
       " ('transformer/decoder/dec_layers/0/layernorm1/beta/.OPTIMIZER_SLOT/optimizer/v/.ATTRIBUTES/VARIABLE_VALUE',\n",
       "  [128]),\n",
       " ('transformer/decoder/dec_layers/0/layernorm1/gamma/.ATTRIBUTES/VARIABLE_VALUE',\n",
       "  [128]),\n",
       " ('transformer/decoder/dec_layers/0/layernorm1/gamma/.OPTIMIZER_SLOT/optimizer/m/.ATTRIBUTES/VARIABLE_VALUE',\n",
       "  [128]),\n",
       " ('transformer/decoder/dec_layers/0/layernorm1/gamma/.OPTIMIZER_SLOT/optimizer/v/.ATTRIBUTES/VARIABLE_VALUE',\n",
       "  [128]),\n",
       " ('transformer/decoder/dec_layers/0/layernorm2/beta/.ATTRIBUTES/VARIABLE_VALUE',\n",
       "  [128]),\n",
       " ('transformer/decoder/dec_layers/0/layernorm2/beta/.OPTIMIZER_SLOT/optimizer/m/.ATTRIBUTES/VARIABLE_VALUE',\n",
       "  [128]),\n",
       " ('transformer/decoder/dec_layers/0/layernorm2/beta/.OPTIMIZER_SLOT/optimizer/v/.ATTRIBUTES/VARIABLE_VALUE',\n",
       "  [128]),\n",
       " ('transformer/decoder/dec_layers/0/layernorm2/gamma/.ATTRIBUTES/VARIABLE_VALUE',\n",
       "  [128]),\n",
       " ('transformer/decoder/dec_layers/0/layernorm2/gamma/.OPTIMIZER_SLOT/optimizer/m/.ATTRIBUTES/VARIABLE_VALUE',\n",
       "  [128]),\n",
       " ('transformer/decoder/dec_layers/0/layernorm2/gamma/.OPTIMIZER_SLOT/optimizer/v/.ATTRIBUTES/VARIABLE_VALUE',\n",
       "  [128]),\n",
       " ('transformer/decoder/dec_layers/0/layernorm3/beta/.ATTRIBUTES/VARIABLE_VALUE',\n",
       "  [128]),\n",
       " ('transformer/decoder/dec_layers/0/layernorm3/beta/.OPTIMIZER_SLOT/optimizer/m/.ATTRIBUTES/VARIABLE_VALUE',\n",
       "  [128]),\n",
       " ('transformer/decoder/dec_layers/0/layernorm3/beta/.OPTIMIZER_SLOT/optimizer/v/.ATTRIBUTES/VARIABLE_VALUE',\n",
       "  [128]),\n",
       " ('transformer/decoder/dec_layers/0/layernorm3/gamma/.ATTRIBUTES/VARIABLE_VALUE',\n",
       "  [128]),\n",
       " ('transformer/decoder/dec_layers/0/layernorm3/gamma/.OPTIMIZER_SLOT/optimizer/m/.ATTRIBUTES/VARIABLE_VALUE',\n",
       "  [128]),\n",
       " ('transformer/decoder/dec_layers/0/layernorm3/gamma/.OPTIMIZER_SLOT/optimizer/v/.ATTRIBUTES/VARIABLE_VALUE',\n",
       "  [128]),\n",
       " ('transformer/decoder/dec_layers/0/mha1/dense/bias/.ATTRIBUTES/VARIABLE_VALUE',\n",
       "  [128]),\n",
       " ('transformer/decoder/dec_layers/0/mha1/dense/bias/.OPTIMIZER_SLOT/optimizer/m/.ATTRIBUTES/VARIABLE_VALUE',\n",
       "  [128]),\n",
       " ('transformer/decoder/dec_layers/0/mha1/dense/bias/.OPTIMIZER_SLOT/optimizer/v/.ATTRIBUTES/VARIABLE_VALUE',\n",
       "  [128]),\n",
       " ('transformer/decoder/dec_layers/0/mha1/dense/kernel/.ATTRIBUTES/VARIABLE_VALUE',\n",
       "  [128, 128]),\n",
       " ('transformer/decoder/dec_layers/0/mha1/dense/kernel/.OPTIMIZER_SLOT/optimizer/m/.ATTRIBUTES/VARIABLE_VALUE',\n",
       "  [128, 128]),\n",
       " ('transformer/decoder/dec_layers/0/mha1/dense/kernel/.OPTIMIZER_SLOT/optimizer/v/.ATTRIBUTES/VARIABLE_VALUE',\n",
       "  [128, 128]),\n",
       " ('transformer/decoder/dec_layers/0/mha1/wk/bias/.ATTRIBUTES/VARIABLE_VALUE',\n",
       "  [128]),\n",
       " ('transformer/decoder/dec_layers/0/mha1/wk/bias/.OPTIMIZER_SLOT/optimizer/m/.ATTRIBUTES/VARIABLE_VALUE',\n",
       "  [128]),\n",
       " ('transformer/decoder/dec_layers/0/mha1/wk/bias/.OPTIMIZER_SLOT/optimizer/v/.ATTRIBUTES/VARIABLE_VALUE',\n",
       "  [128]),\n",
       " ('transformer/decoder/dec_layers/0/mha1/wk/kernel/.ATTRIBUTES/VARIABLE_VALUE',\n",
       "  [128, 128]),\n",
       " ('transformer/decoder/dec_layers/0/mha1/wk/kernel/.OPTIMIZER_SLOT/optimizer/m/.ATTRIBUTES/VARIABLE_VALUE',\n",
       "  [128, 128]),\n",
       " ('transformer/decoder/dec_layers/0/mha1/wk/kernel/.OPTIMIZER_SLOT/optimizer/v/.ATTRIBUTES/VARIABLE_VALUE',\n",
       "  [128, 128]),\n",
       " ('transformer/decoder/dec_layers/0/mha1/wq/bias/.ATTRIBUTES/VARIABLE_VALUE',\n",
       "  [128]),\n",
       " ('transformer/decoder/dec_layers/0/mha1/wq/bias/.OPTIMIZER_SLOT/optimizer/m/.ATTRIBUTES/VARIABLE_VALUE',\n",
       "  [128]),\n",
       " ('transformer/decoder/dec_layers/0/mha1/wq/bias/.OPTIMIZER_SLOT/optimizer/v/.ATTRIBUTES/VARIABLE_VALUE',\n",
       "  [128]),\n",
       " ('transformer/decoder/dec_layers/0/mha1/wq/kernel/.ATTRIBUTES/VARIABLE_VALUE',\n",
       "  [128, 128]),\n",
       " ('transformer/decoder/dec_layers/0/mha1/wq/kernel/.OPTIMIZER_SLOT/optimizer/m/.ATTRIBUTES/VARIABLE_VALUE',\n",
       "  [128, 128]),\n",
       " ('transformer/decoder/dec_layers/0/mha1/wq/kernel/.OPTIMIZER_SLOT/optimizer/v/.ATTRIBUTES/VARIABLE_VALUE',\n",
       "  [128, 128]),\n",
       " ('transformer/decoder/dec_layers/0/mha1/wv/bias/.ATTRIBUTES/VARIABLE_VALUE',\n",
       "  [128]),\n",
       " ('transformer/decoder/dec_layers/0/mha1/wv/bias/.OPTIMIZER_SLOT/optimizer/m/.ATTRIBUTES/VARIABLE_VALUE',\n",
       "  [128]),\n",
       " ('transformer/decoder/dec_layers/0/mha1/wv/bias/.OPTIMIZER_SLOT/optimizer/v/.ATTRIBUTES/VARIABLE_VALUE',\n",
       "  [128]),\n",
       " ('transformer/decoder/dec_layers/0/mha1/wv/kernel/.ATTRIBUTES/VARIABLE_VALUE',\n",
       "  [128, 128]),\n",
       " ('transformer/decoder/dec_layers/0/mha1/wv/kernel/.OPTIMIZER_SLOT/optimizer/m/.ATTRIBUTES/VARIABLE_VALUE',\n",
       "  [128, 128]),\n",
       " ('transformer/decoder/dec_layers/0/mha1/wv/kernel/.OPTIMIZER_SLOT/optimizer/v/.ATTRIBUTES/VARIABLE_VALUE',\n",
       "  [128, 128]),\n",
       " ('transformer/decoder/dec_layers/0/mha2/dense/bias/.ATTRIBUTES/VARIABLE_VALUE',\n",
       "  [128]),\n",
       " ('transformer/decoder/dec_layers/0/mha2/dense/bias/.OPTIMIZER_SLOT/optimizer/m/.ATTRIBUTES/VARIABLE_VALUE',\n",
       "  [128]),\n",
       " ('transformer/decoder/dec_layers/0/mha2/dense/bias/.OPTIMIZER_SLOT/optimizer/v/.ATTRIBUTES/VARIABLE_VALUE',\n",
       "  [128]),\n",
       " ('transformer/decoder/dec_layers/0/mha2/dense/kernel/.ATTRIBUTES/VARIABLE_VALUE',\n",
       "  [128, 128]),\n",
       " ('transformer/decoder/dec_layers/0/mha2/dense/kernel/.OPTIMIZER_SLOT/optimizer/m/.ATTRIBUTES/VARIABLE_VALUE',\n",
       "  [128, 128]),\n",
       " ('transformer/decoder/dec_layers/0/mha2/dense/kernel/.OPTIMIZER_SLOT/optimizer/v/.ATTRIBUTES/VARIABLE_VALUE',\n",
       "  [128, 128]),\n",
       " ('transformer/decoder/dec_layers/0/mha2/wk/bias/.ATTRIBUTES/VARIABLE_VALUE',\n",
       "  [128]),\n",
       " ('transformer/decoder/dec_layers/0/mha2/wk/bias/.OPTIMIZER_SLOT/optimizer/m/.ATTRIBUTES/VARIABLE_VALUE',\n",
       "  [128]),\n",
       " ('transformer/decoder/dec_layers/0/mha2/wk/bias/.OPTIMIZER_SLOT/optimizer/v/.ATTRIBUTES/VARIABLE_VALUE',\n",
       "  [128]),\n",
       " ('transformer/decoder/dec_layers/0/mha2/wk/kernel/.ATTRIBUTES/VARIABLE_VALUE',\n",
       "  [128, 128]),\n",
       " ('transformer/decoder/dec_layers/0/mha2/wk/kernel/.OPTIMIZER_SLOT/optimizer/m/.ATTRIBUTES/VARIABLE_VALUE',\n",
       "  [128, 128]),\n",
       " ('transformer/decoder/dec_layers/0/mha2/wk/kernel/.OPTIMIZER_SLOT/optimizer/v/.ATTRIBUTES/VARIABLE_VALUE',\n",
       "  [128, 128]),\n",
       " ('transformer/decoder/dec_layers/0/mha2/wq/bias/.ATTRIBUTES/VARIABLE_VALUE',\n",
       "  [128]),\n",
       " ('transformer/decoder/dec_layers/0/mha2/wq/bias/.OPTIMIZER_SLOT/optimizer/m/.ATTRIBUTES/VARIABLE_VALUE',\n",
       "  [128]),\n",
       " ('transformer/decoder/dec_layers/0/mha2/wq/bias/.OPTIMIZER_SLOT/optimizer/v/.ATTRIBUTES/VARIABLE_VALUE',\n",
       "  [128]),\n",
       " ('transformer/decoder/dec_layers/0/mha2/wq/kernel/.ATTRIBUTES/VARIABLE_VALUE',\n",
       "  [128, 128]),\n",
       " ('transformer/decoder/dec_layers/0/mha2/wq/kernel/.OPTIMIZER_SLOT/optimizer/m/.ATTRIBUTES/VARIABLE_VALUE',\n",
       "  [128, 128]),\n",
       " ('transformer/decoder/dec_layers/0/mha2/wq/kernel/.OPTIMIZER_SLOT/optimizer/v/.ATTRIBUTES/VARIABLE_VALUE',\n",
       "  [128, 128]),\n",
       " ('transformer/decoder/dec_layers/0/mha2/wv/bias/.ATTRIBUTES/VARIABLE_VALUE',\n",
       "  [128]),\n",
       " ('transformer/decoder/dec_layers/0/mha2/wv/bias/.OPTIMIZER_SLOT/optimizer/m/.ATTRIBUTES/VARIABLE_VALUE',\n",
       "  [128]),\n",
       " ('transformer/decoder/dec_layers/0/mha2/wv/bias/.OPTIMIZER_SLOT/optimizer/v/.ATTRIBUTES/VARIABLE_VALUE',\n",
       "  [128]),\n",
       " ('transformer/decoder/dec_layers/0/mha2/wv/kernel/.ATTRIBUTES/VARIABLE_VALUE',\n",
       "  [128, 128]),\n",
       " ('transformer/decoder/dec_layers/0/mha2/wv/kernel/.OPTIMIZER_SLOT/optimizer/m/.ATTRIBUTES/VARIABLE_VALUE',\n",
       "  [128, 128]),\n",
       " ('transformer/decoder/dec_layers/0/mha2/wv/kernel/.OPTIMIZER_SLOT/optimizer/v/.ATTRIBUTES/VARIABLE_VALUE',\n",
       "  [128, 128]),\n",
       " ('transformer/decoder/dec_layers/1/ffn/layer-0/bias/.ATTRIBUTES/VARIABLE_VALUE',\n",
       "  [512]),\n",
       " ('transformer/decoder/dec_layers/1/ffn/layer-0/bias/.OPTIMIZER_SLOT/optimizer/m/.ATTRIBUTES/VARIABLE_VALUE',\n",
       "  [512]),\n",
       " ('transformer/decoder/dec_layers/1/ffn/layer-0/bias/.OPTIMIZER_SLOT/optimizer/v/.ATTRIBUTES/VARIABLE_VALUE',\n",
       "  [512]),\n",
       " ('transformer/decoder/dec_layers/1/ffn/layer-0/kernel/.ATTRIBUTES/VARIABLE_VALUE',\n",
       "  [128, 512]),\n",
       " ('transformer/decoder/dec_layers/1/ffn/layer-0/kernel/.OPTIMIZER_SLOT/optimizer/m/.ATTRIBUTES/VARIABLE_VALUE',\n",
       "  [128, 512]),\n",
       " ('transformer/decoder/dec_layers/1/ffn/layer-0/kernel/.OPTIMIZER_SLOT/optimizer/v/.ATTRIBUTES/VARIABLE_VALUE',\n",
       "  [128, 512]),\n",
       " ('transformer/decoder/dec_layers/1/ffn/layer-1/bias/.ATTRIBUTES/VARIABLE_VALUE',\n",
       "  [128]),\n",
       " ('transformer/decoder/dec_layers/1/ffn/layer-1/bias/.OPTIMIZER_SLOT/optimizer/m/.ATTRIBUTES/VARIABLE_VALUE',\n",
       "  [128]),\n",
       " ('transformer/decoder/dec_layers/1/ffn/layer-1/bias/.OPTIMIZER_SLOT/optimizer/v/.ATTRIBUTES/VARIABLE_VALUE',\n",
       "  [128]),\n",
       " ('transformer/decoder/dec_layers/1/ffn/layer-1/kernel/.ATTRIBUTES/VARIABLE_VALUE',\n",
       "  [512, 128]),\n",
       " ('transformer/decoder/dec_layers/1/ffn/layer-1/kernel/.OPTIMIZER_SLOT/optimizer/m/.ATTRIBUTES/VARIABLE_VALUE',\n",
       "  [512, 128]),\n",
       " ('transformer/decoder/dec_layers/1/ffn/layer-1/kernel/.OPTIMIZER_SLOT/optimizer/v/.ATTRIBUTES/VARIABLE_VALUE',\n",
       "  [512, 128]),\n",
       " ('transformer/decoder/dec_layers/1/layernorm1/beta/.ATTRIBUTES/VARIABLE_VALUE',\n",
       "  [128]),\n",
       " ('transformer/decoder/dec_layers/1/layernorm1/beta/.OPTIMIZER_SLOT/optimizer/m/.ATTRIBUTES/VARIABLE_VALUE',\n",
       "  [128]),\n",
       " ('transformer/decoder/dec_layers/1/layernorm1/beta/.OPTIMIZER_SLOT/optimizer/v/.ATTRIBUTES/VARIABLE_VALUE',\n",
       "  [128]),\n",
       " ('transformer/decoder/dec_layers/1/layernorm1/gamma/.ATTRIBUTES/VARIABLE_VALUE',\n",
       "  [128]),\n",
       " ('transformer/decoder/dec_layers/1/layernorm1/gamma/.OPTIMIZER_SLOT/optimizer/m/.ATTRIBUTES/VARIABLE_VALUE',\n",
       "  [128]),\n",
       " ('transformer/decoder/dec_layers/1/layernorm1/gamma/.OPTIMIZER_SLOT/optimizer/v/.ATTRIBUTES/VARIABLE_VALUE',\n",
       "  [128]),\n",
       " ('transformer/decoder/dec_layers/1/layernorm2/beta/.ATTRIBUTES/VARIABLE_VALUE',\n",
       "  [128]),\n",
       " ('transformer/decoder/dec_layers/1/layernorm2/beta/.OPTIMIZER_SLOT/optimizer/m/.ATTRIBUTES/VARIABLE_VALUE',\n",
       "  [128]),\n",
       " ('transformer/decoder/dec_layers/1/layernorm2/beta/.OPTIMIZER_SLOT/optimizer/v/.ATTRIBUTES/VARIABLE_VALUE',\n",
       "  [128]),\n",
       " ('transformer/decoder/dec_layers/1/layernorm2/gamma/.ATTRIBUTES/VARIABLE_VALUE',\n",
       "  [128]),\n",
       " ('transformer/decoder/dec_layers/1/layernorm2/gamma/.OPTIMIZER_SLOT/optimizer/m/.ATTRIBUTES/VARIABLE_VALUE',\n",
       "  [128]),\n",
       " ('transformer/decoder/dec_layers/1/layernorm2/gamma/.OPTIMIZER_SLOT/optimizer/v/.ATTRIBUTES/VARIABLE_VALUE',\n",
       "  [128]),\n",
       " ('transformer/decoder/dec_layers/1/layernorm3/beta/.ATTRIBUTES/VARIABLE_VALUE',\n",
       "  [128]),\n",
       " ('transformer/decoder/dec_layers/1/layernorm3/beta/.OPTIMIZER_SLOT/optimizer/m/.ATTRIBUTES/VARIABLE_VALUE',\n",
       "  [128]),\n",
       " ('transformer/decoder/dec_layers/1/layernorm3/beta/.OPTIMIZER_SLOT/optimizer/v/.ATTRIBUTES/VARIABLE_VALUE',\n",
       "  [128]),\n",
       " ('transformer/decoder/dec_layers/1/layernorm3/gamma/.ATTRIBUTES/VARIABLE_VALUE',\n",
       "  [128]),\n",
       " ('transformer/decoder/dec_layers/1/layernorm3/gamma/.OPTIMIZER_SLOT/optimizer/m/.ATTRIBUTES/VARIABLE_VALUE',\n",
       "  [128]),\n",
       " ('transformer/decoder/dec_layers/1/layernorm3/gamma/.OPTIMIZER_SLOT/optimizer/v/.ATTRIBUTES/VARIABLE_VALUE',\n",
       "  [128]),\n",
       " ('transformer/decoder/dec_layers/1/mha1/dense/bias/.ATTRIBUTES/VARIABLE_VALUE',\n",
       "  [128]),\n",
       " ('transformer/decoder/dec_layers/1/mha1/dense/bias/.OPTIMIZER_SLOT/optimizer/m/.ATTRIBUTES/VARIABLE_VALUE',\n",
       "  [128]),\n",
       " ('transformer/decoder/dec_layers/1/mha1/dense/bias/.OPTIMIZER_SLOT/optimizer/v/.ATTRIBUTES/VARIABLE_VALUE',\n",
       "  [128]),\n",
       " ('transformer/decoder/dec_layers/1/mha1/dense/kernel/.ATTRIBUTES/VARIABLE_VALUE',\n",
       "  [128, 128]),\n",
       " ('transformer/decoder/dec_layers/1/mha1/dense/kernel/.OPTIMIZER_SLOT/optimizer/m/.ATTRIBUTES/VARIABLE_VALUE',\n",
       "  [128, 128]),\n",
       " ('transformer/decoder/dec_layers/1/mha1/dense/kernel/.OPTIMIZER_SLOT/optimizer/v/.ATTRIBUTES/VARIABLE_VALUE',\n",
       "  [128, 128]),\n",
       " ('transformer/decoder/dec_layers/1/mha1/wk/bias/.ATTRIBUTES/VARIABLE_VALUE',\n",
       "  [128]),\n",
       " ('transformer/decoder/dec_layers/1/mha1/wk/bias/.OPTIMIZER_SLOT/optimizer/m/.ATTRIBUTES/VARIABLE_VALUE',\n",
       "  [128]),\n",
       " ('transformer/decoder/dec_layers/1/mha1/wk/bias/.OPTIMIZER_SLOT/optimizer/v/.ATTRIBUTES/VARIABLE_VALUE',\n",
       "  [128]),\n",
       " ('transformer/decoder/dec_layers/1/mha1/wk/kernel/.ATTRIBUTES/VARIABLE_VALUE',\n",
       "  [128, 128]),\n",
       " ('transformer/decoder/dec_layers/1/mha1/wk/kernel/.OPTIMIZER_SLOT/optimizer/m/.ATTRIBUTES/VARIABLE_VALUE',\n",
       "  [128, 128]),\n",
       " ('transformer/decoder/dec_layers/1/mha1/wk/kernel/.OPTIMIZER_SLOT/optimizer/v/.ATTRIBUTES/VARIABLE_VALUE',\n",
       "  [128, 128]),\n",
       " ('transformer/decoder/dec_layers/1/mha1/wq/bias/.ATTRIBUTES/VARIABLE_VALUE',\n",
       "  [128]),\n",
       " ('transformer/decoder/dec_layers/1/mha1/wq/bias/.OPTIMIZER_SLOT/optimizer/m/.ATTRIBUTES/VARIABLE_VALUE',\n",
       "  [128]),\n",
       " ('transformer/decoder/dec_layers/1/mha1/wq/bias/.OPTIMIZER_SLOT/optimizer/v/.ATTRIBUTES/VARIABLE_VALUE',\n",
       "  [128]),\n",
       " ('transformer/decoder/dec_layers/1/mha1/wq/kernel/.ATTRIBUTES/VARIABLE_VALUE',\n",
       "  [128, 128]),\n",
       " ('transformer/decoder/dec_layers/1/mha1/wq/kernel/.OPTIMIZER_SLOT/optimizer/m/.ATTRIBUTES/VARIABLE_VALUE',\n",
       "  [128, 128]),\n",
       " ('transformer/decoder/dec_layers/1/mha1/wq/kernel/.OPTIMIZER_SLOT/optimizer/v/.ATTRIBUTES/VARIABLE_VALUE',\n",
       "  [128, 128]),\n",
       " ('transformer/decoder/dec_layers/1/mha1/wv/bias/.ATTRIBUTES/VARIABLE_VALUE',\n",
       "  [128]),\n",
       " ('transformer/decoder/dec_layers/1/mha1/wv/bias/.OPTIMIZER_SLOT/optimizer/m/.ATTRIBUTES/VARIABLE_VALUE',\n",
       "  [128]),\n",
       " ('transformer/decoder/dec_layers/1/mha1/wv/bias/.OPTIMIZER_SLOT/optimizer/v/.ATTRIBUTES/VARIABLE_VALUE',\n",
       "  [128]),\n",
       " ('transformer/decoder/dec_layers/1/mha1/wv/kernel/.ATTRIBUTES/VARIABLE_VALUE',\n",
       "  [128, 128]),\n",
       " ('transformer/decoder/dec_layers/1/mha1/wv/kernel/.OPTIMIZER_SLOT/optimizer/m/.ATTRIBUTES/VARIABLE_VALUE',\n",
       "  [128, 128]),\n",
       " ('transformer/decoder/dec_layers/1/mha1/wv/kernel/.OPTIMIZER_SLOT/optimizer/v/.ATTRIBUTES/VARIABLE_VALUE',\n",
       "  [128, 128]),\n",
       " ('transformer/decoder/dec_layers/1/mha2/dense/bias/.ATTRIBUTES/VARIABLE_VALUE',\n",
       "  [128]),\n",
       " ('transformer/decoder/dec_layers/1/mha2/dense/bias/.OPTIMIZER_SLOT/optimizer/m/.ATTRIBUTES/VARIABLE_VALUE',\n",
       "  [128]),\n",
       " ('transformer/decoder/dec_layers/1/mha2/dense/bias/.OPTIMIZER_SLOT/optimizer/v/.ATTRIBUTES/VARIABLE_VALUE',\n",
       "  [128]),\n",
       " ('transformer/decoder/dec_layers/1/mha2/dense/kernel/.ATTRIBUTES/VARIABLE_VALUE',\n",
       "  [128, 128]),\n",
       " ('transformer/decoder/dec_layers/1/mha2/dense/kernel/.OPTIMIZER_SLOT/optimizer/m/.ATTRIBUTES/VARIABLE_VALUE',\n",
       "  [128, 128]),\n",
       " ('transformer/decoder/dec_layers/1/mha2/dense/kernel/.OPTIMIZER_SLOT/optimizer/v/.ATTRIBUTES/VARIABLE_VALUE',\n",
       "  [128, 128]),\n",
       " ('transformer/decoder/dec_layers/1/mha2/wk/bias/.ATTRIBUTES/VARIABLE_VALUE',\n",
       "  [128]),\n",
       " ('transformer/decoder/dec_layers/1/mha2/wk/bias/.OPTIMIZER_SLOT/optimizer/m/.ATTRIBUTES/VARIABLE_VALUE',\n",
       "  [128]),\n",
       " ('transformer/decoder/dec_layers/1/mha2/wk/bias/.OPTIMIZER_SLOT/optimizer/v/.ATTRIBUTES/VARIABLE_VALUE',\n",
       "  [128]),\n",
       " ('transformer/decoder/dec_layers/1/mha2/wk/kernel/.ATTRIBUTES/VARIABLE_VALUE',\n",
       "  [128, 128]),\n",
       " ('transformer/decoder/dec_layers/1/mha2/wk/kernel/.OPTIMIZER_SLOT/optimizer/m/.ATTRIBUTES/VARIABLE_VALUE',\n",
       "  [128, 128]),\n",
       " ('transformer/decoder/dec_layers/1/mha2/wk/kernel/.OPTIMIZER_SLOT/optimizer/v/.ATTRIBUTES/VARIABLE_VALUE',\n",
       "  [128, 128]),\n",
       " ('transformer/decoder/dec_layers/1/mha2/wq/bias/.ATTRIBUTES/VARIABLE_VALUE',\n",
       "  [128]),\n",
       " ('transformer/decoder/dec_layers/1/mha2/wq/bias/.OPTIMIZER_SLOT/optimizer/m/.ATTRIBUTES/VARIABLE_VALUE',\n",
       "  [128]),\n",
       " ('transformer/decoder/dec_layers/1/mha2/wq/bias/.OPTIMIZER_SLOT/optimizer/v/.ATTRIBUTES/VARIABLE_VALUE',\n",
       "  [128]),\n",
       " ('transformer/decoder/dec_layers/1/mha2/wq/kernel/.ATTRIBUTES/VARIABLE_VALUE',\n",
       "  [128, 128]),\n",
       " ('transformer/decoder/dec_layers/1/mha2/wq/kernel/.OPTIMIZER_SLOT/optimizer/m/.ATTRIBUTES/VARIABLE_VALUE',\n",
       "  [128, 128]),\n",
       " ('transformer/decoder/dec_layers/1/mha2/wq/kernel/.OPTIMIZER_SLOT/optimizer/v/.ATTRIBUTES/VARIABLE_VALUE',\n",
       "  [128, 128]),\n",
       " ('transformer/decoder/dec_layers/1/mha2/wv/bias/.ATTRIBUTES/VARIABLE_VALUE',\n",
       "  [128]),\n",
       " ('transformer/decoder/dec_layers/1/mha2/wv/bias/.OPTIMIZER_SLOT/optimizer/m/.ATTRIBUTES/VARIABLE_VALUE',\n",
       "  [128]),\n",
       " ('transformer/decoder/dec_layers/1/mha2/wv/bias/.OPTIMIZER_SLOT/optimizer/v/.ATTRIBUTES/VARIABLE_VALUE',\n",
       "  [128]),\n",
       " ('transformer/decoder/dec_layers/1/mha2/wv/kernel/.ATTRIBUTES/VARIABLE_VALUE',\n",
       "  [128, 128]),\n",
       " ('transformer/decoder/dec_layers/1/mha2/wv/kernel/.OPTIMIZER_SLOT/optimizer/m/.ATTRIBUTES/VARIABLE_VALUE',\n",
       "  [128, 128]),\n",
       " ('transformer/decoder/dec_layers/1/mha2/wv/kernel/.OPTIMIZER_SLOT/optimizer/v/.ATTRIBUTES/VARIABLE_VALUE',\n",
       "  [128, 128]),\n",
       " ('transformer/decoder/dec_layers/2/ffn/layer-0/bias/.ATTRIBUTES/VARIABLE_VALUE',\n",
       "  [512]),\n",
       " ('transformer/decoder/dec_layers/2/ffn/layer-0/bias/.OPTIMIZER_SLOT/optimizer/m/.ATTRIBUTES/VARIABLE_VALUE',\n",
       "  [512]),\n",
       " ('transformer/decoder/dec_layers/2/ffn/layer-0/bias/.OPTIMIZER_SLOT/optimizer/v/.ATTRIBUTES/VARIABLE_VALUE',\n",
       "  [512]),\n",
       " ('transformer/decoder/dec_layers/2/ffn/layer-0/kernel/.ATTRIBUTES/VARIABLE_VALUE',\n",
       "  [128, 512]),\n",
       " ('transformer/decoder/dec_layers/2/ffn/layer-0/kernel/.OPTIMIZER_SLOT/optimizer/m/.ATTRIBUTES/VARIABLE_VALUE',\n",
       "  [128, 512]),\n",
       " ('transformer/decoder/dec_layers/2/ffn/layer-0/kernel/.OPTIMIZER_SLOT/optimizer/v/.ATTRIBUTES/VARIABLE_VALUE',\n",
       "  [128, 512]),\n",
       " ('transformer/decoder/dec_layers/2/ffn/layer-1/bias/.ATTRIBUTES/VARIABLE_VALUE',\n",
       "  [128]),\n",
       " ('transformer/decoder/dec_layers/2/ffn/layer-1/bias/.OPTIMIZER_SLOT/optimizer/m/.ATTRIBUTES/VARIABLE_VALUE',\n",
       "  [128]),\n",
       " ('transformer/decoder/dec_layers/2/ffn/layer-1/bias/.OPTIMIZER_SLOT/optimizer/v/.ATTRIBUTES/VARIABLE_VALUE',\n",
       "  [128]),\n",
       " ('transformer/decoder/dec_layers/2/ffn/layer-1/kernel/.ATTRIBUTES/VARIABLE_VALUE',\n",
       "  [512, 128]),\n",
       " ('transformer/decoder/dec_layers/2/ffn/layer-1/kernel/.OPTIMIZER_SLOT/optimizer/m/.ATTRIBUTES/VARIABLE_VALUE',\n",
       "  [512, 128]),\n",
       " ('transformer/decoder/dec_layers/2/ffn/layer-1/kernel/.OPTIMIZER_SLOT/optimizer/v/.ATTRIBUTES/VARIABLE_VALUE',\n",
       "  [512, 128]),\n",
       " ('transformer/decoder/dec_layers/2/layernorm1/beta/.ATTRIBUTES/VARIABLE_VALUE',\n",
       "  [128]),\n",
       " ('transformer/decoder/dec_layers/2/layernorm1/beta/.OPTIMIZER_SLOT/optimizer/m/.ATTRIBUTES/VARIABLE_VALUE',\n",
       "  [128]),\n",
       " ('transformer/decoder/dec_layers/2/layernorm1/beta/.OPTIMIZER_SLOT/optimizer/v/.ATTRIBUTES/VARIABLE_VALUE',\n",
       "  [128]),\n",
       " ('transformer/decoder/dec_layers/2/layernorm1/gamma/.ATTRIBUTES/VARIABLE_VALUE',\n",
       "  [128]),\n",
       " ('transformer/decoder/dec_layers/2/layernorm1/gamma/.OPTIMIZER_SLOT/optimizer/m/.ATTRIBUTES/VARIABLE_VALUE',\n",
       "  [128]),\n",
       " ('transformer/decoder/dec_layers/2/layernorm1/gamma/.OPTIMIZER_SLOT/optimizer/v/.ATTRIBUTES/VARIABLE_VALUE',\n",
       "  [128]),\n",
       " ('transformer/decoder/dec_layers/2/layernorm2/beta/.ATTRIBUTES/VARIABLE_VALUE',\n",
       "  [128]),\n",
       " ('transformer/decoder/dec_layers/2/layernorm2/beta/.OPTIMIZER_SLOT/optimizer/m/.ATTRIBUTES/VARIABLE_VALUE',\n",
       "  [128]),\n",
       " ('transformer/decoder/dec_layers/2/layernorm2/beta/.OPTIMIZER_SLOT/optimizer/v/.ATTRIBUTES/VARIABLE_VALUE',\n",
       "  [128]),\n",
       " ('transformer/decoder/dec_layers/2/layernorm2/gamma/.ATTRIBUTES/VARIABLE_VALUE',\n",
       "  [128]),\n",
       " ('transformer/decoder/dec_layers/2/layernorm2/gamma/.OPTIMIZER_SLOT/optimizer/m/.ATTRIBUTES/VARIABLE_VALUE',\n",
       "  [128]),\n",
       " ('transformer/decoder/dec_layers/2/layernorm2/gamma/.OPTIMIZER_SLOT/optimizer/v/.ATTRIBUTES/VARIABLE_VALUE',\n",
       "  [128]),\n",
       " ('transformer/decoder/dec_layers/2/layernorm3/beta/.ATTRIBUTES/VARIABLE_VALUE',\n",
       "  [128]),\n",
       " ('transformer/decoder/dec_layers/2/layernorm3/beta/.OPTIMIZER_SLOT/optimizer/m/.ATTRIBUTES/VARIABLE_VALUE',\n",
       "  [128]),\n",
       " ('transformer/decoder/dec_layers/2/layernorm3/beta/.OPTIMIZER_SLOT/optimizer/v/.ATTRIBUTES/VARIABLE_VALUE',\n",
       "  [128]),\n",
       " ('transformer/decoder/dec_layers/2/layernorm3/gamma/.ATTRIBUTES/VARIABLE_VALUE',\n",
       "  [128]),\n",
       " ('transformer/decoder/dec_layers/2/layernorm3/gamma/.OPTIMIZER_SLOT/optimizer/m/.ATTRIBUTES/VARIABLE_VALUE',\n",
       "  [128]),\n",
       " ('transformer/decoder/dec_layers/2/layernorm3/gamma/.OPTIMIZER_SLOT/optimizer/v/.ATTRIBUTES/VARIABLE_VALUE',\n",
       "  [128]),\n",
       " ('transformer/decoder/dec_layers/2/mha1/dense/bias/.ATTRIBUTES/VARIABLE_VALUE',\n",
       "  [128]),\n",
       " ('transformer/decoder/dec_layers/2/mha1/dense/bias/.OPTIMIZER_SLOT/optimizer/m/.ATTRIBUTES/VARIABLE_VALUE',\n",
       "  [128]),\n",
       " ('transformer/decoder/dec_layers/2/mha1/dense/bias/.OPTIMIZER_SLOT/optimizer/v/.ATTRIBUTES/VARIABLE_VALUE',\n",
       "  [128]),\n",
       " ('transformer/decoder/dec_layers/2/mha1/dense/kernel/.ATTRIBUTES/VARIABLE_VALUE',\n",
       "  [128, 128]),\n",
       " ('transformer/decoder/dec_layers/2/mha1/dense/kernel/.OPTIMIZER_SLOT/optimizer/m/.ATTRIBUTES/VARIABLE_VALUE',\n",
       "  [128, 128]),\n",
       " ('transformer/decoder/dec_layers/2/mha1/dense/kernel/.OPTIMIZER_SLOT/optimizer/v/.ATTRIBUTES/VARIABLE_VALUE',\n",
       "  [128, 128]),\n",
       " ('transformer/decoder/dec_layers/2/mha1/wk/bias/.ATTRIBUTES/VARIABLE_VALUE',\n",
       "  [128]),\n",
       " ('transformer/decoder/dec_layers/2/mha1/wk/bias/.OPTIMIZER_SLOT/optimizer/m/.ATTRIBUTES/VARIABLE_VALUE',\n",
       "  [128]),\n",
       " ('transformer/decoder/dec_layers/2/mha1/wk/bias/.OPTIMIZER_SLOT/optimizer/v/.ATTRIBUTES/VARIABLE_VALUE',\n",
       "  [128]),\n",
       " ('transformer/decoder/dec_layers/2/mha1/wk/kernel/.ATTRIBUTES/VARIABLE_VALUE',\n",
       "  [128, 128]),\n",
       " ('transformer/decoder/dec_layers/2/mha1/wk/kernel/.OPTIMIZER_SLOT/optimizer/m/.ATTRIBUTES/VARIABLE_VALUE',\n",
       "  [128, 128]),\n",
       " ('transformer/decoder/dec_layers/2/mha1/wk/kernel/.OPTIMIZER_SLOT/optimizer/v/.ATTRIBUTES/VARIABLE_VALUE',\n",
       "  [128, 128]),\n",
       " ('transformer/decoder/dec_layers/2/mha1/wq/bias/.ATTRIBUTES/VARIABLE_VALUE',\n",
       "  [128]),\n",
       " ('transformer/decoder/dec_layers/2/mha1/wq/bias/.OPTIMIZER_SLOT/optimizer/m/.ATTRIBUTES/VARIABLE_VALUE',\n",
       "  [128]),\n",
       " ('transformer/decoder/dec_layers/2/mha1/wq/bias/.OPTIMIZER_SLOT/optimizer/v/.ATTRIBUTES/VARIABLE_VALUE',\n",
       "  [128]),\n",
       " ('transformer/decoder/dec_layers/2/mha1/wq/kernel/.ATTRIBUTES/VARIABLE_VALUE',\n",
       "  [128, 128]),\n",
       " ('transformer/decoder/dec_layers/2/mha1/wq/kernel/.OPTIMIZER_SLOT/optimizer/m/.ATTRIBUTES/VARIABLE_VALUE',\n",
       "  [128, 128]),\n",
       " ('transformer/decoder/dec_layers/2/mha1/wq/kernel/.OPTIMIZER_SLOT/optimizer/v/.ATTRIBUTES/VARIABLE_VALUE',\n",
       "  [128, 128]),\n",
       " ('transformer/decoder/dec_layers/2/mha1/wv/bias/.ATTRIBUTES/VARIABLE_VALUE',\n",
       "  [128]),\n",
       " ('transformer/decoder/dec_layers/2/mha1/wv/bias/.OPTIMIZER_SLOT/optimizer/m/.ATTRIBUTES/VARIABLE_VALUE',\n",
       "  [128]),\n",
       " ('transformer/decoder/dec_layers/2/mha1/wv/bias/.OPTIMIZER_SLOT/optimizer/v/.ATTRIBUTES/VARIABLE_VALUE',\n",
       "  [128]),\n",
       " ('transformer/decoder/dec_layers/2/mha1/wv/kernel/.ATTRIBUTES/VARIABLE_VALUE',\n",
       "  [128, 128]),\n",
       " ('transformer/decoder/dec_layers/2/mha1/wv/kernel/.OPTIMIZER_SLOT/optimizer/m/.ATTRIBUTES/VARIABLE_VALUE',\n",
       "  [128, 128]),\n",
       " ('transformer/decoder/dec_layers/2/mha1/wv/kernel/.OPTIMIZER_SLOT/optimizer/v/.ATTRIBUTES/VARIABLE_VALUE',\n",
       "  [128, 128]),\n",
       " ('transformer/decoder/dec_layers/2/mha2/dense/bias/.ATTRIBUTES/VARIABLE_VALUE',\n",
       "  [128]),\n",
       " ('transformer/decoder/dec_layers/2/mha2/dense/bias/.OPTIMIZER_SLOT/optimizer/m/.ATTRIBUTES/VARIABLE_VALUE',\n",
       "  [128]),\n",
       " ('transformer/decoder/dec_layers/2/mha2/dense/bias/.OPTIMIZER_SLOT/optimizer/v/.ATTRIBUTES/VARIABLE_VALUE',\n",
       "  [128]),\n",
       " ('transformer/decoder/dec_layers/2/mha2/dense/kernel/.ATTRIBUTES/VARIABLE_VALUE',\n",
       "  [128, 128]),\n",
       " ('transformer/decoder/dec_layers/2/mha2/dense/kernel/.OPTIMIZER_SLOT/optimizer/m/.ATTRIBUTES/VARIABLE_VALUE',\n",
       "  [128, 128]),\n",
       " ('transformer/decoder/dec_layers/2/mha2/dense/kernel/.OPTIMIZER_SLOT/optimizer/v/.ATTRIBUTES/VARIABLE_VALUE',\n",
       "  [128, 128]),\n",
       " ('transformer/decoder/dec_layers/2/mha2/wk/bias/.ATTRIBUTES/VARIABLE_VALUE',\n",
       "  [128]),\n",
       " ('transformer/decoder/dec_layers/2/mha2/wk/bias/.OPTIMIZER_SLOT/optimizer/m/.ATTRIBUTES/VARIABLE_VALUE',\n",
       "  [128]),\n",
       " ('transformer/decoder/dec_layers/2/mha2/wk/bias/.OPTIMIZER_SLOT/optimizer/v/.ATTRIBUTES/VARIABLE_VALUE',\n",
       "  [128]),\n",
       " ('transformer/decoder/dec_layers/2/mha2/wk/kernel/.ATTRIBUTES/VARIABLE_VALUE',\n",
       "  [128, 128]),\n",
       " ('transformer/decoder/dec_layers/2/mha2/wk/kernel/.OPTIMIZER_SLOT/optimizer/m/.ATTRIBUTES/VARIABLE_VALUE',\n",
       "  [128, 128]),\n",
       " ('transformer/decoder/dec_layers/2/mha2/wk/kernel/.OPTIMIZER_SLOT/optimizer/v/.ATTRIBUTES/VARIABLE_VALUE',\n",
       "  [128, 128]),\n",
       " ('transformer/decoder/dec_layers/2/mha2/wq/bias/.ATTRIBUTES/VARIABLE_VALUE',\n",
       "  [128]),\n",
       " ('transformer/decoder/dec_layers/2/mha2/wq/bias/.OPTIMIZER_SLOT/optimizer/m/.ATTRIBUTES/VARIABLE_VALUE',\n",
       "  [128]),\n",
       " ('transformer/decoder/dec_layers/2/mha2/wq/bias/.OPTIMIZER_SLOT/optimizer/v/.ATTRIBUTES/VARIABLE_VALUE',\n",
       "  [128]),\n",
       " ('transformer/decoder/dec_layers/2/mha2/wq/kernel/.ATTRIBUTES/VARIABLE_VALUE',\n",
       "  [128, 128]),\n",
       " ('transformer/decoder/dec_layers/2/mha2/wq/kernel/.OPTIMIZER_SLOT/optimizer/m/.ATTRIBUTES/VARIABLE_VALUE',\n",
       "  [128, 128]),\n",
       " ('transformer/decoder/dec_layers/2/mha2/wq/kernel/.OPTIMIZER_SLOT/optimizer/v/.ATTRIBUTES/VARIABLE_VALUE',\n",
       "  [128, 128]),\n",
       " ('transformer/decoder/dec_layers/2/mha2/wv/bias/.ATTRIBUTES/VARIABLE_VALUE',\n",
       "  [128]),\n",
       " ('transformer/decoder/dec_layers/2/mha2/wv/bias/.OPTIMIZER_SLOT/optimizer/m/.ATTRIBUTES/VARIABLE_VALUE',\n",
       "  [128]),\n",
       " ('transformer/decoder/dec_layers/2/mha2/wv/bias/.OPTIMIZER_SLOT/optimizer/v/.ATTRIBUTES/VARIABLE_VALUE',\n",
       "  [128]),\n",
       " ('transformer/decoder/dec_layers/2/mha2/wv/kernel/.ATTRIBUTES/VARIABLE_VALUE',\n",
       "  [128, 128]),\n",
       " ('transformer/decoder/dec_layers/2/mha2/wv/kernel/.OPTIMIZER_SLOT/optimizer/m/.ATTRIBUTES/VARIABLE_VALUE',\n",
       "  [128, 128]),\n",
       " ('transformer/decoder/dec_layers/2/mha2/wv/kernel/.OPTIMIZER_SLOT/optimizer/v/.ATTRIBUTES/VARIABLE_VALUE',\n",
       "  [128, 128]),\n",
       " ('transformer/decoder/dec_layers/3/ffn/layer-0/bias/.ATTRIBUTES/VARIABLE_VALUE',\n",
       "  [512]),\n",
       " ('transformer/decoder/dec_layers/3/ffn/layer-0/bias/.OPTIMIZER_SLOT/optimizer/m/.ATTRIBUTES/VARIABLE_VALUE',\n",
       "  [512]),\n",
       " ('transformer/decoder/dec_layers/3/ffn/layer-0/bias/.OPTIMIZER_SLOT/optimizer/v/.ATTRIBUTES/VARIABLE_VALUE',\n",
       "  [512]),\n",
       " ('transformer/decoder/dec_layers/3/ffn/layer-0/kernel/.ATTRIBUTES/VARIABLE_VALUE',\n",
       "  [128, 512]),\n",
       " ('transformer/decoder/dec_layers/3/ffn/layer-0/kernel/.OPTIMIZER_SLOT/optimizer/m/.ATTRIBUTES/VARIABLE_VALUE',\n",
       "  [128, 512]),\n",
       " ('transformer/decoder/dec_layers/3/ffn/layer-0/kernel/.OPTIMIZER_SLOT/optimizer/v/.ATTRIBUTES/VARIABLE_VALUE',\n",
       "  [128, 512]),\n",
       " ('transformer/decoder/dec_layers/3/ffn/layer-1/bias/.ATTRIBUTES/VARIABLE_VALUE',\n",
       "  [128]),\n",
       " ('transformer/decoder/dec_layers/3/ffn/layer-1/bias/.OPTIMIZER_SLOT/optimizer/m/.ATTRIBUTES/VARIABLE_VALUE',\n",
       "  [128]),\n",
       " ('transformer/decoder/dec_layers/3/ffn/layer-1/bias/.OPTIMIZER_SLOT/optimizer/v/.ATTRIBUTES/VARIABLE_VALUE',\n",
       "  [128]),\n",
       " ('transformer/decoder/dec_layers/3/ffn/layer-1/kernel/.ATTRIBUTES/VARIABLE_VALUE',\n",
       "  [512, 128]),\n",
       " ('transformer/decoder/dec_layers/3/ffn/layer-1/kernel/.OPTIMIZER_SLOT/optimizer/m/.ATTRIBUTES/VARIABLE_VALUE',\n",
       "  [512, 128]),\n",
       " ('transformer/decoder/dec_layers/3/ffn/layer-1/kernel/.OPTIMIZER_SLOT/optimizer/v/.ATTRIBUTES/VARIABLE_VALUE',\n",
       "  [512, 128]),\n",
       " ('transformer/decoder/dec_layers/3/layernorm1/beta/.ATTRIBUTES/VARIABLE_VALUE',\n",
       "  [128]),\n",
       " ('transformer/decoder/dec_layers/3/layernorm1/beta/.OPTIMIZER_SLOT/optimizer/m/.ATTRIBUTES/VARIABLE_VALUE',\n",
       "  [128]),\n",
       " ('transformer/decoder/dec_layers/3/layernorm1/beta/.OPTIMIZER_SLOT/optimizer/v/.ATTRIBUTES/VARIABLE_VALUE',\n",
       "  [128]),\n",
       " ('transformer/decoder/dec_layers/3/layernorm1/gamma/.ATTRIBUTES/VARIABLE_VALUE',\n",
       "  [128]),\n",
       " ('transformer/decoder/dec_layers/3/layernorm1/gamma/.OPTIMIZER_SLOT/optimizer/m/.ATTRIBUTES/VARIABLE_VALUE',\n",
       "  [128]),\n",
       " ('transformer/decoder/dec_layers/3/layernorm1/gamma/.OPTIMIZER_SLOT/optimizer/v/.ATTRIBUTES/VARIABLE_VALUE',\n",
       "  [128]),\n",
       " ('transformer/decoder/dec_layers/3/layernorm2/beta/.ATTRIBUTES/VARIABLE_VALUE',\n",
       "  [128]),\n",
       " ('transformer/decoder/dec_layers/3/layernorm2/beta/.OPTIMIZER_SLOT/optimizer/m/.ATTRIBUTES/VARIABLE_VALUE',\n",
       "  [128]),\n",
       " ('transformer/decoder/dec_layers/3/layernorm2/beta/.OPTIMIZER_SLOT/optimizer/v/.ATTRIBUTES/VARIABLE_VALUE',\n",
       "  [128]),\n",
       " ('transformer/decoder/dec_layers/3/layernorm2/gamma/.ATTRIBUTES/VARIABLE_VALUE',\n",
       "  [128]),\n",
       " ('transformer/decoder/dec_layers/3/layernorm2/gamma/.OPTIMIZER_SLOT/optimizer/m/.ATTRIBUTES/VARIABLE_VALUE',\n",
       "  [128]),\n",
       " ('transformer/decoder/dec_layers/3/layernorm2/gamma/.OPTIMIZER_SLOT/optimizer/v/.ATTRIBUTES/VARIABLE_VALUE',\n",
       "  [128]),\n",
       " ('transformer/decoder/dec_layers/3/layernorm3/beta/.ATTRIBUTES/VARIABLE_VALUE',\n",
       "  [128]),\n",
       " ('transformer/decoder/dec_layers/3/layernorm3/beta/.OPTIMIZER_SLOT/optimizer/m/.ATTRIBUTES/VARIABLE_VALUE',\n",
       "  [128]),\n",
       " ('transformer/decoder/dec_layers/3/layernorm3/beta/.OPTIMIZER_SLOT/optimizer/v/.ATTRIBUTES/VARIABLE_VALUE',\n",
       "  [128]),\n",
       " ('transformer/decoder/dec_layers/3/layernorm3/gamma/.ATTRIBUTES/VARIABLE_VALUE',\n",
       "  [128]),\n",
       " ('transformer/decoder/dec_layers/3/layernorm3/gamma/.OPTIMIZER_SLOT/optimizer/m/.ATTRIBUTES/VARIABLE_VALUE',\n",
       "  [128]),\n",
       " ('transformer/decoder/dec_layers/3/layernorm3/gamma/.OPTIMIZER_SLOT/optimizer/v/.ATTRIBUTES/VARIABLE_VALUE',\n",
       "  [128]),\n",
       " ('transformer/decoder/dec_layers/3/mha1/dense/bias/.ATTRIBUTES/VARIABLE_VALUE',\n",
       "  [128]),\n",
       " ('transformer/decoder/dec_layers/3/mha1/dense/bias/.OPTIMIZER_SLOT/optimizer/m/.ATTRIBUTES/VARIABLE_VALUE',\n",
       "  [128]),\n",
       " ('transformer/decoder/dec_layers/3/mha1/dense/bias/.OPTIMIZER_SLOT/optimizer/v/.ATTRIBUTES/VARIABLE_VALUE',\n",
       "  [128]),\n",
       " ('transformer/decoder/dec_layers/3/mha1/dense/kernel/.ATTRIBUTES/VARIABLE_VALUE',\n",
       "  [128, 128]),\n",
       " ('transformer/decoder/dec_layers/3/mha1/dense/kernel/.OPTIMIZER_SLOT/optimizer/m/.ATTRIBUTES/VARIABLE_VALUE',\n",
       "  [128, 128]),\n",
       " ('transformer/decoder/dec_layers/3/mha1/dense/kernel/.OPTIMIZER_SLOT/optimizer/v/.ATTRIBUTES/VARIABLE_VALUE',\n",
       "  [128, 128]),\n",
       " ('transformer/decoder/dec_layers/3/mha1/wk/bias/.ATTRIBUTES/VARIABLE_VALUE',\n",
       "  [128]),\n",
       " ('transformer/decoder/dec_layers/3/mha1/wk/bias/.OPTIMIZER_SLOT/optimizer/m/.ATTRIBUTES/VARIABLE_VALUE',\n",
       "  [128]),\n",
       " ('transformer/decoder/dec_layers/3/mha1/wk/bias/.OPTIMIZER_SLOT/optimizer/v/.ATTRIBUTES/VARIABLE_VALUE',\n",
       "  [128]),\n",
       " ('transformer/decoder/dec_layers/3/mha1/wk/kernel/.ATTRIBUTES/VARIABLE_VALUE',\n",
       "  [128, 128]),\n",
       " ('transformer/decoder/dec_layers/3/mha1/wk/kernel/.OPTIMIZER_SLOT/optimizer/m/.ATTRIBUTES/VARIABLE_VALUE',\n",
       "  [128, 128]),\n",
       " ('transformer/decoder/dec_layers/3/mha1/wk/kernel/.OPTIMIZER_SLOT/optimizer/v/.ATTRIBUTES/VARIABLE_VALUE',\n",
       "  [128, 128]),\n",
       " ('transformer/decoder/dec_layers/3/mha1/wq/bias/.ATTRIBUTES/VARIABLE_VALUE',\n",
       "  [128]),\n",
       " ('transformer/decoder/dec_layers/3/mha1/wq/bias/.OPTIMIZER_SLOT/optimizer/m/.ATTRIBUTES/VARIABLE_VALUE',\n",
       "  [128]),\n",
       " ('transformer/decoder/dec_layers/3/mha1/wq/bias/.OPTIMIZER_SLOT/optimizer/v/.ATTRIBUTES/VARIABLE_VALUE',\n",
       "  [128]),\n",
       " ('transformer/decoder/dec_layers/3/mha1/wq/kernel/.ATTRIBUTES/VARIABLE_VALUE',\n",
       "  [128, 128]),\n",
       " ('transformer/decoder/dec_layers/3/mha1/wq/kernel/.OPTIMIZER_SLOT/optimizer/m/.ATTRIBUTES/VARIABLE_VALUE',\n",
       "  [128, 128]),\n",
       " ('transformer/decoder/dec_layers/3/mha1/wq/kernel/.OPTIMIZER_SLOT/optimizer/v/.ATTRIBUTES/VARIABLE_VALUE',\n",
       "  [128, 128]),\n",
       " ('transformer/decoder/dec_layers/3/mha1/wv/bias/.ATTRIBUTES/VARIABLE_VALUE',\n",
       "  [128]),\n",
       " ('transformer/decoder/dec_layers/3/mha1/wv/bias/.OPTIMIZER_SLOT/optimizer/m/.ATTRIBUTES/VARIABLE_VALUE',\n",
       "  [128]),\n",
       " ('transformer/decoder/dec_layers/3/mha1/wv/bias/.OPTIMIZER_SLOT/optimizer/v/.ATTRIBUTES/VARIABLE_VALUE',\n",
       "  [128]),\n",
       " ('transformer/decoder/dec_layers/3/mha1/wv/kernel/.ATTRIBUTES/VARIABLE_VALUE',\n",
       "  [128, 128]),\n",
       " ('transformer/decoder/dec_layers/3/mha1/wv/kernel/.OPTIMIZER_SLOT/optimizer/m/.ATTRIBUTES/VARIABLE_VALUE',\n",
       "  [128, 128]),\n",
       " ('transformer/decoder/dec_layers/3/mha1/wv/kernel/.OPTIMIZER_SLOT/optimizer/v/.ATTRIBUTES/VARIABLE_VALUE',\n",
       "  [128, 128]),\n",
       " ('transformer/decoder/dec_layers/3/mha2/dense/bias/.ATTRIBUTES/VARIABLE_VALUE',\n",
       "  [128]),\n",
       " ('transformer/decoder/dec_layers/3/mha2/dense/bias/.OPTIMIZER_SLOT/optimizer/m/.ATTRIBUTES/VARIABLE_VALUE',\n",
       "  [128]),\n",
       " ('transformer/decoder/dec_layers/3/mha2/dense/bias/.OPTIMIZER_SLOT/optimizer/v/.ATTRIBUTES/VARIABLE_VALUE',\n",
       "  [128]),\n",
       " ('transformer/decoder/dec_layers/3/mha2/dense/kernel/.ATTRIBUTES/VARIABLE_VALUE',\n",
       "  [128, 128]),\n",
       " ('transformer/decoder/dec_layers/3/mha2/dense/kernel/.OPTIMIZER_SLOT/optimizer/m/.ATTRIBUTES/VARIABLE_VALUE',\n",
       "  [128, 128]),\n",
       " ('transformer/decoder/dec_layers/3/mha2/dense/kernel/.OPTIMIZER_SLOT/optimizer/v/.ATTRIBUTES/VARIABLE_VALUE',\n",
       "  [128, 128]),\n",
       " ('transformer/decoder/dec_layers/3/mha2/wk/bias/.ATTRIBUTES/VARIABLE_VALUE',\n",
       "  [128]),\n",
       " ('transformer/decoder/dec_layers/3/mha2/wk/bias/.OPTIMIZER_SLOT/optimizer/m/.ATTRIBUTES/VARIABLE_VALUE',\n",
       "  [128]),\n",
       " ('transformer/decoder/dec_layers/3/mha2/wk/bias/.OPTIMIZER_SLOT/optimizer/v/.ATTRIBUTES/VARIABLE_VALUE',\n",
       "  [128]),\n",
       " ('transformer/decoder/dec_layers/3/mha2/wk/kernel/.ATTRIBUTES/VARIABLE_VALUE',\n",
       "  [128, 128]),\n",
       " ('transformer/decoder/dec_layers/3/mha2/wk/kernel/.OPTIMIZER_SLOT/optimizer/m/.ATTRIBUTES/VARIABLE_VALUE',\n",
       "  [128, 128]),\n",
       " ('transformer/decoder/dec_layers/3/mha2/wk/kernel/.OPTIMIZER_SLOT/optimizer/v/.ATTRIBUTES/VARIABLE_VALUE',\n",
       "  [128, 128]),\n",
       " ('transformer/decoder/dec_layers/3/mha2/wq/bias/.ATTRIBUTES/VARIABLE_VALUE',\n",
       "  [128]),\n",
       " ('transformer/decoder/dec_layers/3/mha2/wq/bias/.OPTIMIZER_SLOT/optimizer/m/.ATTRIBUTES/VARIABLE_VALUE',\n",
       "  [128]),\n",
       " ('transformer/decoder/dec_layers/3/mha2/wq/bias/.OPTIMIZER_SLOT/optimizer/v/.ATTRIBUTES/VARIABLE_VALUE',\n",
       "  [128]),\n",
       " ('transformer/decoder/dec_layers/3/mha2/wq/kernel/.ATTRIBUTES/VARIABLE_VALUE',\n",
       "  [128, 128]),\n",
       " ('transformer/decoder/dec_layers/3/mha2/wq/kernel/.OPTIMIZER_SLOT/optimizer/m/.ATTRIBUTES/VARIABLE_VALUE',\n",
       "  [128, 128]),\n",
       " ('transformer/decoder/dec_layers/3/mha2/wq/kernel/.OPTIMIZER_SLOT/optimizer/v/.ATTRIBUTES/VARIABLE_VALUE',\n",
       "  [128, 128]),\n",
       " ('transformer/decoder/dec_layers/3/mha2/wv/bias/.ATTRIBUTES/VARIABLE_VALUE',\n",
       "  [128]),\n",
       " ('transformer/decoder/dec_layers/3/mha2/wv/bias/.OPTIMIZER_SLOT/optimizer/m/.ATTRIBUTES/VARIABLE_VALUE',\n",
       "  [128]),\n",
       " ('transformer/decoder/dec_layers/3/mha2/wv/bias/.OPTIMIZER_SLOT/optimizer/v/.ATTRIBUTES/VARIABLE_VALUE',\n",
       "  [128]),\n",
       " ('transformer/decoder/dec_layers/3/mha2/wv/kernel/.ATTRIBUTES/VARIABLE_VALUE',\n",
       "  [128, 128]),\n",
       " ('transformer/decoder/dec_layers/3/mha2/wv/kernel/.OPTIMIZER_SLOT/optimizer/m/.ATTRIBUTES/VARIABLE_VALUE',\n",
       "  [128, 128]),\n",
       " ('transformer/decoder/dec_layers/3/mha2/wv/kernel/.OPTIMIZER_SLOT/optimizer/v/.ATTRIBUTES/VARIABLE_VALUE',\n",
       "  [128, 128]),\n",
       " ('transformer/decoder/embedding/embeddings/.ATTRIBUTES/VARIABLE_VALUE',\n",
       "  [51112, 128]),\n",
       " ('transformer/decoder/embedding/embeddings/.OPTIMIZER_SLOT/optimizer/m/.ATTRIBUTES/VARIABLE_VALUE',\n",
       "  [51112, 128]),\n",
       " ('transformer/decoder/embedding/embeddings/.OPTIMIZER_SLOT/optimizer/v/.ATTRIBUTES/VARIABLE_VALUE',\n",
       "  [51112, 128]),\n",
       " ('transformer/encoder/embedding/embeddings/.ATTRIBUTES/VARIABLE_VALUE',\n",
       "  [7051, 128]),\n",
       " ('transformer/encoder/embedding/embeddings/.OPTIMIZER_SLOT/optimizer/m/.ATTRIBUTES/VARIABLE_VALUE',\n",
       "  [7051, 128]),\n",
       " ('transformer/encoder/embedding/embeddings/.OPTIMIZER_SLOT/optimizer/v/.ATTRIBUTES/VARIABLE_VALUE',\n",
       "  [7051, 128]),\n",
       " ('transformer/encoder/enc_layers/0/ffn/layer-0/bias/.ATTRIBUTES/VARIABLE_VALUE',\n",
       "  [512]),\n",
       " ('transformer/encoder/enc_layers/0/ffn/layer-0/bias/.OPTIMIZER_SLOT/optimizer/m/.ATTRIBUTES/VARIABLE_VALUE',\n",
       "  [512]),\n",
       " ('transformer/encoder/enc_layers/0/ffn/layer-0/bias/.OPTIMIZER_SLOT/optimizer/v/.ATTRIBUTES/VARIABLE_VALUE',\n",
       "  [512]),\n",
       " ('transformer/encoder/enc_layers/0/ffn/layer-0/kernel/.ATTRIBUTES/VARIABLE_VALUE',\n",
       "  [128, 512]),\n",
       " ('transformer/encoder/enc_layers/0/ffn/layer-0/kernel/.OPTIMIZER_SLOT/optimizer/m/.ATTRIBUTES/VARIABLE_VALUE',\n",
       "  [128, 512]),\n",
       " ('transformer/encoder/enc_layers/0/ffn/layer-0/kernel/.OPTIMIZER_SLOT/optimizer/v/.ATTRIBUTES/VARIABLE_VALUE',\n",
       "  [128, 512]),\n",
       " ('transformer/encoder/enc_layers/0/ffn/layer-1/bias/.ATTRIBUTES/VARIABLE_VALUE',\n",
       "  [128]),\n",
       " ('transformer/encoder/enc_layers/0/ffn/layer-1/bias/.OPTIMIZER_SLOT/optimizer/m/.ATTRIBUTES/VARIABLE_VALUE',\n",
       "  [128]),\n",
       " ('transformer/encoder/enc_layers/0/ffn/layer-1/bias/.OPTIMIZER_SLOT/optimizer/v/.ATTRIBUTES/VARIABLE_VALUE',\n",
       "  [128]),\n",
       " ('transformer/encoder/enc_layers/0/ffn/layer-1/kernel/.ATTRIBUTES/VARIABLE_VALUE',\n",
       "  [512, 128]),\n",
       " ('transformer/encoder/enc_layers/0/ffn/layer-1/kernel/.OPTIMIZER_SLOT/optimizer/m/.ATTRIBUTES/VARIABLE_VALUE',\n",
       "  [512, 128]),\n",
       " ('transformer/encoder/enc_layers/0/ffn/layer-1/kernel/.OPTIMIZER_SLOT/optimizer/v/.ATTRIBUTES/VARIABLE_VALUE',\n",
       "  [512, 128]),\n",
       " ('transformer/encoder/enc_layers/0/layernorm1/beta/.ATTRIBUTES/VARIABLE_VALUE',\n",
       "  [128]),\n",
       " ('transformer/encoder/enc_layers/0/layernorm1/beta/.OPTIMIZER_SLOT/optimizer/m/.ATTRIBUTES/VARIABLE_VALUE',\n",
       "  [128]),\n",
       " ('transformer/encoder/enc_layers/0/layernorm1/beta/.OPTIMIZER_SLOT/optimizer/v/.ATTRIBUTES/VARIABLE_VALUE',\n",
       "  [128]),\n",
       " ('transformer/encoder/enc_layers/0/layernorm1/gamma/.ATTRIBUTES/VARIABLE_VALUE',\n",
       "  [128]),\n",
       " ('transformer/encoder/enc_layers/0/layernorm1/gamma/.OPTIMIZER_SLOT/optimizer/m/.ATTRIBUTES/VARIABLE_VALUE',\n",
       "  [128]),\n",
       " ('transformer/encoder/enc_layers/0/layernorm1/gamma/.OPTIMIZER_SLOT/optimizer/v/.ATTRIBUTES/VARIABLE_VALUE',\n",
       "  [128]),\n",
       " ('transformer/encoder/enc_layers/0/layernorm2/beta/.ATTRIBUTES/VARIABLE_VALUE',\n",
       "  [128]),\n",
       " ('transformer/encoder/enc_layers/0/layernorm2/beta/.OPTIMIZER_SLOT/optimizer/m/.ATTRIBUTES/VARIABLE_VALUE',\n",
       "  [128]),\n",
       " ('transformer/encoder/enc_layers/0/layernorm2/beta/.OPTIMIZER_SLOT/optimizer/v/.ATTRIBUTES/VARIABLE_VALUE',\n",
       "  [128]),\n",
       " ('transformer/encoder/enc_layers/0/layernorm2/gamma/.ATTRIBUTES/VARIABLE_VALUE',\n",
       "  [128]),\n",
       " ('transformer/encoder/enc_layers/0/layernorm2/gamma/.OPTIMIZER_SLOT/optimizer/m/.ATTRIBUTES/VARIABLE_VALUE',\n",
       "  [128]),\n",
       " ('transformer/encoder/enc_layers/0/layernorm2/gamma/.OPTIMIZER_SLOT/optimizer/v/.ATTRIBUTES/VARIABLE_VALUE',\n",
       "  [128]),\n",
       " ('transformer/encoder/enc_layers/0/mha/dense/bias/.ATTRIBUTES/VARIABLE_VALUE',\n",
       "  [128]),\n",
       " ('transformer/encoder/enc_layers/0/mha/dense/bias/.OPTIMIZER_SLOT/optimizer/m/.ATTRIBUTES/VARIABLE_VALUE',\n",
       "  [128]),\n",
       " ('transformer/encoder/enc_layers/0/mha/dense/bias/.OPTIMIZER_SLOT/optimizer/v/.ATTRIBUTES/VARIABLE_VALUE',\n",
       "  [128]),\n",
       " ('transformer/encoder/enc_layers/0/mha/dense/kernel/.ATTRIBUTES/VARIABLE_VALUE',\n",
       "  [128, 128]),\n",
       " ('transformer/encoder/enc_layers/0/mha/dense/kernel/.OPTIMIZER_SLOT/optimizer/m/.ATTRIBUTES/VARIABLE_VALUE',\n",
       "  [128, 128]),\n",
       " ('transformer/encoder/enc_layers/0/mha/dense/kernel/.OPTIMIZER_SLOT/optimizer/v/.ATTRIBUTES/VARIABLE_VALUE',\n",
       "  [128, 128]),\n",
       " ('transformer/encoder/enc_layers/0/mha/wk/bias/.ATTRIBUTES/VARIABLE_VALUE',\n",
       "  [128]),\n",
       " ('transformer/encoder/enc_layers/0/mha/wk/bias/.OPTIMIZER_SLOT/optimizer/m/.ATTRIBUTES/VARIABLE_VALUE',\n",
       "  [128]),\n",
       " ('transformer/encoder/enc_layers/0/mha/wk/bias/.OPTIMIZER_SLOT/optimizer/v/.ATTRIBUTES/VARIABLE_VALUE',\n",
       "  [128]),\n",
       " ('transformer/encoder/enc_layers/0/mha/wk/kernel/.ATTRIBUTES/VARIABLE_VALUE',\n",
       "  [128, 128]),\n",
       " ('transformer/encoder/enc_layers/0/mha/wk/kernel/.OPTIMIZER_SLOT/optimizer/m/.ATTRIBUTES/VARIABLE_VALUE',\n",
       "  [128, 128]),\n",
       " ('transformer/encoder/enc_layers/0/mha/wk/kernel/.OPTIMIZER_SLOT/optimizer/v/.ATTRIBUTES/VARIABLE_VALUE',\n",
       "  [128, 128]),\n",
       " ('transformer/encoder/enc_layers/0/mha/wq/bias/.ATTRIBUTES/VARIABLE_VALUE',\n",
       "  [128]),\n",
       " ('transformer/encoder/enc_layers/0/mha/wq/bias/.OPTIMIZER_SLOT/optimizer/m/.ATTRIBUTES/VARIABLE_VALUE',\n",
       "  [128]),\n",
       " ('transformer/encoder/enc_layers/0/mha/wq/bias/.OPTIMIZER_SLOT/optimizer/v/.ATTRIBUTES/VARIABLE_VALUE',\n",
       "  [128]),\n",
       " ('transformer/encoder/enc_layers/0/mha/wq/kernel/.ATTRIBUTES/VARIABLE_VALUE',\n",
       "  [128, 128]),\n",
       " ('transformer/encoder/enc_layers/0/mha/wq/kernel/.OPTIMIZER_SLOT/optimizer/m/.ATTRIBUTES/VARIABLE_VALUE',\n",
       "  [128, 128]),\n",
       " ('transformer/encoder/enc_layers/0/mha/wq/kernel/.OPTIMIZER_SLOT/optimizer/v/.ATTRIBUTES/VARIABLE_VALUE',\n",
       "  [128, 128]),\n",
       " ('transformer/encoder/enc_layers/0/mha/wv/bias/.ATTRIBUTES/VARIABLE_VALUE',\n",
       "  [128]),\n",
       " ('transformer/encoder/enc_layers/0/mha/wv/bias/.OPTIMIZER_SLOT/optimizer/m/.ATTRIBUTES/VARIABLE_VALUE',\n",
       "  [128]),\n",
       " ('transformer/encoder/enc_layers/0/mha/wv/bias/.OPTIMIZER_SLOT/optimizer/v/.ATTRIBUTES/VARIABLE_VALUE',\n",
       "  [128]),\n",
       " ('transformer/encoder/enc_layers/0/mha/wv/kernel/.ATTRIBUTES/VARIABLE_VALUE',\n",
       "  [128, 128]),\n",
       " ('transformer/encoder/enc_layers/0/mha/wv/kernel/.OPTIMIZER_SLOT/optimizer/m/.ATTRIBUTES/VARIABLE_VALUE',\n",
       "  [128, 128]),\n",
       " ('transformer/encoder/enc_layers/0/mha/wv/kernel/.OPTIMIZER_SLOT/optimizer/v/.ATTRIBUTES/VARIABLE_VALUE',\n",
       "  [128, 128]),\n",
       " ('transformer/encoder/enc_layers/1/ffn/layer-0/bias/.ATTRIBUTES/VARIABLE_VALUE',\n",
       "  [512]),\n",
       " ('transformer/encoder/enc_layers/1/ffn/layer-0/bias/.OPTIMIZER_SLOT/optimizer/m/.ATTRIBUTES/VARIABLE_VALUE',\n",
       "  [512]),\n",
       " ('transformer/encoder/enc_layers/1/ffn/layer-0/bias/.OPTIMIZER_SLOT/optimizer/v/.ATTRIBUTES/VARIABLE_VALUE',\n",
       "  [512]),\n",
       " ('transformer/encoder/enc_layers/1/ffn/layer-0/kernel/.ATTRIBUTES/VARIABLE_VALUE',\n",
       "  [128, 512]),\n",
       " ('transformer/encoder/enc_layers/1/ffn/layer-0/kernel/.OPTIMIZER_SLOT/optimizer/m/.ATTRIBUTES/VARIABLE_VALUE',\n",
       "  [128, 512]),\n",
       " ('transformer/encoder/enc_layers/1/ffn/layer-0/kernel/.OPTIMIZER_SLOT/optimizer/v/.ATTRIBUTES/VARIABLE_VALUE',\n",
       "  [128, 512]),\n",
       " ('transformer/encoder/enc_layers/1/ffn/layer-1/bias/.ATTRIBUTES/VARIABLE_VALUE',\n",
       "  [128]),\n",
       " ('transformer/encoder/enc_layers/1/ffn/layer-1/bias/.OPTIMIZER_SLOT/optimizer/m/.ATTRIBUTES/VARIABLE_VALUE',\n",
       "  [128]),\n",
       " ('transformer/encoder/enc_layers/1/ffn/layer-1/bias/.OPTIMIZER_SLOT/optimizer/v/.ATTRIBUTES/VARIABLE_VALUE',\n",
       "  [128]),\n",
       " ('transformer/encoder/enc_layers/1/ffn/layer-1/kernel/.ATTRIBUTES/VARIABLE_VALUE',\n",
       "  [512, 128]),\n",
       " ('transformer/encoder/enc_layers/1/ffn/layer-1/kernel/.OPTIMIZER_SLOT/optimizer/m/.ATTRIBUTES/VARIABLE_VALUE',\n",
       "  [512, 128]),\n",
       " ('transformer/encoder/enc_layers/1/ffn/layer-1/kernel/.OPTIMIZER_SLOT/optimizer/v/.ATTRIBUTES/VARIABLE_VALUE',\n",
       "  [512, 128]),\n",
       " ('transformer/encoder/enc_layers/1/layernorm1/beta/.ATTRIBUTES/VARIABLE_VALUE',\n",
       "  [128]),\n",
       " ('transformer/encoder/enc_layers/1/layernorm1/beta/.OPTIMIZER_SLOT/optimizer/m/.ATTRIBUTES/VARIABLE_VALUE',\n",
       "  [128]),\n",
       " ('transformer/encoder/enc_layers/1/layernorm1/beta/.OPTIMIZER_SLOT/optimizer/v/.ATTRIBUTES/VARIABLE_VALUE',\n",
       "  [128]),\n",
       " ('transformer/encoder/enc_layers/1/layernorm1/gamma/.ATTRIBUTES/VARIABLE_VALUE',\n",
       "  [128]),\n",
       " ('transformer/encoder/enc_layers/1/layernorm1/gamma/.OPTIMIZER_SLOT/optimizer/m/.ATTRIBUTES/VARIABLE_VALUE',\n",
       "  [128]),\n",
       " ('transformer/encoder/enc_layers/1/layernorm1/gamma/.OPTIMIZER_SLOT/optimizer/v/.ATTRIBUTES/VARIABLE_VALUE',\n",
       "  [128]),\n",
       " ('transformer/encoder/enc_layers/1/layernorm2/beta/.ATTRIBUTES/VARIABLE_VALUE',\n",
       "  [128]),\n",
       " ('transformer/encoder/enc_layers/1/layernorm2/beta/.OPTIMIZER_SLOT/optimizer/m/.ATTRIBUTES/VARIABLE_VALUE',\n",
       "  [128]),\n",
       " ('transformer/encoder/enc_layers/1/layernorm2/beta/.OPTIMIZER_SLOT/optimizer/v/.ATTRIBUTES/VARIABLE_VALUE',\n",
       "  [128]),\n",
       " ('transformer/encoder/enc_layers/1/layernorm2/gamma/.ATTRIBUTES/VARIABLE_VALUE',\n",
       "  [128]),\n",
       " ('transformer/encoder/enc_layers/1/layernorm2/gamma/.OPTIMIZER_SLOT/optimizer/m/.ATTRIBUTES/VARIABLE_VALUE',\n",
       "  [128]),\n",
       " ('transformer/encoder/enc_layers/1/layernorm2/gamma/.OPTIMIZER_SLOT/optimizer/v/.ATTRIBUTES/VARIABLE_VALUE',\n",
       "  [128]),\n",
       " ('transformer/encoder/enc_layers/1/mha/dense/bias/.ATTRIBUTES/VARIABLE_VALUE',\n",
       "  [128]),\n",
       " ('transformer/encoder/enc_layers/1/mha/dense/bias/.OPTIMIZER_SLOT/optimizer/m/.ATTRIBUTES/VARIABLE_VALUE',\n",
       "  [128]),\n",
       " ('transformer/encoder/enc_layers/1/mha/dense/bias/.OPTIMIZER_SLOT/optimizer/v/.ATTRIBUTES/VARIABLE_VALUE',\n",
       "  [128]),\n",
       " ('transformer/encoder/enc_layers/1/mha/dense/kernel/.ATTRIBUTES/VARIABLE_VALUE',\n",
       "  [128, 128]),\n",
       " ('transformer/encoder/enc_layers/1/mha/dense/kernel/.OPTIMIZER_SLOT/optimizer/m/.ATTRIBUTES/VARIABLE_VALUE',\n",
       "  [128, 128]),\n",
       " ('transformer/encoder/enc_layers/1/mha/dense/kernel/.OPTIMIZER_SLOT/optimizer/v/.ATTRIBUTES/VARIABLE_VALUE',\n",
       "  [128, 128]),\n",
       " ('transformer/encoder/enc_layers/1/mha/wk/bias/.ATTRIBUTES/VARIABLE_VALUE',\n",
       "  [128]),\n",
       " ('transformer/encoder/enc_layers/1/mha/wk/bias/.OPTIMIZER_SLOT/optimizer/m/.ATTRIBUTES/VARIABLE_VALUE',\n",
       "  [128]),\n",
       " ('transformer/encoder/enc_layers/1/mha/wk/bias/.OPTIMIZER_SLOT/optimizer/v/.ATTRIBUTES/VARIABLE_VALUE',\n",
       "  [128]),\n",
       " ('transformer/encoder/enc_layers/1/mha/wk/kernel/.ATTRIBUTES/VARIABLE_VALUE',\n",
       "  [128, 128]),\n",
       " ('transformer/encoder/enc_layers/1/mha/wk/kernel/.OPTIMIZER_SLOT/optimizer/m/.ATTRIBUTES/VARIABLE_VALUE',\n",
       "  [128, 128]),\n",
       " ('transformer/encoder/enc_layers/1/mha/wk/kernel/.OPTIMIZER_SLOT/optimizer/v/.ATTRIBUTES/VARIABLE_VALUE',\n",
       "  [128, 128]),\n",
       " ('transformer/encoder/enc_layers/1/mha/wq/bias/.ATTRIBUTES/VARIABLE_VALUE',\n",
       "  [128]),\n",
       " ('transformer/encoder/enc_layers/1/mha/wq/bias/.OPTIMIZER_SLOT/optimizer/m/.ATTRIBUTES/VARIABLE_VALUE',\n",
       "  [128]),\n",
       " ('transformer/encoder/enc_layers/1/mha/wq/bias/.OPTIMIZER_SLOT/optimizer/v/.ATTRIBUTES/VARIABLE_VALUE',\n",
       "  [128]),\n",
       " ('transformer/encoder/enc_layers/1/mha/wq/kernel/.ATTRIBUTES/VARIABLE_VALUE',\n",
       "  [128, 128]),\n",
       " ('transformer/encoder/enc_layers/1/mha/wq/kernel/.OPTIMIZER_SLOT/optimizer/m/.ATTRIBUTES/VARIABLE_VALUE',\n",
       "  [128, 128]),\n",
       " ('transformer/encoder/enc_layers/1/mha/wq/kernel/.OPTIMIZER_SLOT/optimizer/v/.ATTRIBUTES/VARIABLE_VALUE',\n",
       "  [128, 128]),\n",
       " ('transformer/encoder/enc_layers/1/mha/wv/bias/.ATTRIBUTES/VARIABLE_VALUE',\n",
       "  [128]),\n",
       " ('transformer/encoder/enc_layers/1/mha/wv/bias/.OPTIMIZER_SLOT/optimizer/m/.ATTRIBUTES/VARIABLE_VALUE',\n",
       "  [128]),\n",
       " ('transformer/encoder/enc_layers/1/mha/wv/bias/.OPTIMIZER_SLOT/optimizer/v/.ATTRIBUTES/VARIABLE_VALUE',\n",
       "  [128]),\n",
       " ('transformer/encoder/enc_layers/1/mha/wv/kernel/.ATTRIBUTES/VARIABLE_VALUE',\n",
       "  [128, 128]),\n",
       " ('transformer/encoder/enc_layers/1/mha/wv/kernel/.OPTIMIZER_SLOT/optimizer/m/.ATTRIBUTES/VARIABLE_VALUE',\n",
       "  [128, 128]),\n",
       " ('transformer/encoder/enc_layers/1/mha/wv/kernel/.OPTIMIZER_SLOT/optimizer/v/.ATTRIBUTES/VARIABLE_VALUE',\n",
       "  [128, 128]),\n",
       " ('transformer/encoder/enc_layers/2/ffn/layer-0/bias/.ATTRIBUTES/VARIABLE_VALUE',\n",
       "  [512]),\n",
       " ('transformer/encoder/enc_layers/2/ffn/layer-0/bias/.OPTIMIZER_SLOT/optimizer/m/.ATTRIBUTES/VARIABLE_VALUE',\n",
       "  [512]),\n",
       " ('transformer/encoder/enc_layers/2/ffn/layer-0/bias/.OPTIMIZER_SLOT/optimizer/v/.ATTRIBUTES/VARIABLE_VALUE',\n",
       "  [512]),\n",
       " ('transformer/encoder/enc_layers/2/ffn/layer-0/kernel/.ATTRIBUTES/VARIABLE_VALUE',\n",
       "  [128, 512]),\n",
       " ('transformer/encoder/enc_layers/2/ffn/layer-0/kernel/.OPTIMIZER_SLOT/optimizer/m/.ATTRIBUTES/VARIABLE_VALUE',\n",
       "  [128, 512]),\n",
       " ('transformer/encoder/enc_layers/2/ffn/layer-0/kernel/.OPTIMIZER_SLOT/optimizer/v/.ATTRIBUTES/VARIABLE_VALUE',\n",
       "  [128, 512]),\n",
       " ('transformer/encoder/enc_layers/2/ffn/layer-1/bias/.ATTRIBUTES/VARIABLE_VALUE',\n",
       "  [128]),\n",
       " ('transformer/encoder/enc_layers/2/ffn/layer-1/bias/.OPTIMIZER_SLOT/optimizer/m/.ATTRIBUTES/VARIABLE_VALUE',\n",
       "  [128]),\n",
       " ('transformer/encoder/enc_layers/2/ffn/layer-1/bias/.OPTIMIZER_SLOT/optimizer/v/.ATTRIBUTES/VARIABLE_VALUE',\n",
       "  [128]),\n",
       " ('transformer/encoder/enc_layers/2/ffn/layer-1/kernel/.ATTRIBUTES/VARIABLE_VALUE',\n",
       "  [512, 128]),\n",
       " ('transformer/encoder/enc_layers/2/ffn/layer-1/kernel/.OPTIMIZER_SLOT/optimizer/m/.ATTRIBUTES/VARIABLE_VALUE',\n",
       "  [512, 128]),\n",
       " ('transformer/encoder/enc_layers/2/ffn/layer-1/kernel/.OPTIMIZER_SLOT/optimizer/v/.ATTRIBUTES/VARIABLE_VALUE',\n",
       "  [512, 128]),\n",
       " ('transformer/encoder/enc_layers/2/layernorm1/beta/.ATTRIBUTES/VARIABLE_VALUE',\n",
       "  [128]),\n",
       " ('transformer/encoder/enc_layers/2/layernorm1/beta/.OPTIMIZER_SLOT/optimizer/m/.ATTRIBUTES/VARIABLE_VALUE',\n",
       "  [128]),\n",
       " ('transformer/encoder/enc_layers/2/layernorm1/beta/.OPTIMIZER_SLOT/optimizer/v/.ATTRIBUTES/VARIABLE_VALUE',\n",
       "  [128]),\n",
       " ('transformer/encoder/enc_layers/2/layernorm1/gamma/.ATTRIBUTES/VARIABLE_VALUE',\n",
       "  [128]),\n",
       " ('transformer/encoder/enc_layers/2/layernorm1/gamma/.OPTIMIZER_SLOT/optimizer/m/.ATTRIBUTES/VARIABLE_VALUE',\n",
       "  [128]),\n",
       " ('transformer/encoder/enc_layers/2/layernorm1/gamma/.OPTIMIZER_SLOT/optimizer/v/.ATTRIBUTES/VARIABLE_VALUE',\n",
       "  [128]),\n",
       " ('transformer/encoder/enc_layers/2/layernorm2/beta/.ATTRIBUTES/VARIABLE_VALUE',\n",
       "  [128]),\n",
       " ('transformer/encoder/enc_layers/2/layernorm2/beta/.OPTIMIZER_SLOT/optimizer/m/.ATTRIBUTES/VARIABLE_VALUE',\n",
       "  [128]),\n",
       " ('transformer/encoder/enc_layers/2/layernorm2/beta/.OPTIMIZER_SLOT/optimizer/v/.ATTRIBUTES/VARIABLE_VALUE',\n",
       "  [128]),\n",
       " ('transformer/encoder/enc_layers/2/layernorm2/gamma/.ATTRIBUTES/VARIABLE_VALUE',\n",
       "  [128]),\n",
       " ('transformer/encoder/enc_layers/2/layernorm2/gamma/.OPTIMIZER_SLOT/optimizer/m/.ATTRIBUTES/VARIABLE_VALUE',\n",
       "  [128]),\n",
       " ('transformer/encoder/enc_layers/2/layernorm2/gamma/.OPTIMIZER_SLOT/optimizer/v/.ATTRIBUTES/VARIABLE_VALUE',\n",
       "  [128]),\n",
       " ('transformer/encoder/enc_layers/2/mha/dense/bias/.ATTRIBUTES/VARIABLE_VALUE',\n",
       "  [128]),\n",
       " ('transformer/encoder/enc_layers/2/mha/dense/bias/.OPTIMIZER_SLOT/optimizer/m/.ATTRIBUTES/VARIABLE_VALUE',\n",
       "  [128]),\n",
       " ('transformer/encoder/enc_layers/2/mha/dense/bias/.OPTIMIZER_SLOT/optimizer/v/.ATTRIBUTES/VARIABLE_VALUE',\n",
       "  [128]),\n",
       " ('transformer/encoder/enc_layers/2/mha/dense/kernel/.ATTRIBUTES/VARIABLE_VALUE',\n",
       "  [128, 128]),\n",
       " ('transformer/encoder/enc_layers/2/mha/dense/kernel/.OPTIMIZER_SLOT/optimizer/m/.ATTRIBUTES/VARIABLE_VALUE',\n",
       "  [128, 128]),\n",
       " ('transformer/encoder/enc_layers/2/mha/dense/kernel/.OPTIMIZER_SLOT/optimizer/v/.ATTRIBUTES/VARIABLE_VALUE',\n",
       "  [128, 128]),\n",
       " ('transformer/encoder/enc_layers/2/mha/wk/bias/.ATTRIBUTES/VARIABLE_VALUE',\n",
       "  [128]),\n",
       " ('transformer/encoder/enc_layers/2/mha/wk/bias/.OPTIMIZER_SLOT/optimizer/m/.ATTRIBUTES/VARIABLE_VALUE',\n",
       "  [128]),\n",
       " ('transformer/encoder/enc_layers/2/mha/wk/bias/.OPTIMIZER_SLOT/optimizer/v/.ATTRIBUTES/VARIABLE_VALUE',\n",
       "  [128]),\n",
       " ('transformer/encoder/enc_layers/2/mha/wk/kernel/.ATTRIBUTES/VARIABLE_VALUE',\n",
       "  [128, 128]),\n",
       " ('transformer/encoder/enc_layers/2/mha/wk/kernel/.OPTIMIZER_SLOT/optimizer/m/.ATTRIBUTES/VARIABLE_VALUE',\n",
       "  [128, 128]),\n",
       " ('transformer/encoder/enc_layers/2/mha/wk/kernel/.OPTIMIZER_SLOT/optimizer/v/.ATTRIBUTES/VARIABLE_VALUE',\n",
       "  [128, 128]),\n",
       " ('transformer/encoder/enc_layers/2/mha/wq/bias/.ATTRIBUTES/VARIABLE_VALUE',\n",
       "  [128]),\n",
       " ('transformer/encoder/enc_layers/2/mha/wq/bias/.OPTIMIZER_SLOT/optimizer/m/.ATTRIBUTES/VARIABLE_VALUE',\n",
       "  [128]),\n",
       " ('transformer/encoder/enc_layers/2/mha/wq/bias/.OPTIMIZER_SLOT/optimizer/v/.ATTRIBUTES/VARIABLE_VALUE',\n",
       "  [128]),\n",
       " ('transformer/encoder/enc_layers/2/mha/wq/kernel/.ATTRIBUTES/VARIABLE_VALUE',\n",
       "  [128, 128]),\n",
       " ('transformer/encoder/enc_layers/2/mha/wq/kernel/.OPTIMIZER_SLOT/optimizer/m/.ATTRIBUTES/VARIABLE_VALUE',\n",
       "  [128, 128]),\n",
       " ('transformer/encoder/enc_layers/2/mha/wq/kernel/.OPTIMIZER_SLOT/optimizer/v/.ATTRIBUTES/VARIABLE_VALUE',\n",
       "  [128, 128]),\n",
       " ('transformer/encoder/enc_layers/2/mha/wv/bias/.ATTRIBUTES/VARIABLE_VALUE',\n",
       "  [128]),\n",
       " ('transformer/encoder/enc_layers/2/mha/wv/bias/.OPTIMIZER_SLOT/optimizer/m/.ATTRIBUTES/VARIABLE_VALUE',\n",
       "  [128]),\n",
       " ('transformer/encoder/enc_layers/2/mha/wv/bias/.OPTIMIZER_SLOT/optimizer/v/.ATTRIBUTES/VARIABLE_VALUE',\n",
       "  [128]),\n",
       " ('transformer/encoder/enc_layers/2/mha/wv/kernel/.ATTRIBUTES/VARIABLE_VALUE',\n",
       "  [128, 128]),\n",
       " ('transformer/encoder/enc_layers/2/mha/wv/kernel/.OPTIMIZER_SLOT/optimizer/m/.ATTRIBUTES/VARIABLE_VALUE',\n",
       "  [128, 128]),\n",
       " ('transformer/encoder/enc_layers/2/mha/wv/kernel/.OPTIMIZER_SLOT/optimizer/v/.ATTRIBUTES/VARIABLE_VALUE',\n",
       "  [128, 128]),\n",
       " ('transformer/encoder/enc_layers/3/ffn/layer-0/bias/.ATTRIBUTES/VARIABLE_VALUE',\n",
       "  [512]),\n",
       " ('transformer/encoder/enc_layers/3/ffn/layer-0/bias/.OPTIMIZER_SLOT/optimizer/m/.ATTRIBUTES/VARIABLE_VALUE',\n",
       "  [512]),\n",
       " ('transformer/encoder/enc_layers/3/ffn/layer-0/bias/.OPTIMIZER_SLOT/optimizer/v/.ATTRIBUTES/VARIABLE_VALUE',\n",
       "  [512]),\n",
       " ('transformer/encoder/enc_layers/3/ffn/layer-0/kernel/.ATTRIBUTES/VARIABLE_VALUE',\n",
       "  [128, 512]),\n",
       " ('transformer/encoder/enc_layers/3/ffn/layer-0/kernel/.OPTIMIZER_SLOT/optimizer/m/.ATTRIBUTES/VARIABLE_VALUE',\n",
       "  [128, 512]),\n",
       " ('transformer/encoder/enc_layers/3/ffn/layer-0/kernel/.OPTIMIZER_SLOT/optimizer/v/.ATTRIBUTES/VARIABLE_VALUE',\n",
       "  [128, 512]),\n",
       " ('transformer/encoder/enc_layers/3/ffn/layer-1/bias/.ATTRIBUTES/VARIABLE_VALUE',\n",
       "  [128]),\n",
       " ('transformer/encoder/enc_layers/3/ffn/layer-1/bias/.OPTIMIZER_SLOT/optimizer/m/.ATTRIBUTES/VARIABLE_VALUE',\n",
       "  [128]),\n",
       " ('transformer/encoder/enc_layers/3/ffn/layer-1/bias/.OPTIMIZER_SLOT/optimizer/v/.ATTRIBUTES/VARIABLE_VALUE',\n",
       "  [128]),\n",
       " ('transformer/encoder/enc_layers/3/ffn/layer-1/kernel/.ATTRIBUTES/VARIABLE_VALUE',\n",
       "  [512, 128]),\n",
       " ('transformer/encoder/enc_layers/3/ffn/layer-1/kernel/.OPTIMIZER_SLOT/optimizer/m/.ATTRIBUTES/VARIABLE_VALUE',\n",
       "  [512, 128]),\n",
       " ('transformer/encoder/enc_layers/3/ffn/layer-1/kernel/.OPTIMIZER_SLOT/optimizer/v/.ATTRIBUTES/VARIABLE_VALUE',\n",
       "  [512, 128]),\n",
       " ('transformer/encoder/enc_layers/3/layernorm1/beta/.ATTRIBUTES/VARIABLE_VALUE',\n",
       "  [128]),\n",
       " ('transformer/encoder/enc_layers/3/layernorm1/beta/.OPTIMIZER_SLOT/optimizer/m/.ATTRIBUTES/VARIABLE_VALUE',\n",
       "  [128]),\n",
       " ('transformer/encoder/enc_layers/3/layernorm1/beta/.OPTIMIZER_SLOT/optimizer/v/.ATTRIBUTES/VARIABLE_VALUE',\n",
       "  [128]),\n",
       " ('transformer/encoder/enc_layers/3/layernorm1/gamma/.ATTRIBUTES/VARIABLE_VALUE',\n",
       "  [128]),\n",
       " ('transformer/encoder/enc_layers/3/layernorm1/gamma/.OPTIMIZER_SLOT/optimizer/m/.ATTRIBUTES/VARIABLE_VALUE',\n",
       "  [128]),\n",
       " ('transformer/encoder/enc_layers/3/layernorm1/gamma/.OPTIMIZER_SLOT/optimizer/v/.ATTRIBUTES/VARIABLE_VALUE',\n",
       "  [128]),\n",
       " ('transformer/encoder/enc_layers/3/layernorm2/beta/.ATTRIBUTES/VARIABLE_VALUE',\n",
       "  [128]),\n",
       " ('transformer/encoder/enc_layers/3/layernorm2/beta/.OPTIMIZER_SLOT/optimizer/m/.ATTRIBUTES/VARIABLE_VALUE',\n",
       "  [128]),\n",
       " ('transformer/encoder/enc_layers/3/layernorm2/beta/.OPTIMIZER_SLOT/optimizer/v/.ATTRIBUTES/VARIABLE_VALUE',\n",
       "  [128]),\n",
       " ('transformer/encoder/enc_layers/3/layernorm2/gamma/.ATTRIBUTES/VARIABLE_VALUE',\n",
       "  [128]),\n",
       " ('transformer/encoder/enc_layers/3/layernorm2/gamma/.OPTIMIZER_SLOT/optimizer/m/.ATTRIBUTES/VARIABLE_VALUE',\n",
       "  [128]),\n",
       " ('transformer/encoder/enc_layers/3/layernorm2/gamma/.OPTIMIZER_SLOT/optimizer/v/.ATTRIBUTES/VARIABLE_VALUE',\n",
       "  [128]),\n",
       " ('transformer/encoder/enc_layers/3/mha/dense/bias/.ATTRIBUTES/VARIABLE_VALUE',\n",
       "  [128]),\n",
       " ('transformer/encoder/enc_layers/3/mha/dense/bias/.OPTIMIZER_SLOT/optimizer/m/.ATTRIBUTES/VARIABLE_VALUE',\n",
       "  [128]),\n",
       " ('transformer/encoder/enc_layers/3/mha/dense/bias/.OPTIMIZER_SLOT/optimizer/v/.ATTRIBUTES/VARIABLE_VALUE',\n",
       "  [128]),\n",
       " ('transformer/encoder/enc_layers/3/mha/dense/kernel/.ATTRIBUTES/VARIABLE_VALUE',\n",
       "  [128, 128]),\n",
       " ('transformer/encoder/enc_layers/3/mha/dense/kernel/.OPTIMIZER_SLOT/optimizer/m/.ATTRIBUTES/VARIABLE_VALUE',\n",
       "  [128, 128]),\n",
       " ('transformer/encoder/enc_layers/3/mha/dense/kernel/.OPTIMIZER_SLOT/optimizer/v/.ATTRIBUTES/VARIABLE_VALUE',\n",
       "  [128, 128]),\n",
       " ('transformer/encoder/enc_layers/3/mha/wk/bias/.ATTRIBUTES/VARIABLE_VALUE',\n",
       "  [128]),\n",
       " ('transformer/encoder/enc_layers/3/mha/wk/bias/.OPTIMIZER_SLOT/optimizer/m/.ATTRIBUTES/VARIABLE_VALUE',\n",
       "  [128]),\n",
       " ('transformer/encoder/enc_layers/3/mha/wk/bias/.OPTIMIZER_SLOT/optimizer/v/.ATTRIBUTES/VARIABLE_VALUE',\n",
       "  [128]),\n",
       " ('transformer/encoder/enc_layers/3/mha/wk/kernel/.ATTRIBUTES/VARIABLE_VALUE',\n",
       "  [128, 128]),\n",
       " ('transformer/encoder/enc_layers/3/mha/wk/kernel/.OPTIMIZER_SLOT/optimizer/m/.ATTRIBUTES/VARIABLE_VALUE',\n",
       "  [128, 128]),\n",
       " ('transformer/encoder/enc_layers/3/mha/wk/kernel/.OPTIMIZER_SLOT/optimizer/v/.ATTRIBUTES/VARIABLE_VALUE',\n",
       "  [128, 128]),\n",
       " ('transformer/encoder/enc_layers/3/mha/wq/bias/.ATTRIBUTES/VARIABLE_VALUE',\n",
       "  [128]),\n",
       " ('transformer/encoder/enc_layers/3/mha/wq/bias/.OPTIMIZER_SLOT/optimizer/m/.ATTRIBUTES/VARIABLE_VALUE',\n",
       "  [128]),\n",
       " ('transformer/encoder/enc_layers/3/mha/wq/bias/.OPTIMIZER_SLOT/optimizer/v/.ATTRIBUTES/VARIABLE_VALUE',\n",
       "  [128]),\n",
       " ('transformer/encoder/enc_layers/3/mha/wq/kernel/.ATTRIBUTES/VARIABLE_VALUE',\n",
       "  [128, 128]),\n",
       " ('transformer/encoder/enc_layers/3/mha/wq/kernel/.OPTIMIZER_SLOT/optimizer/m/.ATTRIBUTES/VARIABLE_VALUE',\n",
       "  [128, 128]),\n",
       " ('transformer/encoder/enc_layers/3/mha/wq/kernel/.OPTIMIZER_SLOT/optimizer/v/.ATTRIBUTES/VARIABLE_VALUE',\n",
       "  [128, 128]),\n",
       " ('transformer/encoder/enc_layers/3/mha/wv/bias/.ATTRIBUTES/VARIABLE_VALUE',\n",
       "  [128]),\n",
       " ('transformer/encoder/enc_layers/3/mha/wv/bias/.OPTIMIZER_SLOT/optimizer/m/.ATTRIBUTES/VARIABLE_VALUE',\n",
       "  [128]),\n",
       " ('transformer/encoder/enc_layers/3/mha/wv/bias/.OPTIMIZER_SLOT/optimizer/v/.ATTRIBUTES/VARIABLE_VALUE',\n",
       "  [128]),\n",
       " ('transformer/encoder/enc_layers/3/mha/wv/kernel/.ATTRIBUTES/VARIABLE_VALUE',\n",
       "  [128, 128]),\n",
       " ('transformer/encoder/enc_layers/3/mha/wv/kernel/.OPTIMIZER_SLOT/optimizer/m/.ATTRIBUTES/VARIABLE_VALUE',\n",
       "  [128, 128]),\n",
       " ('transformer/encoder/enc_layers/3/mha/wv/kernel/.OPTIMIZER_SLOT/optimizer/v/.ATTRIBUTES/VARIABLE_VALUE',\n",
       "  [128, 128]),\n",
       " ('transformer/final_layer/bias/.ATTRIBUTES/VARIABLE_VALUE', [51112]),\n",
       " ('transformer/final_layer/bias/.OPTIMIZER_SLOT/optimizer/m/.ATTRIBUTES/VARIABLE_VALUE',\n",
       "  [51112]),\n",
       " ('transformer/final_layer/bias/.OPTIMIZER_SLOT/optimizer/v/.ATTRIBUTES/VARIABLE_VALUE',\n",
       "  [51112]),\n",
       " ('transformer/final_layer/kernel/.ATTRIBUTES/VARIABLE_VALUE', [128, 51112]),\n",
       " ('transformer/final_layer/kernel/.OPTIMIZER_SLOT/optimizer/m/.ATTRIBUTES/VARIABLE_VALUE',\n",
       "  [128, 51112]),\n",
       " ('transformer/final_layer/kernel/.OPTIMIZER_SLOT/optimizer/v/.ATTRIBUTES/VARIABLE_VALUE',\n",
       "  [128, 51112])]"
      ]
     },
     "execution_count": 167,
     "metadata": {},
     "output_type": "execute_result"
    }
   ],
   "source": [
    "tf.train.list_variables(tf.train.latest_checkpoint('/home/work/nlp/checkpoints/train'))"
   ]
  }
 ],
 "metadata": {
  "kernelspec": {
   "display_name": "Python 3.5 (NGC/TensorFlow 19.02) on Backend.AI",
   "language": "python",
   "name": "python3"
  },
  "language_info": {
   "codemirror_mode": {
    "name": "ipython",
    "version": 3
   },
   "file_extension": ".py",
   "mimetype": "text/x-python",
   "name": "python",
   "nbconvert_exporter": "python",
   "pygments_lexer": "ipython3",
   "version": "3.5.2"
  }
 },
 "nbformat": 4,
 "nbformat_minor": 2
}
