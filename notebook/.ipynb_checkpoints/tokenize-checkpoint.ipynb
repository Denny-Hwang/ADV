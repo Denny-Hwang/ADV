{
 "cells": [
  {
   "cell_type": "code",
   "execution_count": 1,
   "metadata": {
    "ExecuteTime": {
     "end_time": "2019-10-16T04:11:28.947668Z",
     "start_time": "2019-10-16T04:11:21.580820Z"
    }
   },
   "outputs": [],
   "source": [
    "import pandas as pd\n",
    "import numpy as np"
   ]
  },
  {
   "cell_type": "code",
   "execution_count": 3,
   "metadata": {
    "ExecuteTime": {
     "end_time": "2019-10-16T04:11:44.700600Z",
     "start_time": "2019-10-16T04:11:41.713279Z"
    }
   },
   "outputs": [],
   "source": [
    "raw = pd.read_csv('../data/10_thousand.csv')"
   ]
  },
  {
   "cell_type": "code",
   "execution_count": 29,
   "metadata": {
    "ExecuteTime": {
     "end_time": "2019-10-16T04:16:35.842654Z",
     "start_time": "2019-10-16T04:16:35.783687Z"
    }
   },
   "outputs": [
    {
     "name": "stdout",
     "output_type": "stream",
     "text": [
      "<class 'pandas.core.frame.DataFrame'>\n",
      "RangeIndex: 99999 entries, 0 to 99998\n",
      "Data columns (total 2 columns):\n",
      "original       99996 non-null object\n",
      "translation    99996 non-null object\n",
      "dtypes: object(2)\n",
      "memory usage: 1.5+ MB\n"
     ]
    }
   ],
   "source": [
    "raw.info()"
   ]
  },
  {
   "cell_type": "code",
   "execution_count": 31,
   "metadata": {
    "ExecuteTime": {
     "end_time": "2019-10-16T04:16:56.989534Z",
     "start_time": "2019-10-16T04:16:56.933563Z"
    }
   },
   "outputs": [],
   "source": [
    "raw.dropna(inplace=True)"
   ]
  },
  {
   "cell_type": "code",
   "execution_count": 32,
   "metadata": {
    "ExecuteTime": {
     "end_time": "2019-10-16T04:16:58.886446Z",
     "start_time": "2019-10-16T04:16:58.878451Z"
    }
   },
   "outputs": [],
   "source": [
    "origin = raw.original.copy()"
   ]
  },
  {
   "cell_type": "code",
   "execution_count": 33,
   "metadata": {
    "ExecuteTime": {
     "end_time": "2019-10-16T04:17:00.830330Z",
     "start_time": "2019-10-16T04:17:00.733384Z"
    }
   },
   "outputs": [],
   "source": [
    "origin  = origin.str.strip() # 앞뒤 공백 제거"
   ]
  },
  {
   "cell_type": "code",
   "execution_count": 34,
   "metadata": {
    "ExecuteTime": {
     "end_time": "2019-10-16T04:17:00.944265Z",
     "start_time": "2019-10-16T04:17:00.935269Z"
    }
   },
   "outputs": [
    {
     "data": {
      "text/plain": [
       "0    ○丙申/十七日丙申, 太祖卽位于壽昌宮。 先是, 是月十二日辛卯, 恭讓將幸太祖第, 置酒與...\n",
       "1    ○上在潛邸, 夢有神人執金尺自天而降, 授之曰: \"慶侍中 復興, 淸矣而已老; 崔都統 瑩...\n",
       "2                       ○丁酉/雨。 前此久旱, 及上卽位, 霈然下雨, 人心大悅。\n",
       "3    竊謂小邦, 至恭愍王薨無嗣, 逆臣辛旽子禑爲權臣李仁任等所立。 禑乃昏暴狂恣, 多殺無辜, ...\n",
       "4                                  ○立義興親軍衛, 罷都摠中外諸軍事府。\n",
       "Name: original, dtype: object"
      ]
     },
     "execution_count": 34,
     "metadata": {},
     "output_type": "execute_result"
    }
   ],
   "source": [
    "origin.head()"
   ]
  },
  {
   "cell_type": "markdown",
   "metadata": {},
   "source": [
    "## 한자 전처리\n",
    "1. 특수문자와 한자별로 토큰화한다.\n",
    "2. 특수문자도 의미가 있으니 없애지 않는다. \n",
    "3. 띄어쓰기 제거해준다."
   ]
  },
  {
   "cell_type": "code",
   "execution_count": 35,
   "metadata": {
    "ExecuteTime": {
     "end_time": "2019-10-16T04:17:02.725244Z",
     "start_time": "2019-10-16T04:17:02.720245Z"
    }
   },
   "outputs": [],
   "source": [
    "def origin_tokenize(string):\n",
    "    return np.array([ch for ch in string if ch !=' '])"
   ]
  },
  {
   "cell_type": "code",
   "execution_count": 37,
   "metadata": {
    "ExecuteTime": {
     "end_time": "2019-10-16T04:17:40.205876Z",
     "start_time": "2019-10-16T04:17:35.905221Z"
    }
   },
   "outputs": [],
   "source": [
    "origin_tokenized = origin.apply(origin_tokenize)"
   ]
  },
  {
   "cell_type": "code",
   "execution_count": 38,
   "metadata": {
    "ExecuteTime": {
     "end_time": "2019-10-16T04:17:40.232742Z",
     "start_time": "2019-10-16T04:17:40.208754Z"
    }
   },
   "outputs": [
    {
     "data": {
      "text/plain": [
       "0        [○, 丙, 申, /, 十, 七, 日, 丙, 申, ,, 太, 祖, 卽, 位, 于, ...\n",
       "1        [○, 上, 在, 潛, 邸, ,, 夢, 有, 神, 人, 執, 金, 尺, 自, 天, ...\n",
       "2        [○, 丁, 酉, /, 雨, 。, 前, 此, 久, 旱, ,, 及, 上, 卽, 位, ...\n",
       "3        [竊, 謂, 小, 邦, ,, 至, 恭, 愍, 王, 薨, 無, 嗣, ,, 逆, 臣, ...\n",
       "4        [○, 立, 義, 興, 親, 軍, 衛, ,, 罷, 都, 摠, 中, 外, 諸, 軍, ...\n",
       "                               ...                        \n",
       "99994                          [○, 朔, 己, 亥, /, 受, 朝, 賀, 。]\n",
       "99995    [○, 御, 書, 承, 旨, 金, 勘, 所, 製, 雪, 詩, ,, 粧, 簇, 賜, ...\n",
       "99996    [○, 掌, 令, 金, 千, 齡, 、, 正, 言, 金, 祉, 啓, :, \", 待, ...\n",
       "99997    [○, 庚, 子, /, 莫, 金, 入, 南, 賓, 廳, 擊, 錚, ,, 兵, 曹, ...\n",
       "99998    [○, 辛, 丑, /, 傳, 曰, :, \", 今, 後, 國, 忌, 日, ,, 世, ...\n",
       "Name: original, Length: 99996, dtype: object"
      ]
     },
     "execution_count": 38,
     "metadata": {},
     "output_type": "execute_result"
    }
   ],
   "source": [
    "origin_tokenized"
   ]
  },
  {
   "cell_type": "markdown",
   "metadata": {},
   "source": [
    "## 한글 전처리\n",
    "1. 괄호 속 한자, 형태소분석 불가능한 특수문자 삭제한다\n",
    "2. 한글 형태소 분석기로 형태소 토큰화한다."
   ]
  },
  {
   "cell_type": "code",
   "execution_count": 210,
   "metadata": {
    "ExecuteTime": {
     "end_time": "2019-10-16T04:50:20.291752Z",
     "start_time": "2019-10-16T04:50:20.231791Z"
    }
   },
   "outputs": [],
   "source": [
    "trans = raw.translation.copy()"
   ]
  },
  {
   "cell_type": "code",
   "execution_count": 211,
   "metadata": {
    "ExecuteTime": {
     "end_time": "2019-10-16T04:50:20.480660Z",
     "start_time": "2019-10-16T04:50:20.367726Z"
    }
   },
   "outputs": [],
   "source": [
    "trans = trans.str.strip()"
   ]
  },
  {
   "cell_type": "code",
   "execution_count": 212,
   "metadata": {
    "ExecuteTime": {
     "end_time": "2019-10-16T04:50:20.515627Z",
     "start_time": "2019-10-16T04:50:20.511630Z"
    }
   },
   "outputs": [],
   "source": [
    "import re\n",
    "import string"
   ]
  },
  {
   "cell_type": "code",
   "execution_count": 213,
   "metadata": {
    "ExecuteTime": {
     "end_time": "2019-10-16T04:50:20.639574Z",
     "start_time": "2019-10-16T04:50:20.633555Z"
    }
   },
   "outputs": [],
   "source": [
    "def remove_chn(trans_string):\n",
    "    return re.sub(r'[^ㄱ-ㅎ|ㅏ-ㅣ|가-힣|0-9|\\.\\,\\·\\\"\\'\\s\\!\\?]', '', trans_string)"
   ]
  },
  {
   "cell_type": "code",
   "execution_count": 214,
   "metadata": {
    "ExecuteTime": {
     "end_time": "2019-10-16T04:50:26.379279Z",
     "start_time": "2019-10-16T04:50:20.753487Z"
    }
   },
   "outputs": [],
   "source": [
    "trans = trans.apply(remove_chn)"
   ]
  },
  {
   "cell_type": "code",
   "execution_count": 215,
   "metadata": {
    "ExecuteTime": {
     "end_time": "2019-10-16T04:50:26.397253Z",
     "start_time": "2019-10-16T04:50:26.382260Z"
    }
   },
   "outputs": [
    {
     "data": {
      "text/plain": [
       "'태조가 수창궁에서 왕위에 올랐다. 이보다 먼저 이달 12일에 공양왕이 장차 태조의 사제로 거둥하여 술자리를 베풀고 태조와 더불어 동맹하려고 하여 의장이 이미 늘어섰는데, 시중        배극렴 등이 왕대비에게 아뢰었다.\"지금 왕이 혼암하여 임금의 도리를 이미 잃고 인심도 이미 떠나갔으므로, 사직과 백성의 주재자가 될 수 없으니 이를 폐하기를 청합니다.\"마침내 왕대비의 교지를 받들어 공양왕을 폐하기로 일이 이미 결정되었는데, 남은이 드디어 문하 평리 정희계와 함께 교지를 가지고 북천동의 시좌궁001                  에 이르러 교지를 선포하니, 공양왕이 부복하고 명령을 듣고 말하기를,\"내가 본디 임금이 되고 싶지 않았는데 여러 신하들이 나를 강제로 왕으로 세웠습니다. 내가 성품이 불민하여 사기를 알지 못하니 어찌 신하의 심정을 거스린 일이 없겠습니까?\"하면서, 이내 울어 눈물이 두서너 줄기 흘러내리었다. 마침내 왕위를 물려주고 원주로 가니, 백관이 국새를 받들어 왕대비전에 두고 모든 정무를 나아가 품명하여 재결하였다. 13일임진에 대비가 교지를 선포하여 태조를 감록국사로 삼았다. 16일을미에 배극렴과 조준이 정도전·김사형·이제·이화·정희계·이지란·남은·장사길·정총·김인찬·조인옥·남재·조박·오몽을·정탁·윤호·이민도·조견·박포·조영규·조반·조온·조기·홍길민·유경·정용수·장담·안경공·김균·유원정·이직·이근·오사충·이서·조영무·이백유·이부·김로·손흥종·심효생·고여·장지화·함부림·한상경·황거정·임언충·장사정·민여익 등 대소신료와 한량기로 등이 국새를 받들고 태조의 저택에 나아가니 사람들이 마을의 골목에 꽉 메어 있었다. 대사헌        민개가 홀로 기뻐하지 않으면서 얼굴빛에 나타내고, 머리를 기울이고 말하지 않으므로 남은이 이를 쳐서 죽이고자 하니, 전하가 말하기를,\"의리상 죽일 수 없다.\"하면서 힘써 이를 말리었다. 이날 마침 족친의 여러 부인들이 태조와 강비를 알현하고, 물에 만 밥을 먹는데, 여러 부인들이 모두 놀라 두려워하여 북문으로 흩어져 가버'"
      ]
     },
     "execution_count": 215,
     "metadata": {},
     "output_type": "execute_result"
    }
   ],
   "source": [
    "trans[0][:1000]"
   ]
  },
  {
   "cell_type": "code",
   "execution_count": 216,
   "metadata": {
    "ExecuteTime": {
     "end_time": "2019-10-16T04:50:26.419241Z",
     "start_time": "2019-10-16T04:50:26.407251Z"
    }
   },
   "outputs": [],
   "source": [
    "from konlpy.tag import Komoran "
   ]
  },
  {
   "cell_type": "code",
   "execution_count": 217,
   "metadata": {
    "ExecuteTime": {
     "end_time": "2019-10-16T04:50:41.270742Z",
     "start_time": "2019-10-16T04:50:33.163372Z"
    }
   },
   "outputs": [],
   "source": [
    "tagger = Komoran()"
   ]
  },
  {
   "cell_type": "code",
   "execution_count": 221,
   "metadata": {
    "ExecuteTime": {
     "end_time": "2019-10-16T07:21:56.452485Z",
     "start_time": "2019-10-16T07:21:56.439492Z"
    }
   },
   "outputs": [],
   "source": [
    "def trans_tokenize(string):\n",
    "    try:\n",
    "        return tagger.pos(string, join=True)\n",
    "    except Exception as e:\n",
    "        print(e)\n",
    "        print(string)"
   ]
  },
  {
   "cell_type": "code",
   "execution_count": 224,
   "metadata": {
    "ExecuteTime": {
     "end_time": "2019-10-16T07:22:09.921688Z",
     "start_time": "2019-10-16T07:22:09.533910Z"
    }
   },
   "outputs": [],
   "source": [
    "trans_tokenized = trans.apply(trans_tokenize)"
   ]
  },
  {
   "cell_type": "code",
   "execution_count": 225,
   "metadata": {
    "ExecuteTime": {
     "end_time": "2019-10-16T07:22:11.634702Z",
     "start_time": "2019-10-16T07:22:11.614714Z"
    }
   },
   "outputs": [
    {
     "data": {
      "text/plain": [
       "0    [태조/NNP, 가/JKS, 수창/NNP, 궁/NNG, 에서/JKB, 왕위/NNP,...\n",
       "Name: translation, dtype: object"
      ]
     },
     "execution_count": 225,
     "metadata": {},
     "output_type": "execute_result"
    }
   ],
   "source": [
    "trans_tokenized"
   ]
  },
  {
   "cell_type": "markdown",
   "metadata": {},
   "source": [
    "## csv로 저장하기"
   ]
  },
  {
   "cell_type": "code",
   "execution_count": 141,
   "metadata": {
    "ExecuteTime": {
     "end_time": "2019-10-15T07:29:59.086015Z",
     "start_time": "2019-10-15T07:29:59.076016Z"
    }
   },
   "outputs": [],
   "source": [
    "result = origin_tokenized.to_frame().merge(trans_tokenized, left_index=True, right_index=True,how='inner')"
   ]
  },
  {
   "cell_type": "code",
   "execution_count": 142,
   "metadata": {
    "ExecuteTime": {
     "end_time": "2019-10-15T07:30:04.589872Z",
     "start_time": "2019-10-15T07:30:04.521894Z"
    }
   },
   "outputs": [
    {
     "name": "stdout",
     "output_type": "stream",
     "text": [
      "<class 'pandas.core.frame.DataFrame'>\n",
      "RangeIndex: 1514 entries, 0 to 1513\n",
      "Data columns (total 2 columns):\n",
      "original       1514 non-null object\n",
      "translation    1514 non-null object\n",
      "dtypes: object(2)\n",
      "memory usage: 23.8+ KB\n"
     ]
    }
   ],
   "source": [
    "result.info()"
   ]
  },
  {
   "cell_type": "code",
   "execution_count": 151,
   "metadata": {
    "ExecuteTime": {
     "end_time": "2019-10-15T07:46:28.472591Z",
     "start_time": "2019-10-15T07:46:28.415614Z"
    }
   },
   "outputs": [
    {
     "data": {
      "text/html": [
       "<div>\n",
       "<style scoped>\n",
       "    .dataframe tbody tr th:only-of-type {\n",
       "        vertical-align: middle;\n",
       "    }\n",
       "\n",
       "    .dataframe tbody tr th {\n",
       "        vertical-align: top;\n",
       "    }\n",
       "\n",
       "    .dataframe thead th {\n",
       "        text-align: right;\n",
       "    }\n",
       "</style>\n",
       "<table border=\"1\" class=\"dataframe\">\n",
       "  <thead>\n",
       "    <tr style=\"text-align: right;\">\n",
       "      <th></th>\n",
       "      <th>original</th>\n",
       "      <th>translation</th>\n",
       "    </tr>\n",
       "  </thead>\n",
       "  <tbody>\n",
       "    <tr>\n",
       "      <td>0</td>\n",
       "      <td>[○, 丙, 申, /, 十, 七, 日, 丙, 申, ,, 太, 祖, 卽, 位, 于, ...</td>\n",
       "      <td>[태조/NNP, 가/JKS, 수창/NNP, 궁/NNG, 에서/JKB, 왕위/NNP,...</td>\n",
       "    </tr>\n",
       "    <tr>\n",
       "      <td>1</td>\n",
       "      <td>[○, 上, 在, 潛, 邸, ,, 夢, 有, 神, 人, 執, 金, 尺, 自, 天, ...</td>\n",
       "      <td>[임금/NNG, 이/JKS, 잠/NNG, 저/NNG, 에/JKB, 있/VV, 을/E...</td>\n",
       "    </tr>\n",
       "    <tr>\n",
       "      <td>2</td>\n",
       "      <td>[○, 丁, 酉, /, 雨, 。, 前, 此, 久, 旱, ,, 及, 上, 卽, 位, ...</td>\n",
       "      <td>[비/NNG, 가/JKS, 내리/VV, 었/EP, 다/EF, ./SF, 이/NP, ...</td>\n",
       "    </tr>\n",
       "    <tr>\n",
       "      <td>3</td>\n",
       "      <td>[○, 都, 評, 議, 使, 司, 及, 大, 小, 臣, 僚, 、, 閑, 良, 、, ...</td>\n",
       "      <td>[도평의사사/NNP, 및/MAJ, 대소/NNG, 신료와/NA, 한량/NNP, ·/S...</td>\n",
       "    </tr>\n",
       "    <tr>\n",
       "      <td>4</td>\n",
       "      <td>[○, 立, 義, 興, 親, 軍, 衛, ,, 罷, 都, 摠, 中, 外, 諸, 軍, ...</td>\n",
       "      <td>[의/NNG, 흥/NNG, 친군위/NNG, 를/JKO, 설치/NNG, 하/XSV, ...</td>\n",
       "    </tr>\n",
       "    <tr>\n",
       "      <td>...</td>\n",
       "      <td>...</td>\n",
       "      <td>...</td>\n",
       "    </tr>\n",
       "    <tr>\n",
       "      <td>1509</td>\n",
       "      <td>[○, 幸, 敬, 天, 寺, ,, 設, 華, 嚴, 法, 席, ,, 薦, 神, 德, ...</td>\n",
       "      <td>[경/NNP, 천사/NNP, 에/JKB, 거/NNB, 둥/NNB, 하/XSA, 아/...</td>\n",
       "    </tr>\n",
       "    <tr>\n",
       "      <td>1510</td>\n",
       "      <td>[○, 戊, 午, /, 以, 前, 判, 事, 金, 原, 浩, 女, 爲, 宮, 人, 。]</td>\n",
       "      <td>[전/MM, 판사/NNP, 김/NNP, 원호/NNP, 의/JKG, 딸/NNG, 로/...</td>\n",
       "    </tr>\n",
       "    <tr>\n",
       "      <td>1511</td>\n",
       "      <td>[○, 辛, 酉, /, 參, 贊, 門, 下, 府, 事, 安, 翊, 、, 同, 知, ...</td>\n",
       "      <td>[참/NNG, 찬/NNG, 문하/NNG, 부사/NNP, 안/NNG, 익/NNG, ·...</td>\n",
       "    </tr>\n",
       "    <tr>\n",
       "      <td>1512</td>\n",
       "      <td>[○, 壬, 戌, /, 日, 暈, 。, 夜, ,, 南, 有, 赤, 白, 氣, 。]</td>\n",
       "      <td>[햇무리/NNG, 하/XSV, 고/EC, ,/SP, 밤/NNG, 에/JKB, 남쪽/...</td>\n",
       "    </tr>\n",
       "    <tr>\n",
       "      <td>1513</td>\n",
       "      <td>[○, 戊, 辰, /, 尙, 瑞, 司, 判, 事, 趙, 浚, 、, 鄭, 道, 傳, ...</td>\n",
       "      <td>[상서/NNP, 사/NNG, 판사/NNP, 조준/NNP, ·/SP, 정도전/NNP,...</td>\n",
       "    </tr>\n",
       "  </tbody>\n",
       "</table>\n",
       "<p>1514 rows × 2 columns</p>\n",
       "</div>"
      ],
      "text/plain": [
       "                                               original  \\\n",
       "0     [○, 丙, 申, /, 十, 七, 日, 丙, 申, ,, 太, 祖, 卽, 位, 于, ...   \n",
       "1     [○, 上, 在, 潛, 邸, ,, 夢, 有, 神, 人, 執, 金, 尺, 自, 天, ...   \n",
       "2     [○, 丁, 酉, /, 雨, 。, 前, 此, 久, 旱, ,, 及, 上, 卽, 位, ...   \n",
       "3     [○, 都, 評, 議, 使, 司, 及, 大, 小, 臣, 僚, 、, 閑, 良, 、, ...   \n",
       "4     [○, 立, 義, 興, 親, 軍, 衛, ,, 罷, 都, 摠, 中, 外, 諸, 軍, ...   \n",
       "...                                                 ...   \n",
       "1509  [○, 幸, 敬, 天, 寺, ,, 設, 華, 嚴, 法, 席, ,, 薦, 神, 德, ...   \n",
       "1510   [○, 戊, 午, /, 以, 前, 判, 事, 金, 原, 浩, 女, 爲, 宮, 人, 。]   \n",
       "1511  [○, 辛, 酉, /, 參, 贊, 門, 下, 府, 事, 安, 翊, 、, 同, 知, ...   \n",
       "1512      [○, 壬, 戌, /, 日, 暈, 。, 夜, ,, 南, 有, 赤, 白, 氣, 。]   \n",
       "1513  [○, 戊, 辰, /, 尙, 瑞, 司, 判, 事, 趙, 浚, 、, 鄭, 道, 傳, ...   \n",
       "\n",
       "                                            translation  \n",
       "0     [태조/NNP, 가/JKS, 수창/NNP, 궁/NNG, 에서/JKB, 왕위/NNP,...  \n",
       "1     [임금/NNG, 이/JKS, 잠/NNG, 저/NNG, 에/JKB, 있/VV, 을/E...  \n",
       "2     [비/NNG, 가/JKS, 내리/VV, 었/EP, 다/EF, ./SF, 이/NP, ...  \n",
       "3     [도평의사사/NNP, 및/MAJ, 대소/NNG, 신료와/NA, 한량/NNP, ·/S...  \n",
       "4     [의/NNG, 흥/NNG, 친군위/NNG, 를/JKO, 설치/NNG, 하/XSV, ...  \n",
       "...                                                 ...  \n",
       "1509  [경/NNP, 천사/NNP, 에/JKB, 거/NNB, 둥/NNB, 하/XSA, 아/...  \n",
       "1510  [전/MM, 판사/NNP, 김/NNP, 원호/NNP, 의/JKG, 딸/NNG, 로/...  \n",
       "1511  [참/NNG, 찬/NNG, 문하/NNG, 부사/NNP, 안/NNG, 익/NNG, ·...  \n",
       "1512  [햇무리/NNG, 하/XSV, 고/EC, ,/SP, 밤/NNG, 에/JKB, 남쪽/...  \n",
       "1513  [상서/NNP, 사/NNG, 판사/NNP, 조준/NNP, ·/SP, 정도전/NNP,...  \n",
       "\n",
       "[1514 rows x 2 columns]"
      ]
     },
     "execution_count": 151,
     "metadata": {},
     "output_type": "execute_result"
    }
   ],
   "source": [
    "result"
   ]
  },
  {
   "cell_type": "code",
   "execution_count": 155,
   "metadata": {
    "ExecuteTime": {
     "end_time": "2019-10-15T07:52:52.701962Z",
     "start_time": "2019-10-15T07:52:52.044290Z"
    }
   },
   "outputs": [],
   "source": [
    "result.to_csv('../data/tokenized_1514.csv',index=False, encoding='utf-16')"
   ]
  },
  {
   "cell_type": "code",
   "execution_count": 160,
   "metadata": {
    "ExecuteTime": {
     "end_time": "2019-10-15T07:58:35.041691Z",
     "start_time": "2019-10-15T07:58:34.389065Z"
    }
   },
   "outputs": [],
   "source": [
    "result.to_hdf('../data/tokenized_1514.hdf','df')"
   ]
  }
 ],
 "metadata": {
  "kernelspec": {
   "display_name": "Python 3",
   "language": "python",
   "name": "python3"
  },
  "language_info": {
   "codemirror_mode": {
    "name": "ipython",
    "version": 3
   },
   "file_extension": ".py",
   "mimetype": "text/x-python",
   "name": "python",
   "nbconvert_exporter": "python",
   "pygments_lexer": "ipython3",
   "version": "3.7.4"
  }
 },
 "nbformat": 4,
 "nbformat_minor": 2
}
